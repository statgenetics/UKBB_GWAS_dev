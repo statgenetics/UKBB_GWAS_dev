{
 "cells": [
  {
   "cell_type": "markdown",
   "metadata": {
    "kernel": "SoS"
   },
   "source": [
    "# Analysis of hearing impairment phenotypes"
   ]
  },
  {
   "cell_type": "markdown",
   "metadata": {
    "kernel": "SoS"
   },
   "source": [
    "This notebook applies the `Get_Job_Script.ipynb` to automatically generate the sbatch scripts to run in Yale's cluster. The end result is to apply [various LMM workflows](https://github.com/statgenetics/UKBB_GWAS_dev/tree/master/workflow) to perform association analysis in different hearing impairment traits, do clumping analysis and extract associated regions.\n",
    "\n",
    "The phenotypes analyzed are:\n",
    "\n",
    "1. Hearing aid f.3393\n",
    "2. Hearing difficulty f.2247\n",
    "3. Hearing difficulty with background noise f.2257\n",
    "4. Combined phenotype f.2247 & f.2257"
   ]
  },
  {
   "cell_type": "markdown",
   "metadata": {
    "kernel": "SoS"
   },
   "source": [
    "## File paths on Yale cluster\n",
    "\n",
    "- Genotype files in PLINK format:\n",
    "`/gpfs/gibbs/pi/dewan/data/UKBiobank/genotype_files/pleiotropy_geneticfiles/UKB_Caucasians_phenotypeindepqc120319_updated020720removedwithdrawnindiv`\n",
    "- Genotype files in bgen format:\n",
    "`/gpfs/gibbs/pi/dewan/data/UKBiobank/genotype_files/ukb39554_imputeddataset/`\n",
    "- Summary stats for imputed variants BOLT-LMM:\n",
    "`/gpfs/gibbs/pi/dewan/data/UKBiobank/results/BOLTLMM_results/results_imputed_data`\n",
    "- Summary stats for inputed variants FastGWA:\n",
    "`/gpfs/gibbs/pi/dewan/data/UKBiobank/results/FastGWA_results/results_imputed_data`\n",
    "- Phenotype files:\n",
    "`/gpfs/gibbs/pi/dewan/data/UKBiobank/phenotype_files/hearing_impairment`\n",
    "- Relationship file:\n",
    "`/gpfs/gibbs/pi/dewan/data/UKBiobank/genotype_files/pleiotropy_geneticfiles/unrelated_n307259/UKB_unrelatedcauc_phenotypes_asthmat2dbmiwaisthip_agesex_waisthipratio_040620`"
   ]
  },
  {
   "cell_type": "markdown",
   "metadata": {
    "kernel": "SoS"
   },
   "source": [
    "## Create symlinks to necessary folders in your home dir\n",
    "\n",
    "```\n",
    "ln -s /mnt/mfs/statgen/archive/UKBiobank_Yale_transfer ~/\n",
    "ln -s /mnt/mfs/statgen/UKBiobank ~/\n",
    "ln -s /mnt/mfs/statgen/containers ~/\n",
    "```\n",
    "\n",
    "## Fork and clone bioworkflows and UKBB_GWAS_dev repos to a folder called project\n",
    "\n",
    "```\n",
    "mkdir project \n",
    "git clone https://github.com/statgenetics/UKBB_GWAS_dev.git\n",
    "git clone https://github.com/cumc/bioworkflows.git`m\n",
    "```\n",
    "\n"
   ]
  },
  {
   "cell_type": "markdown",
   "metadata": {
    "kernel": "SoS"
   },
   "source": [
    "## 08/31/20 analysis\n",
    "\n",
    "On the cluster, open up this notebook using the JupyterLab server you set up via the ssh channel, then run the following cells,"
   ]
  },
  {
   "cell_type": "markdown",
   "metadata": {
    "kernel": "SoS"
   },
   "source": [
    "## Bash variables for workflow configuration"
   ]
  },
  {
   "cell_type": "markdown",
   "metadata": {
    "kernel": "SoS"
   },
   "source": [
    "### Yale's cluster\n",
    "\n",
    "Run this cell when working on Yale's cluster"
   ]
  },
  {
   "cell_type": "code",
   "execution_count": 4,
   "metadata": {
    "kernel": "Bash"
   },
   "outputs": [],
   "source": [
    "# Common variables Yale cluster\n",
    "UKBB_PATH=/gpfs/gibbs/pi/dewan/data/UKBiobank\n",
    "USER_PATH=$HOME/project\n",
    "container_lmm=$UKBB_PATH/lmm.sif\n",
    "container_marp=$UKBB_PATH/marp.sif\n",
    "container_annovar=$UKBB_PATH/annovar.sif\n",
    "hearing_pheno_path=$UKBB_PATH/phenotype_files/hearing_impairment\n",
    "tpl_file=$USER_PATH/UKBB_GWAS_dev/farnam.yml\n",
    "formatFile_fastgwa=$USER_PATH/UKBB_GWAS_dev/data/fastGWA_template.yml\n",
    "formatFile_bolt=$USER_PATH/UKBB_GWAS_dev/data/boltlmm_template.yml\n",
    "formatFile_saige=$USER_PATH/UKBB_GWAS_dev/data/saige_template.yml\n",
    "formatFile_regenie=$USER_PATH/UKBB_GWAS_dev/data/regenie_template.yml\n",
    "###bfile=$UKBB_PATH/genotype_files/pleiotropy_geneticfiles/UKB_Caucasians_phenotypeindepqc120319_updated082020removedwithdrawnindiv.bed\n",
    "unrelated_samples=$UKBB_PATH/genotype_files/pleiotropy_geneticfiles/unrelated_n307259/UKB_unrelatedcauc_phenotypes_asthmat2dbmiwaisthip_agesex_waisthipratio_040620\n",
    "\n",
    "# Cleaned Imputed data BGEN input\n",
    "genoFile=`echo $UKBB_PATH/genotype_files/ukb39554_imputeddataset/ukb_imp_chr{1..22}_v3.bgen`\n",
    "sampleFile=$UKBB_PATH/genotype_files/ukb39554_imputeddataset/ukb32285_imputedindiv.sample\n",
    "\n",
    "# Non-QC'ed Exome data PLINK input (as downloaded from the UKBB)\n",
    "genoFile=`echo $UKBB_PATH/genotype_files/ukb28374_exomedata/exome_data_OCT2020/ukb23155_c{1..22}_b0_v1.bed`"
   ]
  },
  {
   "cell_type": "markdown",
   "metadata": {
    "kernel": "Bash"
   },
   "source": [
    "### Columbia's cluster\n",
    "\n",
    "Run this cell if running your jobs on Columbia's cluster"
   ]
  },
  {
   "cell_type": "code",
   "execution_count": 5,
   "metadata": {
    "kernel": "Bash"
   },
   "outputs": [
    {
     "name": "stdout",
     "output_type": "stream",
     "text": [
      "\n"
     ]
    }
   ],
   "source": [
    "# Common variables Columbia's cluster\n",
    "UKBB_PATH=$HOME/UKBiobank\n",
    "UKBB_yale=$HOME/UKBiobank_Yale_transfer\n",
    "USER_PATH=$HOME/project\n",
    "container_lmm=$HOME/containers/lmm.sif\n",
    "container_marp=$HOME/containers/marp.sif\n",
    "container_annovar=$HOME/containers/gatk4-annovar.sif\n",
    "hearing_pheno_path=$UKBB_PATH/phenotype_files/hearing_impairment\n",
    "tpl_file=$USER_PATH/bioworkflows/admin/csg.yml\n",
    "formatFile_fastgwa=$USER_PATH/UKBB_GWAS_dev/data/fastGWA_template.yml\n",
    "formatFile_bolt=$USER_PATH/UKBB_GWAS_dev/data/boltlmm_template.yml\n",
    "formatFile_saige=$USER_PATH/UKBB_GWAS_dev/data/saige_template.yml\n",
    "formatFile_regenie=$USER_PATH/UKBB_GWAS_dev/data/regenie_template.yml\n",
    "###bfile=$UKBB_yale/pleiotropy_geneticfiles/UKB_Caucasians_phenotypeindepqc120319_updated082020removedwithdrawnindiv.bed\n",
    "unrelated_samples=$UKBB_yale/pleiotropy_geneticfiles/unrelated_n307259/UKB_unrelatedcauc_phenotypes_asthmat2dbmiwaisthip_agesex_waisthipratio_040620\n",
    "\n",
    "# Cleaned Imputed data BGEN input\n",
    "genoFile=`echo $UKBB_yale/ukb39554_imputeddataset/ukb_imp_chr{1..22}_v3.bgen`\n",
    "sampleFile=$UKBB_yale/ukb39554_imputeddataset/ukb32285_imputedindiv.sample\n",
    "\n",
    "# Non-QC'ed Exome data PLINK input (as downloaded from the UKBB)\n",
    "genoFile=`echo $UKBB_yale/ukb28374_exomedata/exome_data_OCT2020/ukb23155_c{1..22}_b0_v1.bed`"
   ]
  },
  {
   "cell_type": "markdown",
   "metadata": {
    "kernel": "Bash"
   },
   "source": [
    "## Shared variables for workflows and results"
   ]
  },
  {
   "cell_type": "code",
   "execution_count": 6,
   "metadata": {
    "kernel": "Bash"
   },
   "outputs": [
    {
     "name": "stdout",
     "output_type": "stream",
     "text": [
      "\n"
     ]
    }
   ],
   "source": [
    "# Workflows\n",
    "lmm_sos=$USER_PATH/bioworkflows/GWAS/LMM.ipynb\n",
    "anno_sos=$USER_PATH/bioworkflows/variant-annotation/annovar.ipynb\n",
    "clumping_sos=$USER_PATH/bioworkflows/GWAS/LD_Clumping.ipynb\n",
    "extract_sos=$USER_PATH/bioworkflows/GWAS/Region_Extraction.ipynb\n",
    "\n",
    "# LMM directories for imputed data\n",
    "lmm_imp_dir_fastgwa=$UKBB_PATH/results/FastGWA_results/results_imputed_data\n",
    "lmm_imp_dir_bolt=$UKBB_PATH/results/BOLTLMM_results/results_imputed_data\n",
    "lmm_imp_dir_saige=$UKBB_PATH/results/SAIGE_results/results_imputed_data\n",
    "lmm_imp_dir_regenie=$UKBB_PATH/results/REGENIE_results/results_imputed_data\n",
    "\n",
    "# LMM directories for exome data\n",
    "lmm_exome_dir_fastgwa=$UKBB_PATH/results/FastGWA_results/results_exome_data\n",
    "lmm_exome_dir_bolt=$UKBB_PATH/results/BOLTLMM_results/results_exome_data\n",
    "lmm_exome_dir_saige=$UKBB_PATH/results/SAIGE_results/results_exome_data\n",
    "lmm_exome_dir_regenie=$UKBB_PATH/results/REGENIE_results/results_exome_data"
   ]
  },
  {
   "cell_type": "markdown",
   "metadata": {
    "kernel": "Bash"
   },
   "source": [
    "## Specification of LMM variables"
   ]
  },
  {
   "cell_type": "code",
   "execution_count": 4,
   "metadata": {
    "kernel": "Bash"
   },
   "outputs": [],
   "source": [
    "## LMM variables \n",
    "## Specific to Bolt_LMM\n",
    "LDscoresFile=$UKBB_PATH/LDSCORE.1000G_EUR.tab.gz\n",
    "geneticMapFile=$UKBB_PATH/genetic_map_hg19_withX.txt.gz\n",
    "covarMaxLevels=10\n",
    "numThreads=20\n",
    "bgenMinMAF=0.001\n",
    "bgenMinINFO=0.8\n",
    "lmm_job_size=1\n",
    "ylim=0\n",
    "\n",
    "### Specific to FastGWA (depeding if you run from Yale or Columbia)\n",
    "####Yale's cluster\n",
    "grmFile=$UKBB_PATH/results/FastGWA_results/results_imputed_data/UKB_Caucasians_phenotypeindepqc120319_updated020720removedwithdrawnindiv.grm.sp\n",
    "####Columbia's cluster\n",
    "grmFile=$UKBB_yale/results/FastGWA_results/results_imputed_data/UKB_Caucasians_phenotypeindepqc120319_updated020720removedwithdrawnindiv.grm.sp\n",
    "\n",
    "### Specific to SAIGE\n",
    "bgenMinMAC=4\n",
    "trait_type=binary\n",
    "loco=TRUE\n",
    "sampleCol=IID\n",
    "\n",
    "### Specific to REGENIE\n",
    "bsize=1000\n",
    "lowmem=$HOME/scratch60/\n",
    "lowmem_dir=$HOME/scratch60/predictions\n",
    "trait=bt\n",
    "minMAC=4\n",
    "maf_filter=0.01\n",
    "geno_filter=0.01\n",
    "hwe_filter=0\n",
    "mind_filter=0.1\n",
    "reverse_log_p=True"
   ]
  },
  {
   "cell_type": "markdown",
   "metadata": {
    "kernel": "Bash"
   },
   "source": [
    "## Specification of LD clumping variables"
   ]
  },
  {
   "cell_type": "code",
   "execution_count": 4,
   "metadata": {
    "kernel": "Bash"
   },
   "outputs": [],
   "source": [
    "# LD clumping directories\n",
    "clumping_dir=$UKBB_PATH/results/LD_clumping\n",
    "\n",
    "## LD clumping variables\n",
    "# For sumtastsFiles if more than one provide each path\n",
    "####Yale's cluster\n",
    "bfile_ref=$UKBB_PATH/results/LD_clumping/UKB_Caucasians_phenotypeindepqc120319_updated020720removedwithdrawnindiv.1210.ref_geno.bed\n",
    "####Columbia's cluster\n",
    "bfile_ref=$UKBB_yale/results/LD_clumping/UKB_Caucasians_phenotypeindepqc120319_updated020720removedwithdrawnindiv.1210.ref_geno.bed\n",
    "# Changes dependending upon which traits are analyzed\n",
    "# In this case tinnitus only\n",
    "sumstatsFiles=$UKBB_PATH/results/\n",
    "ld_sample_size=1210\n",
    "clump_field=P\n",
    "clump_p1=5e-08\n",
    "clump_p2=1\n",
    "clump_r2=0.2\n",
    "clump_kb=2000\n",
    "clump_annotate=BP\n",
    "numThreads=20\n",
    "clump_job_size=1\n",
    "clumpFile= \n",
    "clumregionFile="
   ]
  },
  {
   "cell_type": "markdown",
   "metadata": {
    "kernel": "Bash"
   },
   "source": [
    "## Specification of Region extraction variables"
   ]
  },
  {
   "cell_type": "code",
   "execution_count": null,
   "metadata": {
    "kernel": "Bash"
   },
   "outputs": [],
   "source": [
    "# Region extraction directories\n",
    "extract_dir=$UKBB_PATH/results/region_extraction\n",
    "\n",
    "## Region extraction variables\n",
    "region_file=$UKBB_PATH/results/LD_clumping/\n",
    "geno_path=$UKBB_PATH/results/UKBB_bgenfilepath.txt\n",
    "sumstats_path=$UKBB_PATH/results/FastGWA_results/results_imputed_data/\n",
    "extract_job_size=10"
   ]
  },
  {
   "cell_type": "markdown",
   "metadata": {
    "kernel": "Bash"
   },
   "source": [
    "# 1. Hearing aid user f.3393"
   ]
  },
  {
   "cell_type": "markdown",
   "metadata": {
    "kernel": "Bash"
   },
   "source": [
    "## FastGWA job only white British"
   ]
  },
  {
   "cell_type": "code",
   "execution_count": null,
   "metadata": {
    "kernel": "Bash"
   },
   "outputs": [],
   "source": [
    "lmm_dir_fastgwa=$lmm_imp_dir_fastgwa/f3393_hearing_aid\n",
    "lmm_sbatch_fastgwa=../output/$(date +\"%Y-%m-%d\")_f3393_imp-fastgwa.sbatch\n",
    "phenoFile=$hearing_pheno_path/200828_UKBB_Hearing_aid_f3393\n",
    "covarFile=$hearing_pheno_path/200828_UKBB_Hearing_aid_f3393\n",
    "phenoCol=hearing_aid_cat\n",
    "covarCol=sex\n",
    "qCovarCol=age_final_aid\n",
    "\n",
    "lmm_args=\"\"\"fastGWA\n",
    "    --cwd $lmm_dir_fastgwa \n",
    "    --bfile $bfile \n",
    "    --sampleFile $sampleFile\n",
    "    --bgenFile $bgenFile \n",
    "    --phenoFile $phenoFile \n",
    "    --formatFile $formatFile_fastgwa \n",
    "    --covarFile $covarFile  \n",
    "    --phenoCol $phenoCol \n",
    "    --covarCol $covarCol \n",
    "    --covarMaxLevels $covarMaxLevels \n",
    "    --qCovarCol $qCovarCol \n",
    "    --numThreads $numThreads \n",
    "    --bgenMinMAF $bgenMinMAF \n",
    "    --bgenMinINFO $bgenMinINFO \n",
    "    --job_size $lmm_job_size\n",
    "    --grmFile $grmFile\n",
    "    --ylim $ylim\n",
    "    --container_lmm $container_lmm\n",
    "    --container_marp $container_marp\n",
    "\"\"\"\n",
    "\n",
    "sos run ~/project/bioworkflows/admin/Get_Job_Script.ipynb farnam \\\n",
    "    --template-file $tpl_file \\\n",
    "    --workflow-file $lmm_sos \\\n",
    "    --to-script $lmm_sbatch_fastgwa \\\n",
    "    --args \"$lmm_args\""
   ]
  },
  {
   "cell_type": "markdown",
   "metadata": {
    "kernel": "Bash"
   },
   "source": [
    "## FastGWA all whites"
   ]
  },
  {
   "cell_type": "code",
   "execution_count": 2,
   "metadata": {
    "kernel": "Bash"
   },
   "outputs": [
    {
     "name": "stdout",
     "output_type": "stream",
     "text": [
      "INFO: Running \u001b[32mfarnam\u001b[0m: Configuration for Yale `farnam` cluster\n",
      "INFO: \u001b[32mfarnam\u001b[0m is \u001b[32mcompleted\u001b[0m.\n",
      "INFO: \u001b[32mfarnam\u001b[0m output:   \u001b[32m../output/2020-12-02_f3393_expandedwhite_imp-fastgwa.sbatch\u001b[0m\n",
      "INFO: Workflow farnam (ID=852e6b72805bc1ab) is executed successfully with 1 completed step.\n"
     ]
    }
   ],
   "source": [
    "lmm_dir_fastgwa=$lmm_imp_dir_fastgwa//f3393_hearing_aid_expandedwhite\n",
    "lmm_sbatch_fastgwa=../output/$(date +\"%Y-%m-%d\")_f3393_expandedwhite_imp-fastgwa.sbatch\n",
    "phenoFile=$hearing_pheno_path/120120_UKBB_Hearing_aid_f3393_expandedwhite\n",
    "covarFile=$hearing_pheno_path/120120_UKBB_Hearing_aid_f3393_expandedwhite\n",
    "phenoCol=hearing_aid_cat\n",
    "covarCol=sex\n",
    "qCovarCol=age_final_aid\n",
    "\n",
    "lmm_args=\"\"\"fastGWA\n",
    "    --cwd $lmm_dir_fastgwa \n",
    "    --bfile $bfile \n",
    "    --sampleFile $sampleFile\n",
    "    --bgenFile $bgenFile \n",
    "    --phenoFile $phenoFile \n",
    "    --formatFile $formatFile_fastgwa \n",
    "    --covarFile $covarFile  \n",
    "    --phenoCol $phenoCol \n",
    "    --covarCol $covarCol \n",
    "    --covarMaxLevels $covarMaxLevels \n",
    "    --qCovarCol $qCovarCol \n",
    "    --numThreads $numThreads \n",
    "    --bgenMinMAF $bgenMinMAF \n",
    "    --bgenMinINFO $bgenMinINFO \n",
    "    --job_size $lmm_job_size\n",
    "    --grmFile $grmFile\n",
    "    --ylim $ylim\n",
    "    --container_lmm $container_lmm\n",
    "    --container_marp $container_marp\n",
    "\"\"\"\n",
    "\n",
    "sos run ~/project/bioworkflows/admin/Get_Job_Script.ipynb farnam \\\n",
    "    --template-file $tpl_file \\\n",
    "    --workflow-file $lmm_sos \\\n",
    "    --to-script $lmm_sbatch_fastgwa \\\n",
    "    --args \"$lmm_args\""
   ]
  },
  {
   "cell_type": "markdown",
   "metadata": {
    "kernel": "Bash"
   },
   "source": [
    "## FastGWA exome data"
   ]
  },
  {
   "cell_type": "code",
   "execution_count": 2,
   "metadata": {
    "kernel": "Bash"
   },
   "outputs": [
    {
     "name": "stdout",
     "output_type": "stream",
     "text": [
      "INFO: Running \u001b[32mfarnam\u001b[0m: Configuration for Yale `farnam` cluster\n",
      "INFO: \u001b[32mfarnam\u001b[0m is \u001b[32mcompleted\u001b[0m.\n",
      "INFO: \u001b[32mfarnam\u001b[0m output:   \u001b[32m../output/2021-01-11_f3393_exomes-fastgwa.sbatch\u001b[0m\n",
      "INFO: Workflow farnam (ID=3f949028f44f4152) is executed successfully with 1 completed step.\n",
      "\n"
     ]
    }
   ],
   "source": [
    "lmm_dir_fastgwa=$lmm_exome_dir_fastgwa/f3393_hearing_aid_exomes\n",
    "lmm_sbatch_fastgwa=../output/$(date +\"%Y-%m-%d\")_f3393_exomes-fastgwa.sbatch\n",
    "phenoFile=$hearing_pheno_path/phenotypes_exome_data/010421_UKBB_Hearing_aid_f3393_128254ind_exomes\n",
    "covarFile=$hearing_pheno_path/phenotypes_exome_data/010421_UKBB_Hearing_aid_f3393_128254ind_exomes\n",
    "phenoCol=hearing_aid_cat\n",
    "covarCol=sex\n",
    "qCovarCol=age_final_aid\n",
    "\n",
    "lmm_args=\"\"\"fastGWA\n",
    "    --cwd $lmm_dir_fastgwa \n",
    "    --bfile $bfile \n",
    "    --sampleFile $sampleFile\n",
    "    --genoFile $genoFile \n",
    "    --phenoFile $phenoFile \n",
    "    --formatFile $formatFile_fastgwa \n",
    "    --covarFile $covarFile  \n",
    "    --phenoCol $phenoCol \n",
    "    --covarCol $covarCol \n",
    "    --covarMaxLevels $covarMaxLevels \n",
    "    --qCovarCol $qCovarCol \n",
    "    --numThreads $numThreads \n",
    "    --bgenMinMAF $bgenMinMAF \n",
    "    --bgenMinINFO $bgenMinINFO \n",
    "    --job_size $lmm_job_size\n",
    "    --grmFile $grmFile\n",
    "    --ylim $ylim\n",
    "    --container_lmm $container_lmm\n",
    "    --container_marp $container_marp\n",
    "\"\"\"\n",
    "\n",
    "sos run ~/project/bioworkflows/admin/Get_Job_Script.ipynb farnam \\\n",
    "    --template-file $tpl_file \\\n",
    "    --workflow-file $lmm_sos \\\n",
    "    --to-script $lmm_sbatch_fastgwa \\\n",
    "    --args \"$lmm_args\""
   ]
  },
  {
   "cell_type": "markdown",
   "metadata": {
    "kernel": "Bash"
   },
   "source": [
    "## Regenie exome data"
   ]
  },
  {
   "cell_type": "code",
   "execution_count": 4,
   "metadata": {
    "kernel": "Bash"
   },
   "outputs": [
    {
     "name": "stdout",
     "output_type": "stream",
     "text": [
      "INFO: Running \u001b[32mfarnam\u001b[0m: Configuration for Yale `farnam` cluster\n",
      "INFO: \u001b[32mfarnam\u001b[0m is \u001b[32mcompleted\u001b[0m.\n",
      "INFO: \u001b[32mfarnam\u001b[0m output:   \u001b[32m../output/2021-02-12_f3393_hearing_aid_exome_bfile-regenie.sbatch\u001b[0m\n",
      "INFO: Workflow farnam (ID=w03430bc454ddd1e8) is executed successfully with 1 completed step.\n",
      "\n"
     ]
    }
   ],
   "source": [
    "lmm_dir_regenie=$lmm_exome_dir_regenie/f3393_hearing_aid_exomes_bfile\n",
    "lmm_sbatch_regenie=$USER_PATH/UKBB_GWAS_dev/output/$(date +\"%Y-%m-%d\")_f3393_hearing_aid_exome_bfile-regenie.sbatch\n",
    "phenoFile=$hearing_pheno_path/phenotypes_exome_data/010421_UKBB_Hearing_aid_f3393_128254ind_exomes\n",
    "covarFile=$hearing_pheno_path/phenotypes_exome_data/010421_UKBB_Hearing_aid_f3393_128254ind_exomes\n",
    "phenoCol=hearing_aid_cat\n",
    "covarCol=sex\n",
    "qCovarCol=age_final_aid\n",
    "#Use original bed files from the UKBB exome data\n",
    "#bfile=$UKBB_PATH/genotype_files/ukb28374_exomedata/exome_data_OCT2020/exome_files_snpsonly/ukb23155.filtered.merged.bed\n",
    "#Use the original bed files for the genotype array on regenie step1\n",
    "bfile=$UKBB_PATH/genotype_files/pleiotropy_geneticfiles/UKB_originalgenotypefilesdownloaded083019/UKB_genotypedatadownloaded083019.bed\n",
    "\n",
    "lmm_args=\"\"\"regenie\n",
    "    --cwd $lmm_dir_regenie \n",
    "    --bfile $bfile \n",
    "    --genoFile $genoFile\n",
    "    --sampleFile $sampleFile\n",
    "    --phenoFile $phenoFile \n",
    "    --formatFile $formatFile_regenie \n",
    "    --phenoCol $phenoCol\n",
    "    --covarCol $covarCol  \n",
    "    --qCovarCol $qCovarCol\n",
    "    --bsize $bsize\n",
    "    --lowmem_prefix $lowmem_prefix\n",
    "    --trait $trait \n",
    "    --bgenMinMAF $bgenMinMAF \n",
    "    --bgenMinINFO $bgenMinINFO\n",
    "    --maf_filter $maf_filter\n",
    "    --geno_filter $geno_filter\n",
    "    --hwe_filter $hwe_filter\n",
    "    --mind_filter $mind_filter\n",
    "    --minMAC $minMAC\n",
    "    --job_size $lmm_job_size\n",
    "    --ylim $ylim\n",
    "    --reverse_log_p $reverse_log_p\n",
    "    --numThreads $numThreads\n",
    "    --container_lmm $container_lmm\n",
    "    --container_marp $container_marp\n",
    "\"\"\"\n",
    "\n",
    "sos run ~/project/bioworkflows/admin/Get_Job_Script.ipynb farnam \\\n",
    "    --template-file $tpl_file \\\n",
    "    --workflow-file $lmm_sos \\\n",
    "    --to-script $lmm_sbatch_regenie \\\n",
    "    --args \"$lmm_args\""
   ]
  },
  {
   "cell_type": "markdown",
   "metadata": {
    "kernel": "Bash"
   },
   "source": [
    "## Regenie imputed data: Expanded white control NA"
   ]
  },
  {
   "cell_type": "markdown",
   "metadata": {
    "kernel": "Bash"
   },
   "source": [
    "This analysis is done with the correct number of cases and controls (those NA for f.3393)"
   ]
  },
  {
   "cell_type": "code",
   "execution_count": 3,
   "metadata": {
    "kernel": "Bash"
   },
   "outputs": [
    {
     "name": "stdout",
     "output_type": "stream",
     "text": [
      "INFO: Running \u001b[32mfarnam\u001b[0m: Configuration for Yale `farnam` cluster\n",
      "INFO: \u001b[32mfarnam\u001b[0m is \u001b[32mcompleted\u001b[0m.\n",
      "INFO: \u001b[32mfarnam\u001b[0m output:   \u001b[32m/home/dc2325/project/UKBB_GWAS_dev/output/2021-07-13_f3393_hearing_aid_impdata-regenie.sbatch\u001b[0m\n",
      "INFO: Workflow farnam (ID=w535e731e96a51db8) is executed successfully with 1 completed step.\n",
      "\n"
     ]
    }
   ],
   "source": [
    "lmm_dir_regenie=$lmm_imp_dir_regenie/f3393_hearing_aid_impdata_newpheno\n",
    "lmm_sbatch_regenie=$USER_PATH/UKBB_GWAS_dev/output/$(date +\"%Y-%m-%d\")_f3393_hearing_aid_impdata-regenie.sbatch\n",
    "phenoFile=$hearing_pheno_path/041521_UKBB_Hearing_aid_f3393_expandedwhite_z974included_ctrl_na_228760ind\n",
    "covarFile=$hearing_pheno_path/041521_UKBB_Hearing_aid_f3393_expandedwhite_z974included_ctrl_na_228760ind\n",
    "phenoCol=f3393_ctrl_na\n",
    "covarCol=sex\n",
    "qCovarCol=age_final_aid\n",
    "genoFile=`echo $UKBB_PATH/genotype_files/ukb39554_imputeddataset/ukb_imp_chr{1..22}_v3.bgen`\n",
    "sampleFile=$UKBB_PATH/genotype_files/ukb39554_imputeddataset/ukb32285_imputedindiv.sample\n",
    "\n",
    "#Use the original bed files for the genotype array on regenie step1\n",
    "bfile=$UKBB_PATH/genotype_files/pleiotropy_geneticfiles/UKB_expandedwhite_qcgenotypefiles/UKB_expandedwhiteonly_phenotypeindepqc_410905indiv_528206snps_102720.bed\n",
    "\n",
    "lmm_args=\"\"\"regenie\n",
    "    --cwd $lmm_dir_regenie \n",
    "    --bfile $bfile \n",
    "    --genoFile $genoFile\n",
    "    --sampleFile $sampleFile\n",
    "    --phenoFile $phenoFile \n",
    "    --formatFile $formatFile_regenie \n",
    "    --phenoCol $phenoCol\n",
    "    --covarCol $covarCol  \n",
    "    --qCovarCol $qCovarCol\n",
    "    --bsize $bsize\n",
    "    --lowmem_dir $lowmem_dir\n",
    "    --trait $trait \n",
    "    --bgenMinMAF $bgenMinMAF \n",
    "    --bgenMinINFO $bgenMinINFO\n",
    "    --maf_filter $maf_filter\n",
    "    --geno_filter $geno_filter\n",
    "    --hwe_filter $hwe_filter\n",
    "    --mind_filter $mind_filter\n",
    "    --minMAC $minMAC\n",
    "    --job_size $lmm_job_size\n",
    "    --ylim $ylim\n",
    "    --reverse_log_p $reverse_log_p\n",
    "    --numThreads $numThreads\n",
    "    --container_lmm $container_lmm\n",
    "    --container_marp $container_marp\n",
    "\"\"\"\n",
    "\n",
    "sos run ~/project/bioworkflows/admin/Get_Job_Script.ipynb farnam \\\n",
    "    --template-file $tpl_file \\\n",
    "    --workflow-file $lmm_sos \\\n",
    "    --to-script $lmm_sbatch_regenie \\\n",
    "    --args \"$lmm_args\""
   ]
  },
  {
   "cell_type": "markdown",
   "metadata": {
    "kernel": "Bash"
   },
   "source": [
    "## Regenie: single variant association analysis with exome data on replication set 50K exomes"
   ]
  },
  {
   "cell_type": "markdown",
   "metadata": {
    "kernel": "Bash"
   },
   "source": [
    "### f.3393 & Pure controls"
   ]
  },
  {
   "cell_type": "code",
   "execution_count": 2,
   "metadata": {
    "kernel": "Bash"
   },
   "outputs": [
    {
     "name": "stdout",
     "output_type": "stream",
     "text": [
      "INFO: Running \u001b[32mfarnam\u001b[0m: Configuration for Yale `farnam` cluster\n",
      "INFO: \u001b[32mfarnam\u001b[0m is \u001b[32mcompleted\u001b[0m.\n",
      "INFO: \u001b[32mfarnam\u001b[0m output:   \u001b[32m/home/dc2325/project/UKBB_GWAS_dev/output/2021-04-19_f3393_hearing_aid_exomes50K_pure_ctrl-regenie.sbatch\u001b[0m\n",
      "INFO: Workflow farnam (ID=wfb6905d41d076b6e) is executed successfully with 1 completed step.\n",
      "\n"
     ]
    }
   ],
   "source": [
    "# First run using only pure controls for f3393 \n",
    "lmm_dir_regenie=$lmm_exome_dir_regenie/f3393_hearing_aid_exomes50K_pure_ctrl\n",
    "lmm_sbatch_regenie=$USER_PATH/UKBB_GWAS_dev/output/$(date +\"%Y-%m-%d\")_f3393_hearing_aid_exomes50K_pure_ctrl-regenie.sbatch\n",
    "phenoFile=$hearing_pheno_path/041521_UKBB_Hearing_aid_f3393_expandedwhite_z974included_ctrl_na_228760ind\n",
    "covarFile=$hearing_pheno_path/041521_UKBB_Hearing_aid_f3393_expandedwhite_z974included_ctrl_na_228760ind\n",
    "phenoCol=f3393_ctrl_na\n",
    "covarCol=sex\n",
    "qCovarCol=age_final_aid\n",
    "genoFile=/gpfs/gibbs/pi/dewan/data/UKBiobank/genotype_files/ukb28374_exomedata/ukb32285_exomespb_chr1_22.bed\n",
    "#Use the original bed files for the genotype array for the expanded white on regenie step1\n",
    "bfile=$UKBB_PATH/genotype_files/pleiotropy_geneticfiles/UKB_expandedwhite_qcgenotypefiles/UKB_expandedwhiteonly_phenotypeindepqc_410905indiv_528206snps_102720.bed\n",
    "\n",
    "lmm_args=\"\"\"regenie\n",
    "    --cwd $lmm_dir_regenie \n",
    "    --bfile $bfile \n",
    "    --genoFile $genoFile\n",
    "    --sampleFile $sampleFile\n",
    "    --phenoFile $phenoFile \n",
    "    --formatFile $formatFile_regenie \n",
    "    --phenoCol $phenoCol\n",
    "    --covarCol $covarCol  \n",
    "    --qCovarCol $qCovarCol\n",
    "    --bsize $bsize\n",
    "    --lowmem_dir $lowmem_dir\n",
    "    --trait $trait \n",
    "    --bgenMinMAF $bgenMinMAF \n",
    "    --bgenMinINFO $bgenMinINFO\n",
    "    --maf_filter $maf_filter\n",
    "    --geno_filter $geno_filter\n",
    "    --hwe_filter $hwe_filter\n",
    "    --mind_filter $mind_filter\n",
    "    --minMAC $minMAC\n",
    "    --job_size $lmm_job_size\n",
    "    --ylim $ylim\n",
    "    --reverse_log_p $reverse_log_p\n",
    "    --numThreads $numThreads\n",
    "    --container_lmm $container_lmm\n",
    "    --container_marp $container_marp\n",
    "\"\"\"\n",
    "\n",
    "sos run ~/project/bioworkflows/admin/Get_Job_Script.ipynb farnam \\\n",
    "    --template-file $tpl_file \\\n",
    "    --workflow-file $lmm_sos \\\n",
    "    --to-script $lmm_sbatch_regenie \\\n",
    "    --args \"$lmm_args\""
   ]
  },
  {
   "cell_type": "markdown",
   "metadata": {
    "kernel": "Bash"
   },
   "source": [
    "### f.3393 & Controls NA for f.3393"
   ]
  },
  {
   "cell_type": "code",
   "execution_count": 4,
   "metadata": {
    "kernel": "Bash"
   },
   "outputs": [
    {
     "name": "stdout",
     "output_type": "stream",
     "text": [
      "INFO: Running \u001b[32mfarnam\u001b[0m: Configuration for Yale `farnam` cluster\n",
      "INFO: \u001b[32mfarnam\u001b[0m (index=0) is \u001b[32mignored\u001b[0m due to saved signature\n",
      "INFO: \u001b[32mfarnam\u001b[0m output:   \u001b[32m/home/dc2325/project/UKBB_GWAS_dev/output/2021-04-19_f3393_hearing_aid_exomes50K_ctrl_na-regenie.sbatch\u001b[0m\n",
      "INFO: Workflow farnam (ID=w06d19fc2ff71aba3) is ignored with 1 ignored step.\n",
      "\n"
     ]
    }
   ],
   "source": [
    "# First run using only pure controls for f3393 \n",
    "lmm_dir_regenie=$lmm_exome_dir_regenie/f3393_hearing_aid_exomes50K_ctrl_na\n",
    "lmm_sbatch_regenie=$USER_PATH/UKBB_GWAS_dev/output/$(date +\"%Y-%m-%d\")_f3393_hearing_aid_exomes50K_ctrl_na-regenie.sbatch\n",
    "phenoFile=$hearing_pheno_path/041521_UKBB_Hearing_aid_f3393_expandedwhite_z974included_ctrl_na_228760ind\n",
    "covarFile=$hearing_pheno_path/041521_UKBB_Hearing_aid_f3393_expandedwhite_z974included_ctrl_na_228760ind\n",
    "phenoCol=f3393_ctrl_na\n",
    "covarCol=sex\n",
    "qCovarCol=age_final_aid\n",
    "genoFile=/gpfs/gibbs/pi/dewan/data/UKBiobank/genotype_files/ukb28374_exomedata/ukb32285_exomespb_chr1_22.bed\n",
    "#Use the original bed files for the genotype array for the expanded white on regenie step1\n",
    "bfile=$UKBB_PATH/genotype_files/pleiotropy_geneticfiles/UKB_expandedwhite_qcgenotypefiles/UKB_expandedwhiteonly_phenotypeindepqc_410905indiv_528206snps_102720.bed\n",
    "\n",
    "lmm_args=\"\"\"regenie\n",
    "    --cwd $lmm_dir_regenie \n",
    "    --bfile $bfile \n",
    "    --genoFile $genoFile\n",
    "    --sampleFile $sampleFile\n",
    "    --phenoFile $phenoFile \n",
    "    --formatFile $formatFile_regenie \n",
    "    --phenoCol $phenoCol\n",
    "    --covarCol $covarCol  \n",
    "    --qCovarCol $qCovarCol\n",
    "    --bsize $bsize\n",
    "    --lowmem_dir $lowmem_dir\n",
    "    --trait $trait \n",
    "    --bgenMinMAF $bgenMinMAF \n",
    "    --bgenMinINFO $bgenMinINFO\n",
    "    --maf_filter $maf_filter\n",
    "    --geno_filter $geno_filter\n",
    "    --hwe_filter $hwe_filter\n",
    "    --mind_filter $mind_filter\n",
    "    --minMAC $minMAC\n",
    "    --job_size $lmm_job_size\n",
    "    --ylim $ylim\n",
    "    --reverse_log_p $reverse_log_p\n",
    "    --numThreads $numThreads\n",
    "    --container_lmm $container_lmm\n",
    "    --container_marp $container_marp\n",
    "\"\"\"\n",
    "\n",
    "sos run ~/project/bioworkflows/admin/Get_Job_Script.ipynb farnam \\\n",
    "    --template-file $tpl_file \\\n",
    "    --workflow-file $lmm_sos \\\n",
    "    --to-script $lmm_sbatch_regenie \\\n",
    "    --args \"$lmm_args\""
   ]
  },
  {
   "cell_type": "markdown",
   "metadata": {
    "kernel": "Bash"
   },
   "source": [
    "## Regenie in exome data (original Plink files UKBB unqc'ed) using modified phenotype file with controls_na for f.3393"
   ]
  },
  {
   "cell_type": "markdown",
   "metadata": {
    "kernel": "Bash"
   },
   "source": [
    "### f.3393 & Controls NA for f.3393"
   ]
  },
  {
   "cell_type": "code",
   "execution_count": 2,
   "metadata": {
    "kernel": "Bash"
   },
   "outputs": [
    {
     "name": "stdout",
     "output_type": "stream",
     "text": [
      "INFO: Running \u001b[32mfarnam\u001b[0m: Configuration for Yale `farnam` cluster\n",
      "INFO: \u001b[32mfarnam\u001b[0m is \u001b[32mcompleted\u001b[0m.\n",
      "INFO: \u001b[32mfarnam\u001b[0m output:   \u001b[32m/home/dc2325/project/UKBB_GWAS_dev/output/2021-06-24_f3393_hearing_aid_exomes200K_noqc_ctrl_na-regenie.sbatch\u001b[0m\n",
      "INFO: Workflow farnam (ID=w574ef8382b581afa) is executed successfully with 1 completed step.\n",
      "\n"
     ]
    }
   ],
   "source": [
    "# First run using controls na for f3393 \n",
    "lmm_dir_regenie=$lmm_exome_dir_regenie/f3393_hearing_aid_exomes200K_noqc_ctrl_na\n",
    "lmm_sbatch_regenie=$USER_PATH/UKBB_GWAS_dev/output/$(date +\"%Y-%m-%d\")_f3393_hearing_aid_exomes200K_noqc_ctrl_na-regenie.sbatch\n",
    "phenoFile=$hearing_pheno_path/062421_UKBB_Hearing_aid_f3393_expandedwhite_z974included_ctrl_na_104402ind\n",
    "covarFile=$hearing_pheno_path/062421_UKBB_Hearing_aid_f3393_expandedwhite_z974included_ctrl_na_104402ind\n",
    "phenoCol=f3393_ctrl_na\n",
    "covarCol=sex\n",
    "qCovarCol=age_final_aid\n",
    "genoFile=`echo $UKBB_PATH/genotype_files/ukb28374_exomedata/exome_data_OCT2020/ukb23155_c{1..22}_b0_v1.bed`\n",
    "#Use the original bed files for the genotype array on regenie step1\n",
    "bfile=$UKBB_PATH/genotype_files/pleiotropy_geneticfiles/UKB_originalgenotypefilesdownloaded083019/UKB_genotypedatadownloaded083019.bed\n",
    "hwe_filter=5e-08\n",
    "\n",
    "lmm_args=\"\"\"regenie\n",
    "    --cwd $lmm_dir_regenie \n",
    "    --bfile $bfile \n",
    "    --genoFile $genoFile\n",
    "    --sampleFile $sampleFile\n",
    "    --phenoFile $phenoFile \n",
    "    --formatFile $formatFile_regenie \n",
    "    --phenoCol $phenoCol\n",
    "    --covarCol $covarCol  \n",
    "    --qCovarCol $qCovarCol\n",
    "    --bsize $bsize\n",
    "    --lowmem_dir $lowmem_dir\n",
    "    --trait $trait \n",
    "    --bgenMinMAF $bgenMinMAF \n",
    "    --bgenMinINFO $bgenMinINFO\n",
    "    --maf_filter $maf_filter\n",
    "    --geno_filter $geno_filter\n",
    "    --hwe_filter $hwe_filter\n",
    "    --mind_filter $mind_filter\n",
    "    --minMAC $minMAC\n",
    "    --job_size $lmm_job_size\n",
    "    --ylim $ylim\n",
    "    --reverse_log_p $reverse_log_p\n",
    "    --numThreads $numThreads\n",
    "    --container_lmm $container_lmm\n",
    "    --container_marp $container_marp\n",
    "\"\"\"\n",
    "\n",
    "sos run ~/project/bioworkflows/admin/Get_Job_Script.ipynb farnam \\\n",
    "    --template-file $tpl_file \\\n",
    "    --workflow-file $lmm_sos \\\n",
    "    --to-script $lmm_sbatch_regenie \\\n",
    "    --args \"$lmm_args\""
   ]
  },
  {
   "cell_type": "markdown",
   "metadata": {
    "kernel": "Bash"
   },
   "source": [
    "## Regenie in exome data after VCF-QC 200K exomes"
   ]
  },
  {
   "cell_type": "markdown",
   "metadata": {
    "kernel": "Bash"
   },
   "source": [
    "### f.3393 & Controls NA for f.3393"
   ]
  },
  {
   "cell_type": "code",
   "execution_count": 9,
   "metadata": {
    "kernel": "Bash"
   },
   "outputs": [
    {
     "name": "stdout",
     "output_type": "stream",
     "text": [
      "INFO: Running \u001b[32mcsg\u001b[0m: Configuration for Columbia csg partition cluster\n",
      "INFO: \u001b[32mcsg\u001b[0m is \u001b[32mcompleted\u001b[0m.\n",
      "INFO: \u001b[32mcsg\u001b[0m output:   \u001b[32m/home/dmc2245/project/UKBB_GWAS_dev/output/f3393_hearing_aid_exomes200K_ctrl_na-regenie_2021-05-18.sbatch\u001b[0m\n",
      "INFO: Workflow csg (ID=w1682bd842f840e70) is executed successfully with 1 completed step.\n",
      "\n"
     ]
    }
   ],
   "source": [
    "# Run using all controls for f3393 \n",
    "lmm_dir_regenie=$lmm_exome_dir_regenie/f3393_hearing_aid_exomes200K_ctrl_na\n",
    "lmm_sbatch_regenie=$USER_PATH/UKBB_GWAS_dev/output/f3393_hearing_aid_exomes200K_ctrl_na-regenie_$(date +\"%Y-%m-%d\").sbatch\n",
    "phenoFile=$hearing_pheno_path/041521_UKBB_Hearing_aid_f3393_expandedwhite_z974included_ctrl_na_228760ind\n",
    "covarFile=$hearing_pheno_path/041521_UKBB_Hearing_aid_f3393_expandedwhite_z974included_ctrl_na_228760ind\n",
    "phenoCol=f3393_ctrl_na\n",
    "covarCol=sex\n",
    "qCovarCol=age_final_aid\n",
    "genoFile=`echo /mnt/mfs/statgen/UKBiobank/data/exome_files/project_VCF/plink_files/ukb23156_c{1..22}.merged.filtered.bed`\n",
    "#Use the original bed files for the genotype array for the expanded white on regenie step1\n",
    "bfile=$UKBB_PATH/data/genotype_files/UKB_expandedwhite_qcgenotypefiles/UKB_expandedwhiteonly_phenotypeindepqc_410905indiv_528206snps_102720.bed\n",
    "\n",
    "lmm_args=\"\"\"regenie\n",
    "    --cwd $lmm_dir_regenie \n",
    "    --bfile $bfile \n",
    "    --genoFile $genoFile\n",
    "    --sampleFile $sampleFile\n",
    "    --phenoFile $phenoFile \n",
    "    --formatFile $formatFile_regenie \n",
    "    --phenoCol $phenoCol\n",
    "    --covarCol $covarCol  \n",
    "    --qCovarCol $qCovarCol\n",
    "    --bsize $bsize\n",
    "    --lowmem_dir $lowmem_dir\n",
    "    --trait $trait \n",
    "    --bgenMinMAF $bgenMinMAF \n",
    "    --bgenMinINFO $bgenMinINFO\n",
    "    --maf_filter $maf_filter\n",
    "    --geno_filter $geno_filter\n",
    "    --hwe_filter $hwe_filter\n",
    "    --mind_filter $mind_filter\n",
    "    --minMAC $minMAC\n",
    "    --job_size $lmm_job_size\n",
    "    --ylim $ylim\n",
    "    --reverse_log_p $reverse_log_p\n",
    "    --numThreads $numThreads\n",
    "    --container_lmm $container_lmm\n",
    "    --container_marp $container_marp\n",
    "\"\"\"\n",
    "\n",
    "sos run ~/project/bioworkflows/admin/Get_Job_Script.ipynb csg \\\n",
    "    --template-file $tpl_file \\\n",
    "    --workflow-file $lmm_sos \\\n",
    "    --to-script $lmm_sbatch_regenie \\\n",
    "    --args \"$lmm_args\""
   ]
  },
  {
   "cell_type": "markdown",
   "metadata": {
    "kernel": "Bash"
   },
   "source": [
    "## Regenie Burden with 50K exomes"
   ]
  },
  {
   "cell_type": "code",
   "execution_count": null,
   "metadata": {
    "kernel": "Bash"
   },
   "outputs": [],
   "source": [
    "lmm_dir_regenie=$lmm_exome_dir_regenie/burden/f3393_hearing_aid_exomes50K_ctrl_na\n",
    "lmm_sbatch_regenie=$USER_PATH/UKBB_GWAS_dev/output/$(date +\"%Y-%m-%d\")_f3393_hearing_aid_exomes50K_ctrl_na-regenie-burden.sbatch\n",
    "phenoFile=$hearing_pheno_path/041521_UKBB_Hearing_aid_f3393_expandedwhite_z974included_ctrl_na_228760ind\n",
    "covarFile=$hearing_pheno_path/041521_UKBB_Hearing_aid_f3393_expandedwhite_z974included_ctrl_na_228760ind\n",
    "phenoCol=f3393_ctrl_na\n",
    "covarCol=sex\n",
    "qCovarCol=age_aid\n",
    "genoFile=/gpfs/gibbs/pi/dewan/data/UKBiobank/genotype_files/ukb28374_exomedata/ukb32285_exomespb_chr1_22.bed\n",
    "#Use the original bed files for the genotype array for the expanded white on regenie step1\n",
    "bfile=$UKBB_PATH/genotype_files/pleiotropy_geneticfiles/UKB_expandedwhite_qcgenotypefiles/UKB_expandedwhiteonly_phenotypeindepqc_410905indiv_528206snps_102720.bed\n",
    "anno_file=$lmm_exome_dir_regenie/burden/ukb32285_exomespb_chr1_22.hg38.hg38_multianno.anno_file\n",
    "set_list=$lmm_exome_dir_regenie/burden/ukb32285_exomespb_chr1_22.hg38.hg38_multianno.set_list_file\n",
    "mask_file=$lmm_exome_dir_regenie/burden/ukb32285_exomespb_chr1_22.hg38.hg38_multianno.mask_file\n",
    "keep_gene=\n",
    "build_mask=max\n",
    "aaf_bins=0.005,0.01\n",
    "\n",
    "lmm_args=\"\"\"regenie_burden\n",
    "    --cwd $lmm_dir_regenie \n",
    "    --bfile $bfile \n",
    "    --genoFile $genoFile\n",
    "    --sampleFile $sampleFile\n",
    "    --phenoFile $phenoFile \n",
    "    --formatFile $formatFile_regenie \n",
    "    --phenoCol $phenoCol\n",
    "    --covarCol $covarCol  \n",
    "    --qCovarCol $qCovarCol\n",
    "    --bsize $bsize\n",
    "    --trait $trait\n",
    "    --anno_file $anno_file\n",
    "    --set_list $set_list\n",
    "    --mask_file $mask_file\n",
    "    --keep_gene $keep_gene\n",
    "    --aaf_bins $aaf_bins\n",
    "    --build_mask $build_mask\n",
    "    --job_size $lmm_job_size\n",
    "    --ylim $ylim\n",
    "    --reverse_log_p $reverse_log_p\n",
    "    --numThreads $numThreads\n",
    "    --container_lmm $container_lmm\n",
    "    --container_marp $container_marp\n",
    "\"\"\"\n",
    "\n",
    "sos run ~/project/bioworkflows/admin/Get_Job_Script.ipynb farnam \\\n",
    "    --template-file $tpl_file \\\n",
    "    --workflow-file $lmm_sos \\\n",
    "    --to-script $lmm_sbatch_regenie \\\n",
    "    --args \"$lmm_args\""
   ]
  },
  {
   "cell_type": "markdown",
   "metadata": {
    "kernel": "Bash"
   },
   "source": [
    "## Create the anno_file, set_list_file and mask_files necessary for burden test"
   ]
  },
  {
   "cell_type": "code",
   "execution_count": 12,
   "metadata": {
    "kernel": "Bash"
   },
   "outputs": [
    {
     "name": "stdout",
     "output_type": "stream",
     "text": [
      "INFO: Running \u001b[32mcsg\u001b[0m: Configuration for Columbia csg partition cluster\n",
      "INFO: \u001b[32mcsg\u001b[0m (index=0) is \u001b[32mignored\u001b[0m due to saved signature\n",
      "INFO: \u001b[32mcsg\u001b[0m output:   \u001b[32m/home/dmc2245/project/UKBB_GWAS_dev/output/ukb23155_200Kexomes_burdenfiles_2021-08-05.sbatch\u001b[0m\n",
      "INFO: Workflow csg (ID=w8ab0e2798f132664) is ignored with 1 ignored step.\n",
      "\n"
     ]
    }
   ],
   "source": [
    "burden_dir=$UKBB_PATH/results/ukb23155_200Kexomes_annovar/burden_files\n",
    "anno_sbatch_burden=$USER_PATH/UKBB_GWAS_dev/output/ukb23155_200Kexomes_burdenfiles_$(date +\"%Y-%m-%d\").sbatch\n",
    "## Annotated exome file for 50K exomes UKBB\n",
    "#annotated_file_hg38=$UKBB_PATH/results/ukb32285_exomespb_annovar/ukb32285_exomespb_chr1_22.hg38.hg38_multianno.csv\n",
    "## Annotate exome file for 200K exomes UKBB\n",
    "annotated_file_hg38=$UKBB_PATH/results/ukb23155_200Kexomes_annovar/ukb23155_chr1_chr22_exomedata.hg38.hg38_multianno.csv.gz\n",
    "bim_name=$UKBB_PATH/results/ukb23155_200Kexomes_annovar/exome_bim_merge/ukb23155_chr1_chr22.bim\n",
    "job_size=1\n",
    "name_prefix='ukb23155_chr1_chr22_burden_files'\n",
    "container_annovar=$HOME/containers/gatk4-annovar.sif\n",
    "\n",
    "anno_args=\"\"\"burden_files\n",
    "    --cwd $burden_dir\n",
    "    --annotated_file $annotated_file_hg38\n",
    "    --bim_name $bim_name\n",
    "    --name_prefix $name_prefix\n",
    "    --job_size $job_size\n",
    "    --container_annovar $container_annovar\n",
    "\"\"\"\n",
    "\n",
    "sos run $USER_PATH/UKBB_GWAS_dev/admin/Get_Job_Script.ipynb csg \\\n",
    "    --template-file $tpl_file \\\n",
    "    --workflow-file $anno_sos \\\n",
    "    --to-script $anno_sbatch_burden\\\n",
    "    --args \"$anno_args\"\n"
   ]
  },
  {
   "cell_type": "markdown",
   "metadata": {
    "kernel": "Bash"
   },
   "source": [
    "## Regenie Burden with 200K exomes"
   ]
  },
  {
   "cell_type": "markdown",
   "metadata": {
    "kernel": "Bash"
   },
   "source": [
    "This run is with the new phenotype file with pure control definition and cases definition made by Fabiha"
   ]
  },
  {
   "cell_type": "code",
   "execution_count": null,
   "metadata": {
    "kernel": "Bash"
   },
   "outputs": [],
   "source": [
    "lmm_dir_regenie=$lmm_exome_dir_regenie/burden/f3393_hearing_aid_200K_exomes\n",
    "lmm_sbatch_regenie=$USER_PATH/UKBB_GWAS_dev/output/$(date +\"%Y-%m-%d\")_f3393_hearing_aid_200k_exomes-regenie-burden.sbatch\n",
    "phenoFile=$hearing_pheno_path/080421_UKBB_Hearing_aid_f3393_expandedwhite_6305cases_98082ctrl\n",
    "covarFile=$hearing_pheno_path/080421_UKBB_Hearing_aid_f3393_expandedwhite_6305cases_98082ctrl\n",
    "phenoCol=f3393\n",
    "covarCol=sex\n",
    "qCovarCol=age\n",
    "#This run do it with unqc'ed plink files while we wait for the qc'ed ones\n",
    "genoFile=\n",
    "#Use the original bed files for the genotype array for the expanded white on regenie step1\n",
    "##Yale's cluster\n",
    "#bfile=$UKBB_PATH/genotype_files/pleiotropy_geneticfiles/UKB_expandedwhite_qcgenotypefiles/UKB_expandedwhiteonly_phenotypeindepqc_410905indiv_528206snps_102720.bed\n",
    "## Columbia's cluster\n",
    "bfile=$UKBB_PATH/pleiotropy_geneticfiles/UKB_expandedwhite_qcgenotypefiles/UKB_expandedwhiteonly_phenotypeindepqc_410905indiv_528206snps_102720.bed\n",
    "anno_file=$lmm_exome_dir_regenie/burden/ukb32285_exomespb_chr1_22.hg38.hg38_multianno.anno_file\n",
    "set_list=$lmm_exome_dir_regenie/burden/ukb32285_exomespb_chr1_22.hg38.hg38_multianno.set_list_file\n",
    "mask_file=$lmm_exome_dir_regenie/burden/ukb32285_exomespb_chr1_22.hg38.hg38_multianno.mask_file\n",
    "keep_gene=\n",
    "build_mask=max\n",
    "aaf_bins=0.005,0.01\n",
    "\n",
    "lmm_args=\"\"\"regenie_burden\n",
    "    --cwd $lmm_dir_regenie \n",
    "    --bfile $bfile \n",
    "    --genoFile $genoFile\n",
    "    --sampleFile $sampleFile\n",
    "    --phenoFile $phenoFile \n",
    "    --formatFile $formatFile_regenie \n",
    "    --phenoCol $phenoCol\n",
    "    --covarCol $covarCol  \n",
    "    --qCovarCol $qCovarCol\n",
    "    --bsize $bsize\n",
    "    --trait $trait\n",
    "    --anno_file $anno_file\n",
    "    --set_list $set_list\n",
    "    --mask_file $mask_file\n",
    "    --keep_gene $keep_gene\n",
    "    --aaf_bins $aaf_bins\n",
    "    --build_mask $build_mask\n",
    "    --job_size $lmm_job_size\n",
    "    --ylim $ylim\n",
    "    --reverse_log_p $reverse_log_p\n",
    "    --numThreads $numThreads\n",
    "    --container_lmm $container_lmm\n",
    "    --container_marp $container_marp\n",
    "\"\"\"\n",
    "\n",
    "sos run ~/project/bioworkflows/admin/Get_Job_Script.ipynb farnam \\\n",
    "    --template-file $tpl_file \\\n",
    "    --workflow-file $lmm_sos \\\n",
    "    --to-script $lmm_sbatch_regenie \\\n",
    "    --args \"$lmm_args\""
   ]
  },
  {
   "cell_type": "markdown",
   "metadata": {
    "kernel": "Bash"
   },
   "source": [
    "## Bolt-LMM job"
   ]
  },
  {
   "cell_type": "code",
   "execution_count": 2,
   "metadata": {
    "kernel": "Bash"
   },
   "outputs": [
    {
     "name": "stdout",
     "output_type": "stream",
     "text": [
      "INFO: Running \u001b[32mfarnam\u001b[0m: Configuration for Yale `farnam` cluster\n",
      "INFO: \u001b[32mfarnam\u001b[0m is \u001b[32mcompleted\u001b[0m.\n",
      "INFO: \u001b[32mfarnam\u001b[0m output:   \u001b[32m../output/2020-10-20_f3393_hearing_aid_imp-bolt.sbatch\u001b[0m\n",
      "INFO: Workflow farnam (ID=c482417dfcba9f23) is executed successfully with 1 completed step.\n",
      "\n"
     ]
    }
   ],
   "source": [
    "lmm_dir_bolt=$lmm_imp_dir_bolt/f3393_hearing_aid\n",
    "lmm_sbatch_bolt=../output/$(date +\"%Y-%m-%d\")_f3393_hearing_aid_imp-bolt.sbatch\n",
    "phenoFile=$hearing_pheno_path/200828_UKBB_Hearing_aid_f3393\n",
    "covarFile=$hearing_pheno_path/200828_UKBB_Hearing_aid_f3393\n",
    "phenoCol=hearing_aid_cat\n",
    "covarCol=sex\n",
    "qCovarCol=age_final_aid\n",
    "\n",
    "lmm_args=\"\"\"boltlmm\n",
    "    --cwd $lmm_dir_bolt \n",
    "    --bfile $bfile \n",
    "    --sampleFile $sampleFile\n",
    "    --bgenFile $bgenFile \n",
    "    --phenoFile $phenoFile \n",
    "    --formatFile $formatFile_bolt \n",
    "    --covarFile $covarFile \n",
    "    --LDscoresFile $LDscoresFile \n",
    "    --geneticMapFile $geneticMapFile \n",
    "    --phenoCol $phenoCol \n",
    "    --covarCol $covarCol \n",
    "    --covarMaxLevels $covarMaxLevels \n",
    "    --qCovarCol $qCovarCol \n",
    "    --numThreads $numThreads \n",
    "    --bgenMinMAF $bgenMinMAF \n",
    "    --bgenMinINFO $bgenMinINFO \n",
    "    --job_size $lmm_job_size\n",
    "    --ylim $ylim\n",
    "    --container_lmm $container_lmm\n",
    "    --container_marp $container_marp    \n",
    "\"\"\"\n",
    "\n",
    "sos run ~/project/bioworkflows/admin/Get_Job_Script.ipynb farnam \\\n",
    "    --template-file $tpl_file \\\n",
    "    --workflow-file $lmm_sos \\\n",
    "    --to-script $lmm_sbatch_bolt \\\n",
    "    --args \"$lmm_args\""
   ]
  },
  {
   "cell_type": "markdown",
   "metadata": {
    "kernel": "Bash"
   },
   "source": [
    "## LD clumping job"
   ]
  },
  {
   "cell_type": "markdown",
   "metadata": {
    "kernel": "Bash"
   },
   "source": [
    "### Imputed data"
   ]
  },
  {
   "cell_type": "code",
   "execution_count": null,
   "metadata": {
    "kernel": "Bash"
   },
   "outputs": [],
   "source": [
    "clumping_dir=$clumping_dir/f3393_hearing_aid\n",
    "clumping_sbatch=../output/$(date +\"%Y-%m-%d\")_f3393_hearing_aid_ldclumping.sbatch\n",
    "sumstatsFiles=$lmm_imp_dir_fastgwa/f3393_hearing_aid/200828_UKBB_Hearing_aid_f3393_hearing_aid_cat.fastGWA.snp_stats.gz\n",
    "\n",
    "clumping_args=\"\"\"default \n",
    "    --cwd $clumping_dir \n",
    "    --bfile $bfile\n",
    "    --bfile_ref $bfile_ref \n",
    "    --genoFile $genofile\n",
    "    --sampleFile $sampleFile \n",
    "    --sumstatsFiles $sumstatsFiles \n",
    "    --unrelated_samples $unrelated_samples \n",
    "    --ld_sample_size $ld_sample_size \n",
    "    --clump_field $clump_field\n",
    "    --clump_p1 $clump_p1 \n",
    "    --clump_p2 $clump_p2 \n",
    "    --clump_r2 $clump_r2 \n",
    "    --clump_kb $clump_kb \n",
    "    --clump_annotate $clump_annotate \n",
    "    --numThreads $numThreads \n",
    "    --job_size $clump_job_size\n",
    "\"\"\"\n",
    "\n",
    "sos run ~/project/bioworkflows/admin/Get_Job_Script.ipynb farnam \\\n",
    "    --template-file $tpl_file \\\n",
    "    --workflow-file $clumping_sos \\\n",
    "    --to-script $clumping_sbatch \\\n",
    "    --args \"$clumping_args\""
   ]
  },
  {
   "cell_type": "markdown",
   "metadata": {
    "kernel": "Bash"
   },
   "source": [
    "### Exome data: \n",
    "\n",
    "FIXME: \n",
    "1. Option: Is to create the reference bed from the exome data. However this bfile is used to calculate the LD between SNPs, therefore it is better to use a reference file created from the genotype array. One drawback will be that variants present in the exome and absent in the genotype array wont be selected as index SNPs.\n",
    "2. Option: use the bfile_ref created from the imputed data "
   ]
  },
  {
   "cell_type": "code",
   "execution_count": 1,
   "metadata": {
    "kernel": "Bash"
   },
   "outputs": [
    {
     "name": "stdout",
     "output_type": "stream",
     "text": [
      "INFO: Running \u001b[32mfarnam\u001b[0m: Configuration for Yale `farnam` cluster\n",
      "INFO: \u001b[32mfarnam\u001b[0m is \u001b[32mcompleted\u001b[0m.\n",
      "INFO: \u001b[32mfarnam\u001b[0m output:   \u001b[32m../output/2021-02-07_f3393_hearing_aid_exome_ldclumping.sbatch\u001b[0m\n",
      "INFO: Workflow farnam (ID=w64d7831c0c82bb7e) is executed successfully with 1 completed step.\n",
      "\n"
     ]
    }
   ],
   "source": [
    "clumping_dir=$clumping_dir/f3393_hearing_aid_exome\n",
    "clumping_sbatch=../output/$(date +\"%Y-%m-%d\")_f3393_hearing_aid_exome_ldclumping.sbatch\n",
    "#clumping_sbatch=../output/$(date +\"%Y-%m-%d\")_refbedfile2_exome_ldclumping.sbatch\n",
    "bfile=$UKBB_PATH/genotype_files/pleiotropy_geneticfiles/UKB_Caucasians_phenotypeindepqc120319_updated082020removedwithdrawnindiv.bed\n",
    "sumstatsFiles=$lmm_exome_dir_regenie/f3393_hearing_aid_exomes/010421_UKBB_Hearing_aid_f3393_128254ind_exomes_hearing_aid_cat.regenie.snp_stats.gz\n",
    "sampleFile=$UKBB_PATH/genotype_files/ukb28374_exomedata/exome_data_OCT2020/ukb23155_s200631.fam\n",
    "bfile_ref=$UKBB_PATH/genotype_files/ukb28374_exomedata/exome_data_OCT2020/ukb23155_s200631_chr1_22_exomedata.1200.ref_geno.bed\n",
    "ld_sample_size=1200\n",
    "clump_field=P\n",
    "clump_p1=5e-08\n",
    "clump_p2=1\n",
    "clump_r2=0.2\n",
    "clump_kb=2000\n",
    "clump_annotate=BP\n",
    "numThreads=20\n",
    "\n",
    "# Select samples filter_samples workflow & create reference file with reference workflow\n",
    "# Then use default workflow to run the LD clumping\n",
    "clumping_args=\"\"\"default\n",
    "    --cwd $clumping_dir\n",
    "    --bfile $bfile\n",
    "    --bfile_ref $bfile_ref \n",
    "    --genoFile $genoFile\n",
    "    --sampleFile $sampleFile \n",
    "    --sumstatsFiles $sumstatsFiles \n",
    "    --unrelated_samples $unrelated_samples \n",
    "    --ld_sample_size $ld_sample_size \n",
    "    --clump_field $clump_field\n",
    "    --clump_p1 $clump_p1 \n",
    "    --clump_p2 $clump_p2 \n",
    "    --clump_r2 $clump_r2 \n",
    "    --clump_kb $clump_kb \n",
    "    --clump_annotate $clump_annotate \n",
    "    --numThreads $numThreads \n",
    "    --job_size $clump_job_size\n",
    "    --container_lmm $container_lmm\n",
    "\"\"\"\n",
    "\n",
    "sos run ~/project/bioworkflows/admin/Get_Job_Script.ipynb farnam \\\n",
    "    --template-file $tpl_file \\\n",
    "    --workflow-file $clumping_sos \\\n",
    "    --to-script $clumping_sbatch \\\n",
    "    --args \"$clumping_args\""
   ]
  },
  {
   "cell_type": "markdown",
   "metadata": {
    "kernel": "Bash"
   },
   "source": [
    "## Region extraction"
   ]
  },
  {
   "cell_type": "markdown",
   "metadata": {
    "kernel": "Bash"
   },
   "source": [
    "### Imputed data"
   ]
  },
  {
   "cell_type": "code",
   "execution_count": 4,
   "metadata": {
    "kernel": "Bash"
   },
   "outputs": [
    {
     "name": "stdout",
     "output_type": "stream",
     "text": [
      "INFO: Running \u001b[32mfarnam\u001b[0m: Configuration for Yale `farnam` cluster\n",
      "INFO: \u001b[32mfarnam\u001b[0m is \u001b[32mcompleted\u001b[0m.\n",
      "INFO: \u001b[32mfarnam\u001b[0m output:   \u001b[32m../output/2020-10-28_f3393_hearing_aid_imp-region.sbatch\u001b[0m\n",
      "INFO: Workflow farnam (ID=55af58288aa5cc61) is executed successfully with 1 completed step.\n",
      "\n"
     ]
    }
   ],
   "source": [
    "phenoFile=$UKBB_PATH/phenotype_files/hearing_impairment/200828_UKBB_Hearing_aid_f3393\n",
    "extract_dir=$UKBB_PATH/results/region_extraction/f3393_hearing_aid\n",
    "extract_sos=~/project/UKBB_GWAS_dev/workflow/Region_Extraction_4.ipynb\n",
    "extract_sbatch=../output/$(date +\"%Y-%m-%d\")_f3393_hearing_aid_imp-region.sbatch\n",
    "region_file=$UKBB_PATH/results/LD_clumping/f3393_hearing_aid/*.clumped_region\n",
    "geno_path=$UKBB_PATH/results/UKBB_bgenfilepath.txt\n",
    "sumstats_path=$UKBB_PATH/results/FastGWA_results/results_imputed_data/f3393_hearing_aid/*.snp_stats.gz\n",
    "\n",
    "extract_args=\"\"\"default\n",
    "    --cwd $extract_dir\n",
    "    --region-file $region_file\n",
    "    --pheno-path $phenoFile\n",
    "    --geno-path $geno_path\n",
    "    --bgen-sample-path $sampleFile\n",
    "    --sumstats-path $sumstats_path\n",
    "    --format-config-path $formatFile_fastgwa\n",
    "    --unrelated-samples $unrelated_samples\n",
    "    --job-size $extract_job_size\n",
    "\"\"\"\n",
    "\n",
    "sos run ~/project/bioworkflows/admin/Get_Job_Script.ipynb farnam \\\n",
    "    --template-file $tpl_file \\\n",
    "    --workflow-file $extract_sos \\\n",
    "    --to-script $extract_sbatch \\\n",
    "    --args \"$extract_args\""
   ]
  },
  {
   "cell_type": "markdown",
   "metadata": {
    "kernel": "Bash"
   },
   "source": [
    "### Exome data"
   ]
  },
  {
   "cell_type": "code",
   "execution_count": 15,
   "metadata": {
    "kernel": "Bash"
   },
   "outputs": [],
   "source": [
    "### Create the bedfilepath file\n",
    "cd $UKBB_PATH/genotype_files/ukb28374_exomedata/exome_data_OCT2020\n",
    "for file in ukb23155_c{1..22}_b0_v1.bed;\n",
    "    do echo `pwd`/$file;\n",
    "done | awk '{print NR \" \" $s}' > UKBB_exome_plinkfilepath.txt"
   ]
  },
  {
   "cell_type": "code",
   "execution_count": 2,
   "metadata": {
    "kernel": "Bash"
   },
   "outputs": [
    {
     "name": "stdout",
     "output_type": "stream",
     "text": [
      "INFO: Running \u001b[32mfarnam\u001b[0m: Configuration for Yale `farnam` cluster\n",
      "INFO: \u001b[32mfarnam\u001b[0m is \u001b[32mcompleted\u001b[0m.\n",
      "INFO: \u001b[32mfarnam\u001b[0m output:   \u001b[32m/home/dc2325/project/UKBB_GWAS_dev/output/2021-02-09_f3393_hearing_aid_exome-regionextrac.sbatch\u001b[0m\n",
      "INFO: Workflow farnam (ID=w60dbbcede9750add) is executed successfully with 1 completed step.\n",
      "\n"
     ]
    }
   ],
   "source": [
    "tpl_file=/home/dc2325/project/UKBB_GWAS_dev/farnam.yml\n",
    "phenoFile=$UKBB_PATH/phenotype_files/hearing_impairment/phenotypes_exome_data/010421_UKBB_Hearing_aid_f3393_128254ind_exomes\n",
    "extract_dir=$UKBB_PATH/results/region_extraction/f3393_hearing_aid_exomes\n",
    "# Original region extraction pipeline\n",
    "extract_sos=~/project/bioworkflows/admin/Region_Extraction.ipynb \n",
    "#extract_sos=~/project/UKBB_GWAS_dev/workflow/Region_Extraction_4.ipynb\n",
    "extract_sbatch=/home/dc2325/project/UKBB_GWAS_dev/output/$(date +\"%Y-%m-%d\")_f3393_hearing_aid_exome-regionextrac.sbatch\n",
    "region_file=$UKBB_PATH/results/LD_clumping/f3393_hearing_aid_exome/*.clumped_region\n",
    "geno_path=$UKBB_PATH/genotype_files/ukb28374_exomedata/exome_data_OCT2020/UKBB_exome_plinkfilepath.txt\n",
    "sumstats_path=$UKBB_PATH/results/REGENIE_results/results_exome_data/f3393_hearing_aid_exomes/010421_UKBB_Hearing_aid_f3393_128254ind_exomes_hearing_aid_cat.regenie.snp_stats.gz\n",
    "unrelated_samples=$UKBB_PATH/genotype_files/pleiotropy_geneticfiles/unrelated_n307259/UKB_unrelatedcauc_phenotypes_asthmat2dbmiwaisthip_agesex_waisthipratio_040620\n",
    "extract_job_size=10\n",
    "sampleFile=\n",
    "formatFile_regenie=\n",
    "#container_lmm=$UKBB_PATH/lmm.sif\n",
    "\n",
    "extract_args=\"\"\"default\n",
    "    --cwd $extract_dir\n",
    "    --region-file $region_file\n",
    "    --pheno-path $phenoFile\n",
    "    --geno-path $geno_path\n",
    "    --bgen-sample-path $sampleFile\n",
    "    --sumstats-path $sumstats_path\n",
    "    --format-config-path $formatFile_regenie\n",
    "    --unrelated-samples $unrelated_samples\n",
    "    --job-size $extract_job_size\n",
    "\"\"\"\n",
    "\n",
    "sos run ~/project/bioworkflows/admin/Get_Job_Script.ipynb farnam \\\n",
    "    --template-file $tpl_file \\\n",
    "    --workflow-file $extract_sos \\\n",
    "    --to-script $extract_sbatch \\\n",
    "    --args \"$extract_args\""
   ]
  },
  {
   "cell_type": "markdown",
   "metadata": {
    "kernel": "Bash"
   },
   "source": [
    "## Fine mapping"
   ]
  },
  {
   "cell_type": "code",
   "execution_count": null,
   "metadata": {
    "kernel": "Bash"
   },
   "outputs": [],
   "source": [
    "finemap_dir=$UKBB_PATH/results/fine_mapping/f3393_hearing_aid\n",
    "finemap_sos=~/project/UKBB_GWAS_dev/workflow/SuSiE_test.ipynb\n",
    "finemap_sbatch=../output/$(date +\"%Y-%m-%d\")_f3393_hearing_aid_imp-finemap.sbatch\n",
    "region_dir=$UKBB_PATH/results/region_extraction/f3393_hearing_aid\n",
    "region_file=$UKBB_PATH/results/LD_clumping/f3393_hearing_aid/200828_UKBB_Hearing_aid_f3393_hearing_aid_cat.fastGWA.snp_stats.clumped_region\n",
    "sumstats_path=$UKBB_PATH/results/FastGWA_results/results_imputed_data/f3393_hearing_aid/*.snp_stats.gz\n",
    "N=230411\n",
    "container_lmm=/home/dc2325/scratch60/lmm_v_1_4.sif\n",
    "\n",
    "finemap_args=\"\"\"default\n",
    "    --cwd $finemap_dir\n",
    "    --region_dir $region_dir\n",
    "    --region_file $phenoFile\n",
    "    --sumstats_path $sumstats_path\n",
    "    --container_lmm\n",
    "\"\"\"\n",
    "sos run ~/project/bioworkflows/admin/Get_Job_Script.ipynb farnam \\\n",
    "    --template-file $tpl_file \\\n",
    "    --workflow-file $finemap_sos \\\n",
    "    --to-script $finemap_sbatch \\\n",
    "    --args \"$finemap_args\""
   ]
  },
  {
   "cell_type": "markdown",
   "metadata": {
    "kernel": "Bash"
   },
   "source": [
    "## Post_GWAS annotation SNP-to-gene"
   ]
  },
  {
   "cell_type": "markdown",
   "metadata": {
    "kernel": "Bash"
   },
   "source": [
    "### Annotate exome data (old pheno)"
   ]
  },
  {
   "cell_type": "code",
   "execution_count": 3,
   "metadata": {
    "kernel": "Bash"
   },
   "outputs": [
    {
     "name": "stdout",
     "output_type": "stream",
     "text": [
      "INFO: Running \u001b[32mfarnam\u001b[0m: Configuration for Yale `farnam` cluster\n",
      "INFO: \u001b[32mfarnam\u001b[0m is \u001b[32mcompleted\u001b[0m.\n",
      "INFO: \u001b[32mfarnam\u001b[0m output:   \u001b[32m../output/2021-01-28_f3393_postgwa.sbatch\u001b[0m\n",
      "INFO: Workflow farnam (ID=w6b10aab5fa809918) is executed successfully with 1 completed step.\n"
     ]
    }
   ],
   "source": [
    "lmm_dir=$UKBB_PATH/results/REGENIE_results/results_exome_data/f3393_hearing_aid_exomes\n",
    "postgwa_sbatch=../output/$(date +\"%Y-%m-%d\")_f3393_postgwa.sbatch\n",
    "sumstatsFile=$UKBB_PATH/results/REGENIE_results/results_exome_data/f3393_hearing_aid_exomes/010421_UKBB_Hearing_aid_f3393_128254ind_exomes_hearing_aid_cat.regenie.snp_stats.gz\n",
    "tpl_file=../farnam.yml\n",
    "postgwa_sos=~/project/UKBB_GWAS_dev/workflow/snptogene.ipynb\n",
    "job_size=1\n",
    "hg=38\n",
    "postgwa_args=\"\"\"default\n",
    "    --cwd $lmm_dir\n",
    "    --sumstatsFile $sumstatsFile\n",
    "    --hg $hg\n",
    "    --job_size $job_size\n",
    "\"\"\"\n",
    "\n",
    "sos run ~/project/bioworkflows/admin/Get_Job_Script.ipynb farnam \\\n",
    "    --template-file $tpl_file \\\n",
    "    --workflow-file $postgwa_sos \\\n",
    "    --to-script $postgwa_sbatch \\\n",
    "    --args \"$postgwa_args\""
   ]
  },
  {
   "cell_type": "markdown",
   "metadata": {
    "kernel": "Bash"
   },
   "source": [
    "### Merge bim files from 200K exome data"
   ]
  },
  {
   "cell_type": "code",
   "execution_count": 6,
   "metadata": {
    "kernel": "Bash"
   },
   "outputs": [
    {
     "name": "stdout",
     "output_type": "stream",
     "text": [
      "INFO: Running \u001b[32mbim_merge\u001b[0m: Merge all the bimfiles into a single file to use later with awk Only need to run this cell once\n",
      "INFO: \u001b[32mbim_merge\u001b[0m is \u001b[32mcompleted\u001b[0m.\n",
      "INFO: \u001b[32mbim_merge\u001b[0m output:   \u001b[32m/home/dc2325/project/results/exome_bim_merge/ukb23155_chr1_chr22.bim\u001b[0m\n",
      "INFO: Workflow bim_merge (ID=w7c5d4415eb1baffa) is executed successfully with 1 completed step.\n",
      "\n"
     ]
    }
   ],
   "source": [
    "cwd=$USER_PATH/ukb23155_200Kexomes_annovar/exome_bim_merge\n",
    "bimfiles=`echo $UKBB_yale/UKBiobank/ukb28374_exomedata/exome_data_OCT2020/ukb23155_c{1..22}_b0_v1.bim`\n",
    "bim_name=$USER_PATH/ukb23155_200Kexomes_annovar/exome_bim_merge/ukb23155_chr1_chr22.bim\n",
    "build='hg38'\n",
    "\n",
    "sos run ~/project/bioworkflows/variant-annotation/annovar.ipynb bim_from_plink\\\n",
    "    --cwd $cwd \\\n",
    "    --bim_name $bim_name \\\n",
    "    --bimfiles $bimfiles \\\n",
    "    --build $build\n",
    "    --job_size $job_size \\\n",
    "    --container_annovar $container_annovar"
   ]
  },
  {
   "cell_type": "markdown",
   "metadata": {
    "kernel": "Bash"
   },
   "source": [
    "### Annotate exome data (old pheno) with bfile"
   ]
  },
  {
   "cell_type": "code",
   "execution_count": 13,
   "metadata": {
    "kernel": "Bash"
   },
   "outputs": [
    {
     "name": "stdout",
     "output_type": "stream",
     "text": [
      "INFO: Running \u001b[32mannovar_1\u001b[0m: Get the list of significantly associated SNPs\n",
      "INFO: Step \u001b[32mannovar_1\u001b[0m (index=0) is \u001b[32mignored\u001b[0m with signature constructed\n",
      "INFO: \u001b[32mannovar_1\u001b[0m output:   \u001b[32m/home/dc2325/scratch60/output/bfile_annovar/010421_UKBB_Hearing_aid_f3393_128254ind_exomes_hearing_aid_cat.regenie.snp_annotate\u001b[0m\n",
      "INFO: Running \u001b[32mannovar_2\u001b[0m: Get chr, start, end, ref_allele, alt_allele format\n",
      "INFO: Step \u001b[32mannovar_2\u001b[0m (index=0) is \u001b[32mignored\u001b[0m with signature constructed\n",
      "INFO: \u001b[32mannovar_2\u001b[0m output:   \u001b[32m/home/dc2325/scratch60/output/bfile_annovar/010421_UKBB_Hearing_aid_f3393_128254ind_exomes_hearing_aid_cat.regenie.avinput\u001b[0m\n",
      "INFO: Running \u001b[32mannovar_3\u001b[0m: Annotate variants file using ANNOVAR\n",
      "INFO: \u001b[32mannovar_3\u001b[0m is \u001b[32mcompleted\u001b[0m.\n",
      "INFO: \u001b[32mannovar_3\u001b[0m output:   \u001b[32m/home/dc2325/scratch60/output/bfile_annovar/010421_UKBB_Hearing_aid_f3393_128254ind_exomes_hearing_aid_cat.regenie.hg38_multianno.csv\u001b[0m\n",
      "INFO: Workflow annovar (ID=w9225fae676e7b2cc) is executed successfully with 1 completed step and 2 ignored steps.\n",
      "\n"
     ]
    }
   ],
   "source": [
    "UKBB_PATH=/gpfs/gibbs/pi/dewan/data/UKBiobank\n",
    "ukbb=$UKBB_PATH\n",
    "USER_PATH=/home/dc2325/project\n",
    "cwd=/home/dc2325/scratch60/output/bfile_annovar\n",
    "sumstatsFile=$UKBB_PATH/results/REGENIE_results/results_exome_data/f3393_hearing_aid_exomes_bfile/010421_UKBB_Hearing_aid_f3393_128254ind_exomes_hearing_aid_cat.regenie.snp_stats.gz\n",
    "hg=38\n",
    "job_size=1\n",
    "container_annovar=/gpfs/gibbs/pi/dewan/data/UKBiobank/annovar.sif\n",
    "bimfiles=`echo /gpfs/gibbs/pi/dewan/data/UKBiobank/genotype_files/ukb28374_exomedata/exome_data_OCT2020/ukb23155_c{1..22}_b0_v1.bim`\n",
    "bim_name=/home/dc2325/project/results/exome_bim_merge/ukb23155_chr1_chr22.bim\n",
    "humandb=/gpfs/ysm/datasets/db/annovar/humandb\n",
    "\n",
    "sos run ~/project/UKBB_GWAS_dev/workflow/snptogene.ipynb annovar \\\n",
    "    --cwd $cwd \\\n",
    "    --sumstatsFile $sumstatsFile\\\n",
    "    --bim_name $bim_name \\\n",
    "    --bimfiles $bimfiles\\\n",
    "    --hg $hg \\\n",
    "    --job_size $job_size \\\n",
    "    --humandb $humandb\\\n",
    "    --ukbb $ukbb \\\n",
    "    --container_annovar $container_annovar \\\n",
    "    -s build"
   ]
  },
  {
   "cell_type": "markdown",
   "metadata": {
    "kernel": "Bash"
   },
   "source": [
    "### Annotate exome data (new phenotype) with bfile"
   ]
  },
  {
   "cell_type": "code",
   "execution_count": null,
   "metadata": {
    "kernel": "Bash"
   },
   "outputs": [],
   "source": [
    "UKBB_PATH=/gpfs/gibbs/pi/dewan/data/UKBiobank\n",
    "ukbb=$UKBB_PATH\n",
    "USER_PATH=/home/dc2325/project\n",
    "cwd=/home/dc2325/scratch60/output/200k_new_pheno_annovar\n",
    "sumstatsFile=$UKBB_PATH/results/REGENIE_results/results_exome_data/f2247_hearing_difficulty_exomes200K_noqc_ctrl_na/062421_UKBB_Hearing_difficulty_f2247_expandedwhite_z974included_ctrl_na_144952ind_f2247_ctrl_na.regenie.snp_stats.gz\n",
    "hg=38\n",
    "job_size=1\n",
    "container_annovar=$UKBB_PATH/annovar.sif\n",
    "bimfiles=`echo /gpfs/gibbs/pi/dewan/data/UKBiobank/genotype_files/ukb28374_exomedata/exome_data_OCT2020/ukb23155_c{1..22}_b0_v1.bim`\n",
    "bim_name=/home/dc2325/project/results/exome_bim_merge/ukb23155_chr1_chr22.bim\n",
    "humandb=/gpfs/ysm/datasets/db/annovar/humandb\n",
    "\n",
    "sos run ~/project/UKBB_GWAS_dev/workflow/snptogene.ipynb annovar \\\n",
    "    --cwd $cwd \\\n",
    "    --sumstatsFile $sumstatsFile\\\n",
    "    --bim_name $bim_name \\\n",
    "    --hg $hg \\\n",
    "    --job_size $job_size \\\n",
    "    --humandb $humandb\\\n",
    "    --ukbb $ukbb \\\n",
    "    --bimfiles $bimfiles\\\n",
    "    --container_annovar $container_annovar"
   ]
  },
  {
   "cell_type": "markdown",
   "metadata": {
    "kernel": "Bash"
   },
   "source": [
    "## Annotation using ANNOVAR of 200Kexomes, 50K exomes and bgen imputed variants"
   ]
  },
  {
   "cell_type": "markdown",
   "metadata": {
    "kernel": "Bash"
   },
   "source": [
    "### 200K exomes"
   ]
  },
  {
   "cell_type": "code",
   "execution_count": 3,
   "metadata": {
    "kernel": "Bash"
   },
   "outputs": [
    {
     "name": "stdout",
     "output_type": "stream",
     "text": [
      "INFO: Running \u001b[32mfarnam\u001b[0m: Configuration for Yale `farnam` cluster\n",
      "INFO: \u001b[32mfarnam\u001b[0m is \u001b[32mcompleted\u001b[0m.\n",
      "INFO: \u001b[32mfarnam\u001b[0m output:   \u001b[32m../output/2021-02-07_annovar_chr1_22_exomes_postgwa.sbatch\u001b[0m\n",
      "INFO: Workflow farnam (ID=w696e79ce57c148dd) is executed successfully with 1 completed step.\n",
      "\n"
     ]
    }
   ],
   "source": [
    "annovar_dir=$UKBB_PATH/results/annovar_exome\n",
    "bedfiles=`echo $UKBB_PATH/genotype_files/ukb28374_exomedata/exome_data_OCT2020/ukb23155_c{1..22}_b0_v1.bed`\n",
    "bimfiles=`echo $UKBB_PATH/genotype_files/ukb28374_exomedata/exome_data_OCT2020/ukb23155_c{1..22}_b0_v1.bim`\n",
    "bim_name=$UKBB_PATH/genotype_files/ukb28374_exomedata/exome_data_OCT2020/ukb23155_chr1_chr22_exomedata.bim\n",
    "annovar_sbatch=../output/$(date +\"%Y-%m-%d\")_annovar_chr1_22_exomes_postgwa.sbatch\n",
    "tpl_file=../farnam.yml\n",
    "annovar_sos=~/project/UKBB_GWAS_dev/workflow/QC_Exome_UKBB.ipynb\n",
    "job_size=1\n",
    "humandb=/gpfs/ysm/datasets/db/annovar/humandb\n",
    "ukbb=/gpfs/gibbs/pi/dewan/data/UKBiobank\n",
    "container_annovar=$UKBB_PATH/annovar.sif \n",
    "name_prefix=ukb23155_chr1_chr22\n",
    "\n",
    "# Use the bim_merge workflow first and then the annovar workflow\n",
    "annovar_args=\"\"\"annovar\n",
    "    --cwd $annovar_dir \\\n",
    "    --bedfiles $bedfiles\\\n",
    "    --bimfiles $bimfiles \\\n",
    "    --bim_name $bim_name \\\n",
    "    --humandb $humandb \\\n",
    "    --ukbb $ukbb \\\n",
    "    --job_size $job_size \\\n",
    "    --name_prefix $name_prefix \\\n",
    "    --container_annovar $container_annovar\n",
    "\"\"\"\n",
    "\n",
    "sos run ~/project/bioworkflows/admin/Get_Job_Script.ipynb farnam \\\n",
    "    --template-file $tpl_file \\\n",
    "    --workflow-file $annovar_sos \\\n",
    "    --to-script $annovar_sbatch \\\n",
    "    --args \"$annovar_args\""
   ]
  },
  {
   "cell_type": "markdown",
   "metadata": {
    "kernel": "Bash"
   },
   "source": [
    "### 50K exomes"
   ]
  },
  {
   "cell_type": "code",
   "execution_count": 3,
   "metadata": {
    "kernel": "Bash"
   },
   "outputs": [
    {
     "name": "stdout",
     "output_type": "stream",
     "text": [
      "INFO: Running \u001b[32mfarnam\u001b[0m: Configuration for Yale `farnam` cluster\n",
      "INFO: \u001b[32mfarnam\u001b[0m is \u001b[32mcompleted\u001b[0m.\n",
      "INFO: \u001b[32mfarnam\u001b[0m output:   \u001b[32m/home/dc2325/project/UKBB_GWAS_dev/output/2021-04-30_annovar_chr1_22_50Kexomes_postgwa.sbatch\u001b[0m\n",
      "INFO: Workflow farnam (ID=w29025279f82f6eb9) is executed successfully with 1 completed step.\n",
      "\n"
     ]
    }
   ],
   "source": [
    "# First run using only pure controls for f3393 \n",
    "annovar_dir=$UKBB_PATH/results/annovar_exome\n",
    "bfiles=/gpfs/gibbs/pi/dewan/data/UKBiobank/genotype_files/ukb28374_exomedata/ukb32285_exomespb_chr1_22.bed\n",
    "bim_name=/gpfs/gibbs/pi/dewan/data/UKBiobank/genotype_files/ukb28374_exomedata/ukb32285_exomespb_chr1_22.bim\n",
    "annovar_sbatch=~/project/UKBB_GWAS_dev/output/$(date +\"%Y-%m-%d\")_annovar_chr1_22_50Kexomes_postgwa.sbatch\n",
    "annovar_sos=~/project/bioworkflows/variant-annotation/annovar.ipynb\n",
    "job_size=1\n",
    "humandb=/gpfs/ysm/datasets/db/annovar/humandb\n",
    "ukbb=/gpfs/gibbs/pi/dewan/data/UKBiobank\n",
    "container_annovar=$UKBB_PATH/annovar.sif \n",
    "name_prefix=ukb23155_chr1_chr22_50Kexomes\n",
    "\n",
    "# Use the bim_merge workflow first and then the annovar workflow\n",
    "annovar_args=\"\"\"annovar\n",
    "    --cwd $annovar_dir \\\n",
    "    --bim_name $bim_name \\\n",
    "    --humandb $humandb \\\n",
    "    --ukbb $ukbb \\\n",
    "    --job_size $job_size \\\n",
    "    --name_prefix $name_prefix \\\n",
    "    --container_annovar $container_annovar\n",
    "\"\"\"\n",
    "\n",
    "sos run ~/project/bioworkflows/admin/Get_Job_Script.ipynb farnam \\\n",
    "    --template-file $tpl_file \\\n",
    "    --workflow-file $annovar_sos \\\n",
    "    --to-script $annovar_sbatch \\\n",
    "    --args \"$annovar_args\"\n"
   ]
  },
  {
   "cell_type": "markdown",
   "metadata": {
    "kernel": "Bash"
   },
   "source": [
    "### BGEN imputed data"
   ]
  },
  {
   "cell_type": "code",
   "execution_count": null,
   "metadata": {
    "kernel": "Bash"
   },
   "outputs": [],
   "source": []
  },
  {
   "cell_type": "markdown",
   "metadata": {
    "kernel": "Bash"
   },
   "source": [
    "# 2. Hearing difficulty/problems f.2247"
   ]
  },
  {
   "cell_type": "markdown",
   "metadata": {
    "kernel": "Bash"
   },
   "source": [
    "## FastGWA job white British"
   ]
  },
  {
   "cell_type": "code",
   "execution_count": null,
   "metadata": {
    "kernel": "Bash"
   },
   "outputs": [],
   "source": [
    "lmm_dir_fastgwa=$UKBB_PATH/results/FastGWA_results/results_imputed_data/f2247_hearing_difficulty\n",
    "lmm_sbatch_fastgwa=../output/$(date +\"%Y-%m-%d\")_f2247_imp-fastgwa.sbatch\n",
    "phenoFile=$UKBB_PATH/phenotype_files/hearing_impairment/200828_UKBB_Hearing_difficulty_f2247\n",
    "covarFile=$UKBB_PATH/phenotype_files/hearing_impairment/200828_UKBB_Hearing_difficulty_f2247\n",
    "phenoCol=hearing_diff_new\n",
    "covarCol=sex\n",
    "qCovarCol=age_final_diff\n",
    "\n",
    "lmm_args=\"\"\"fastGWA\n",
    "    --cwd $lmm_dir_fastgwa \n",
    "    --bfile $bfile \n",
    "    --sampleFile $sampleFile\n",
    "    --bgenFile $bgenFile \n",
    "    --phenoFile $phenoFile \n",
    "    --formatFile $formatFile_fastgwa \n",
    "    --covarFile $covarFile  \n",
    "    --phenoCol $phenoCol \n",
    "    --covarCol $covarCol \n",
    "    --covarMaxLevels $covarMaxLevels \n",
    "    --qCovarCol $qCovarCol \n",
    "    --numThreads $numThreads \n",
    "    --bgenMinMAF $bgenMinMAF \n",
    "    --bgenMinINFO $bgenMinINFO \n",
    "    --job_size $lmm_job_size\n",
    "    --grmFile $grmFile\n",
    "    --ylim $ylim\n",
    "    --container_lmm $container_lmm\n",
    "    --container_marp $container_marp\n",
    "\"\"\"\n",
    "\n",
    "sos run ~/project/bioworkflows/admin/Get_Job_Script.ipynb farnam \\\n",
    "    --template-file $tpl_file \\\n",
    "    --workflow-file $lmm_sos \\\n",
    "    --to-script $lmm_sbatch_fastgwa \\\n",
    "    --args \"$lmm_args\""
   ]
  },
  {
   "cell_type": "markdown",
   "metadata": {
    "kernel": "Bash"
   },
   "source": [
    "## FastGWA all white"
   ]
  },
  {
   "cell_type": "code",
   "execution_count": 3,
   "metadata": {
    "kernel": "Bash"
   },
   "outputs": [
    {
     "name": "stdout",
     "output_type": "stream",
     "text": [
      "INFO: Running \u001b[32mfarnam\u001b[0m: Configuration for Yale `farnam` cluster\n",
      "INFO: \u001b[32mfarnam\u001b[0m is \u001b[32mcompleted\u001b[0m.\n",
      "INFO: \u001b[32mfarnam\u001b[0m output:   \u001b[32m../output/2020-12-02_f2247_expanded_white_imp-fastgwa.sbatch\u001b[0m\n",
      "INFO: Workflow farnam (ID=9da5aed9605f3f9f) is executed successfully with 1 completed step.\n"
     ]
    }
   ],
   "source": [
    "lmm_dir_fastgwa=$UKBB_PATH/results/FastGWA_results/results_imputed_data/f2247_hearing_difficulty_expandedwhite\n",
    "lmm_sbatch_fastgwa=../output/$(date +\"%Y-%m-%d\")_f2247_expanded_white_imp-fastgwa.sbatch\n",
    "phenoFile=$UKBB_PATH/phenotype_files/hearing_impairment/120120_UKBB_Hearing_difficulty_f2247_expandedwhite\n",
    "covarFile=$UKBB_PATH/phenotype_files/hearing_impairment/120120_UKBB_Hearing_difficulty_f2247_expandedwhite\n",
    "phenoCol=hearing_diff_new\n",
    "covarCol=sex\n",
    "qCovarCol=age_final_diff\n",
    "\n",
    "lmm_args=\"\"\"fastGWA\n",
    "    --cwd $lmm_dir_fastgwa \n",
    "    --bfile $bfile \n",
    "    --sampleFile $sampleFile\n",
    "    --bgenFile $bgenFile \n",
    "    --phenoFile $phenoFile \n",
    "    --formatFile $formatFile_fastgwa \n",
    "    --covarFile $covarFile  \n",
    "    --phenoCol $phenoCol \n",
    "    --covarCol $covarCol \n",
    "    --covarMaxLevels $covarMaxLevels \n",
    "    --qCovarCol $qCovarCol \n",
    "    --numThreads $numThreads \n",
    "    --bgenMinMAF $bgenMinMAF \n",
    "    --bgenMinINFO $bgenMinINFO \n",
    "    --job_size $lmm_job_size\n",
    "    --grmFile $grmFile\n",
    "    --ylim $ylim\n",
    "    --container_lmm $container_lmm\n",
    "    --container_marp $container_marp\n",
    "\"\"\"\n",
    "\n",
    "sos run ~/project/bioworkflows/admin/Get_Job_Script.ipynb farnam \\\n",
    "    --template-file $tpl_file \\\n",
    "    --workflow-file $lmm_sos \\\n",
    "    --to-script $lmm_sbatch_fastgwa \\\n",
    "    --args \"$lmm_args\""
   ]
  },
  {
   "cell_type": "markdown",
   "metadata": {
    "kernel": "Bash"
   },
   "source": [
    "## FastGWA exome data"
   ]
  },
  {
   "cell_type": "code",
   "execution_count": 2,
   "metadata": {
    "kernel": "Bash"
   },
   "outputs": [
    {
     "name": "stdout",
     "output_type": "stream",
     "text": [
      "INFO: Running \u001b[32mfarnam\u001b[0m: Configuration for Yale `farnam` cluster\n",
      "INFO: \u001b[32mfarnam\u001b[0m is \u001b[32mcompleted\u001b[0m.\n",
      "INFO: \u001b[32mfarnam\u001b[0m output:   \u001b[32m../output/2021-01-12_f2247_exomes-fastgwa.sbatch\u001b[0m\n",
      "INFO: Workflow farnam (ID=372a90dd555a65fb) is executed successfully with 1 completed step.\n",
      "\n"
     ]
    }
   ],
   "source": [
    "lmm_dir_fastgwa=$UKBB_PATH/results/FastGWA_results/results_exome_data/f2247_hearing_difficulty_exomes\n",
    "lmm_sbatch_fastgwa=../output/$(date +\"%Y-%m-%d\")_f2247_exomes-fastgwa.sbatch\n",
    "bfile=$UKBB_PATH/genotype_files/ukb28374_exomedata/exome_data_OCT2020/exome_files_snpsonly/ukb23155.filtered.merged.bed\n",
    "genoFile=`echo $UKBB_PATH/genotype_files/ukb28374_exomedata/exome_data_OCT2020/ukb23155_c{1..22}_b0_v1.bed`\n",
    "sampleFile=\n",
    "phenoFile=$UKBB_PATH/phenotype_files/hearing_impairment/phenotypes_exome_data/010421_UKBB_Hearing_difficulty_f2247_171970ind_exomes\n",
    "covarFile=$UKBB_PATH/phenotype_files/hearing_impairment/phenotypes_exome_data/010421_UKBB_Hearing_difficulty_f2247_171970ind_exomes\n",
    "formatFile_fastgwa=~/project/UKBB_GWAS_dev/data/fastGWA_template.yml\n",
    "phenoCol=\"hearing_diff_new\"\n",
    "covarCol=sex\n",
    "qCovarCol=age_final_diff\n",
    "bgenMinMAF=0.001\n",
    "\n",
    "lmm_args=\"\"\"fastGWA\n",
    "    --cwd $lmm_dir_fastgwa \n",
    "    --bfile $bfile \n",
    "    --sampleFile $sampleFile\n",
    "    --genoFile $genoFile \n",
    "    --phenoFile $phenoFile\n",
    "    --formatFile $formatFile_fastgwa \n",
    "    --covarFile $covarFile  \n",
    "    --phenoCol $phenoCol \n",
    "    --covarCol $covarCol \n",
    "    --covarMaxLevels $covarMaxLevels \n",
    "    --qCovarCol $qCovarCol \n",
    "    --numThreads $numThreads \n",
    "    --bgenMinMAF $bgenMinMAF \n",
    "    --bgenMinINFO $bgenMinINFO \n",
    "    --job_size $lmm_job_size\n",
    "    --grmFile $grmFile\n",
    "    --ylim $ylim\n",
    "    --container_lmm $container_lmm\n",
    "    --container_marp $container_marp\n",
    "\"\"\"\n",
    "\n",
    "sos run ~/project/bioworkflows/admin/Get_Job_Script.ipynb farnam \\\n",
    "    --template-file $tpl_file \\\n",
    "    --workflow-file $lmm_sos \\\n",
    "    --to-script $lmm_sbatch_fastgwa \\\n",
    "    --args \"$lmm_args\""
   ]
  },
  {
   "cell_type": "markdown",
   "metadata": {
    "kernel": "Bash"
   },
   "source": [
    "## Regenie exome data"
   ]
  },
  {
   "cell_type": "code",
   "execution_count": 5,
   "metadata": {
    "kernel": "Bash"
   },
   "outputs": [
    {
     "name": "stdout",
     "output_type": "stream",
     "text": [
      "INFO: Running \u001b[32mfarnam\u001b[0m: Configuration for Yale `farnam` cluster\n",
      "INFO: \u001b[32mfarnam\u001b[0m is \u001b[32mcompleted\u001b[0m.\n",
      "INFO: \u001b[32mfarnam\u001b[0m output:   \u001b[32m../output/2021-02-12_f2247_hearing_difficulty_exome_bfile-regenie.sbatch\u001b[0m\n",
      "INFO: Workflow farnam (ID=w6ce6b23ca9b23cce) is executed successfully with 1 completed step.\n",
      "\n"
     ]
    }
   ],
   "source": [
    "lmm_dir_regenie=$lmm_exome_dir_regenie/f2247_hearing_difficulty_exomes_bfile\n",
    "lmm_sbatch_regenie=../output/$(date +\"%Y-%m-%d\")_f2247_hearing_difficulty_exome_bfile-regenie.sbatch\n",
    "phenoFile=$hearing_pheno_path/phenotypes_exome_data/010421_UKBB_Hearing_difficulty_f2247_171970ind_exomes\n",
    "covarFile=$hearing_pheno_path/phenotypes_exome_data/010421_UKBB_Hearing_difficulty_f2247_171970ind_exomes\n",
    "phenoCol=hearing_diff_new\n",
    "covarCol=sex\n",
    "qCovarCol=age_final_diff\n",
    "#Use original bed files from the UKBB exome data\n",
    "#bfile=$UKBB_PATH/genotype_files/ukb28374_exomedata/exome_data_OCT2020/exome_files_snpsonly/ukb23155.filtered.merged.bed\n",
    "#Use the original bed files for the genotype array on regenie step1\n",
    "bfile=$UKBB_PATH/genotype_files/pleiotropy_geneticfiles/UKB_originalgenotypefilesdownloaded083019/UKB_genotypedatadownloaded083019.bed\n",
    "\n",
    "lmm_args=\"\"\"regenie\n",
    "    --cwd $lmm_dir_regenie \n",
    "    --bfile $bfile \n",
    "    --genoFile $genoFile\n",
    "    --sampleFile $sampleFile\n",
    "    --phenoFile $phenoFile \n",
    "    --formatFile $formatFile_regenie \n",
    "    --phenoCol $phenoCol\n",
    "    --covarCol $covarCol  \n",
    "    --qCovarCol $qCovarCol\n",
    "    --bsize $bsize\n",
    "    --lowmem_prefix $lowmem_prefix\n",
    "    --trait $trait \n",
    "    --bgenMinMAF $bgenMinMAF \n",
    "    --maf_filter $maf_filter\n",
    "    --geno_filter $geno_filter\n",
    "    --hwe_filter $hwe_filter\n",
    "    --mind_filter $mind_filter\n",
    "    --minMAC $minMAC\n",
    "    --job_size $lmm_job_size\n",
    "    --ylim $ylim\n",
    "    --reverse_log_p $reverse_log_p\n",
    "    --numThreads $numThreads\n",
    "    --container_lmm $container_lmm\n",
    "    --container_marp $container_marp\n",
    "\"\"\"\n",
    "\n",
    "sos run ~/project/bioworkflows/admin/Get_Job_Script.ipynb farnam \\\n",
    "    --template-file $tpl_file \\\n",
    "    --workflow-file $lmm_sos \\\n",
    "    --to-script $lmm_sbatch_regenie \\\n",
    "    --args \"$lmm_args\""
   ]
  },
  {
   "cell_type": "markdown",
   "metadata": {
    "kernel": "Bash"
   },
   "source": [
    "## Regenie imputed data: expanded white control NA"
   ]
  },
  {
   "cell_type": "markdown",
   "metadata": {
    "kernel": "Bash"
   },
   "source": [
    "This run includes the new phenotype information with the imputed data"
   ]
  },
  {
   "cell_type": "code",
   "execution_count": 5,
   "metadata": {
    "kernel": "Bash"
   },
   "outputs": [
    {
     "name": "stdout",
     "output_type": "stream",
     "text": [
      "INFO: Running \u001b[32mfarnam\u001b[0m: Configuration for Yale `farnam` cluster\n",
      "INFO: \u001b[32mfarnam\u001b[0m is \u001b[32mcompleted\u001b[0m.\n",
      "INFO: \u001b[32mfarnam\u001b[0m output:   \u001b[32m/home/dc2325/project/UKBB_GWAS_dev/output/2021-07-13_f2247_hearing_difficulty_impdata-regenie.sbatch\u001b[0m\n",
      "INFO: Workflow farnam (ID=w80da2f9338cdcf29) is executed successfully with 1 completed step.\n",
      "\n"
     ]
    }
   ],
   "source": [
    "lmm_dir_regenie=$lmm_imp_dir_regenie/f2247_hearing_difficulty_impdata_newpheno\n",
    "lmm_sbatch_regenie=$USER_PATH/UKBB_GWAS_dev/output/$(date +\"%Y-%m-%d\")_f2247_hearing_difficulty_impdata-regenie.sbatch\n",
    "phenoFile=$hearing_pheno_path/041521_UKBB_Hearing_difficulty_f2247_expandedwhite_z974included_ctrl_na_316411ind\n",
    "covarFile=$hearing_pheno_path/041521_UKBB_Hearing_difficulty_f2247_expandedwhite_z974included_ctrl_na_316411ind\n",
    "phenoCol=f2247_ctrl_na\n",
    "covarCol=sex\n",
    "qCovarCol=age_final_diff_new\n",
    "genoFile=`echo $UKBB_PATH/genotype_files/ukb39554_imputeddataset/ukb_imp_chr{1..22}_v3.bgen`\n",
    "sampleFile=$UKBB_PATH/genotype_files/ukb39554_imputeddataset/ukb32285_imputedindiv.sample\n",
    "\n",
    "#Use the original bed files for the genotype array on regenie step1\n",
    "bfile=$UKBB_PATH/genotype_files/pleiotropy_geneticfiles/UKB_expandedwhite_qcgenotypefiles/UKB_expandedwhiteonly_phenotypeindepqc_410905indiv_528206snps_102720.bed\n",
    "\n",
    "lmm_args=\"\"\"regenie\n",
    "    --cwd $lmm_dir_regenie \n",
    "    --bfile $bfile \n",
    "    --genoFile $genoFile\n",
    "    --sampleFile $sampleFile\n",
    "    --phenoFile $phenoFile \n",
    "    --formatFile $formatFile_regenie \n",
    "    --phenoCol $phenoCol\n",
    "    --covarCol $covarCol  \n",
    "    --qCovarCol $qCovarCol\n",
    "    --bsize $bsize\n",
    "    --lowmem_dir $lowmem_dir\n",
    "    --trait $trait \n",
    "    --bgenMinMAF $bgenMinMAF \n",
    "    --bgenMinINFO $bgenMinINFO\n",
    "    --maf_filter $maf_filter\n",
    "    --geno_filter $geno_filter\n",
    "    --hwe_filter $hwe_filter\n",
    "    --mind_filter $mind_filter\n",
    "    --minMAC $minMAC\n",
    "    --job_size $lmm_job_size\n",
    "    --ylim $ylim\n",
    "    --reverse_log_p $reverse_log_p\n",
    "    --numThreads $numThreads\n",
    "    --container_lmm $container_lmm\n",
    "    --container_marp $container_marp\n",
    "\"\"\"\n",
    "\n",
    "sos run ~/project/bioworkflows/admin/Get_Job_Script.ipynb farnam \\\n",
    "    --template-file $tpl_file \\\n",
    "    --workflow-file $lmm_sos \\\n",
    "    --to-script $lmm_sbatch_regenie \\\n",
    "    --args \"$lmm_args\""
   ]
  },
  {
   "cell_type": "markdown",
   "metadata": {
    "kernel": "Bash"
   },
   "source": [
    "## Regenie: 50K exomes replication set"
   ]
  },
  {
   "cell_type": "markdown",
   "metadata": {
    "kernel": "Bash"
   },
   "source": [
    "### f.2247 & pure controls"
   ]
  },
  {
   "cell_type": "code",
   "execution_count": 2,
   "metadata": {
    "kernel": "Bash"
   },
   "outputs": [
    {
     "name": "stdout",
     "output_type": "stream",
     "text": [
      "INFO: Running \u001b[32mfarnam\u001b[0m: Configuration for Yale `farnam` cluster\n",
      "INFO: \u001b[32mfarnam\u001b[0m is \u001b[32mcompleted\u001b[0m.\n",
      "INFO: \u001b[32mfarnam\u001b[0m output:   \u001b[32m/home/dc2325/project/UKBB_GWAS_dev/output/2021-04-21_f2247_hearing_difficulty_exomes50K_pure_ctrl-regenie.sbatch\u001b[0m\n",
      "INFO: Workflow farnam (ID=wcaa8ffe2883ba03a) is executed successfully with 1 completed step.\n",
      "\n"
     ]
    }
   ],
   "source": [
    "lmm_dir_regenie=$lmm_exome_dir_regenie/f2247_hearing_difficulty_exomes50K_pure_ctrl\n",
    "lmm_sbatch_regenie=$USER_PATH/UKBB_GWAS_dev/output/$(date +\"%Y-%m-%d\")_f2247_hearing_difficulty_exomes50K_pure_ctrl-regenie.sbatch\n",
    "phenoFile=$hearing_pheno_path/041521_UKBB_Hearing_difficulty_f2247_expandedwhite_z974included_pure_ctrl_184909ind\n",
    "covarFile=$hearing_pheno_path/041521_UKBB_Hearing_difficulty_f2247_expandedwhite_z974included_pure_ctrl_184909ind\n",
    "phenoCol=f2247_ctrl_pure\n",
    "covarCol=sex\n",
    "qCovarCol=age_final_diff_new\n",
    "genoFile=/gpfs/gibbs/pi/dewan/data/UKBiobank/genotype_files/ukb28374_exomedata/ukb32285_exomespb_chr1_22.bed\n",
    "#Use the original bed files for the genotype array for the expanded white on regenie step1\n",
    "bfile=$UKBB_PATH/genotype_files/pleiotropy_geneticfiles/UKB_expandedwhite_qcgenotypefiles/UKB_expandedwhiteonly_phenotypeindepqc_410905indiv_528206snps_102720.bed\n",
    "\n",
    "lmm_args=\"\"\"regenie\n",
    "    --cwd $lmm_dir_regenie \n",
    "    --bfile $bfile \n",
    "    --genoFile $genoFile\n",
    "    --sampleFile $sampleFile\n",
    "    --phenoFile $phenoFile \n",
    "    --formatFile $formatFile_regenie \n",
    "    --phenoCol $phenoCol\n",
    "    --covarCol $covarCol  \n",
    "    --qCovarCol $qCovarCol\n",
    "    --bsize $bsize\n",
    "    --lowmem_dir $lowmem_dir\n",
    "    --trait $trait \n",
    "    --bgenMinMAF $bgenMinMAF \n",
    "    --bgenMinINFO $bgenMinINFO\n",
    "    --maf_filter $maf_filter\n",
    "    --geno_filter $geno_filter\n",
    "    --hwe_filter $hwe_filter\n",
    "    --mind_filter $mind_filter\n",
    "    --minMAC $minMAC\n",
    "    --job_size $lmm_job_size\n",
    "    --ylim $ylim\n",
    "    --reverse_log_p $reverse_log_p\n",
    "    --numThreads $numThreads\n",
    "    --container_lmm $container_lmm\n",
    "    --container_marp $container_marp\n",
    "\"\"\"\n",
    "\n",
    "sos run ~/project/bioworkflows/admin/Get_Job_Script.ipynb farnam \\\n",
    "    --template-file $tpl_file \\\n",
    "    --workflow-file $lmm_sos \\\n",
    "    --to-script $lmm_sbatch_regenie \\\n",
    "    --args \"$lmm_args\""
   ]
  },
  {
   "cell_type": "code",
   "execution_count": null,
   "metadata": {
    "kernel": "Bash"
   },
   "outputs": [],
   "source": []
  },
  {
   "cell_type": "code",
   "execution_count": null,
   "metadata": {
    "kernel": "Bash"
   },
   "outputs": [],
   "source": []
  },
  {
   "cell_type": "code",
   "execution_count": null,
   "metadata": {
    "kernel": "Bash"
   },
   "outputs": [],
   "source": [
    "# First run using controls na for f3393 \n",
    "lmm_dir_regenie=$lmm_exome_dir_regenie/f3393_hearing_aid_exomes200K_noqc_ctrl_na\n",
    "lmm_sbatch_regenie=$USER_PATH/UKBB_GWAS_dev/output/$(date +\"%Y-%m-%d\")_f3393_hearing_aid_exomes200K_noqc_ctrl_na-regenie.sbatch\n",
    "phenoFile=$hearing_pheno_path/062421_UKBB_Hearing_aid_f3393_expandedwhite_z974included_ctrl_na_104402ind\n",
    "covarFile=$hearing_pheno_path/062421_UKBB_Hearing_aid_f3393_expandedwhite_z974included_ctrl_na_104402ind\n",
    "phenoCol=f3393_ctrl_na\n",
    "covarCol=sex\n",
    "qCovarCol=age_final_aid\n",
    "genoFile=`echo $UKBB_PATH/genotype_files/ukb28374_exomedata/exome_data_OCT2020/ukb23155_c{1..22}_b0_v1.bed`\n",
    "#Use the original bed files for the genotype array on regenie step1\n",
    "bfile=$UKBB_PATH/genotype_files/pleiotropy_geneticfiles/UKB_originalgenotypefilesdownloaded083019/UKB_genotypedatadownloaded083019.bed\n",
    "hwe_filter=5e-08\n",
    "\n",
    "lmm_args=\"\"\"regenie\n",
    "    --cwd $lmm_dir_regenie \n",
    "    --bfile $bfile \n",
    "    --genoFile $genoFile\n",
    "    --sampleFile $sampleFile\n",
    "    --phenoFile $phenoFile \n",
    "    --formatFile $formatFile_regenie \n",
    "    --phenoCol $phenoCol\n",
    "    --covarCol $covarCol  \n",
    "    --qCovarCol $qCovarCol\n",
    "    --bsize $bsize\n",
    "    --lowmem_dir $lowmem_dir\n",
    "    --trait $trait \n",
    "    --bgenMinMAF $bgenMinMAF \n",
    "    --bgenMinINFO $bgenMinINFO\n",
    "    --maf_filter $maf_filter\n",
    "    --geno_filter $geno_filter\n",
    "    --hwe_filter $hwe_filter\n",
    "    --mind_filter $mind_filter\n",
    "    --minMAC $minMAC\n",
    "    --job_size $lmm_job_size\n",
    "    --ylim $ylim\n",
    "    --reverse_log_p $reverse_log_p\n",
    "    --numThreads $numThreads\n",
    "    --container_lmm $container_lmm\n",
    "    --container_marp $container_marp\n",
    "\"\"\"\n",
    "\n",
    "sos run ~/project/bioworkflows/admin/Get_Job_Script.ipynb farnam \\\n",
    "    --template-file $tpl_file \\\n",
    "    --workflow-file $lmm_sos \\\n",
    "    --to-script $lmm_sbatch_regenie \\\n",
    "    --args \"$lmm_args\""
   ]
  },
  {
   "cell_type": "markdown",
   "metadata": {
    "kernel": "Bash"
   },
   "source": [
    "### f.2247 Controls with NA for f.3393"
   ]
  },
  {
   "cell_type": "code",
   "execution_count": 6,
   "metadata": {
    "kernel": "Bash"
   },
   "outputs": [
    {
     "name": "stdout",
     "output_type": "stream",
     "text": [
      "INFO: Running \u001b[32mfarnam\u001b[0m: Configuration for Yale `farnam` cluster\n",
      "INFO: \u001b[32mfarnam\u001b[0m is \u001b[32mcompleted\u001b[0m.\n",
      "INFO: \u001b[32mfarnam\u001b[0m output:   \u001b[32m/home/dc2325/project/UKBB_GWAS_dev/output/2021-04-19_f2247_hearing_difficulty_exomes50K_ctrl_na-regenie.sbatch\u001b[0m\n",
      "INFO: Workflow farnam (ID=wcb0151f3731055ae) is executed successfully with 1 completed step.\n",
      "\n"
     ]
    }
   ],
   "source": [
    "lmm_dir_regenie=$lmm_exome_dir_regenie/f2247_hearing_difficulty_exomes50K_ctrl_na\n",
    "lmm_sbatch_regenie=$USER_PATH/UKBB_GWAS_dev/output/$(date +\"%Y-%m-%d\")_f2247_hearing_difficulty_exomes50K_ctrl_na-regenie.sbatch\n",
    "phenoFile=$hearing_pheno_path/041521_UKBB_Hearing_difficulty_f2247_expandedwhite_z974included_ctrl_na_316411ind\n",
    "covarFile=$hearing_pheno_path/041521_UKBB_Hearing_difficulty_f2247_expandedwhite_z974included_ctrl_na_316411ind\n",
    "phenoCol=f2247_ctrl_na\n",
    "covarCol=sex\n",
    "qCovarCol=age_final_diff_new\n",
    "genoFile=/gpfs/gibbs/pi/dewan/data/UKBiobank/genotype_files/ukb28374_exomedata/ukb32285_exomespb_chr1_22.bed\n",
    "#Use the original bed files for the genotype array for the expanded white on regenie step1\n",
    "bfile=$UKBB_PATH/genotype_files/pleiotropy_geneticfiles/UKB_expandedwhite_qcgenotypefiles/UKB_expandedwhiteonly_phenotypeindepqc_410905indiv_528206snps_102720.bed\n",
    "\n",
    "lmm_args=\"\"\"regenie\n",
    "    --cwd $lmm_dir_regenie \n",
    "    --bfile $bfile \n",
    "    --genoFile $genoFile\n",
    "    --sampleFile $sampleFile\n",
    "    --phenoFile $phenoFile \n",
    "    --formatFile $formatFile_regenie \n",
    "    --phenoCol $phenoCol\n",
    "    --covarCol $covarCol  \n",
    "    --qCovarCol $qCovarCol\n",
    "    --bsize $bsize\n",
    "    --lowmem_dir $lowmem_dir\n",
    "    --trait $trait \n",
    "    --bgenMinMAF $bgenMinMAF \n",
    "    --bgenMinINFO $bgenMinINFO\n",
    "    --maf_filter $maf_filter\n",
    "    --geno_filter $geno_filter\n",
    "    --hwe_filter $hwe_filter\n",
    "    --mind_filter $mind_filter\n",
    "    --minMAC $minMAC\n",
    "    --job_size $lmm_job_size\n",
    "    --ylim $ylim\n",
    "    --reverse_log_p $reverse_log_p\n",
    "    --numThreads $numThreads\n",
    "    --container_lmm $container_lmm\n",
    "    --container_marp $container_marp\n",
    "\"\"\"\n",
    "\n",
    "sos run ~/project/bioworkflows/admin/Get_Job_Script.ipynb farnam \\\n",
    "    --template-file $tpl_file \\\n",
    "    --workflow-file $lmm_sos \\\n",
    "    --to-script $lmm_sbatch_regenie \\\n",
    "    --args \"$lmm_args\""
   ]
  },
  {
   "cell_type": "markdown",
   "metadata": {
    "kernel": "Bash"
   },
   "source": [
    "## Regenie in exome data (original Plink files UKBB unqc'ed) using modified phenotype file with controls_na for f.3393"
   ]
  },
  {
   "cell_type": "markdown",
   "metadata": {
    "kernel": "Bash"
   },
   "source": [
    "### f.2247 Controls with NA for f.3393"
   ]
  },
  {
   "cell_type": "code",
   "execution_count": 3,
   "metadata": {
    "kernel": "Bash"
   },
   "outputs": [
    {
     "name": "stdout",
     "output_type": "stream",
     "text": [
      "INFO: Running \u001b[32mfarnam\u001b[0m: Configuration for Yale `farnam` cluster\n",
      "INFO: \u001b[32mfarnam\u001b[0m is \u001b[32mcompleted\u001b[0m.\n",
      "INFO: \u001b[32mfarnam\u001b[0m output:   \u001b[32m/home/dc2325/project/UKBB_GWAS_dev/output/2021-06-24_f2247_hearing_aid_exomes200K_noqc_ctrl_na-regenie.sbatch\u001b[0m\n",
      "INFO: Workflow farnam (ID=w82514504865b0a4f) is executed successfully with 1 completed step.\n",
      "\n"
     ]
    }
   ],
   "source": [
    "# First run using controls na for f3393 \n",
    "lmm_dir_regenie=$lmm_exome_dir_regenie/f2247_hearing_difficulty_exomes200K_noqc_ctrl_na\n",
    "lmm_sbatch_regenie=$USER_PATH/UKBB_GWAS_dev/output/$(date +\"%Y-%m-%d\")_f2247_hearing_aid_exomes200K_noqc_ctrl_na-regenie.sbatch\n",
    "phenoFile=$hearing_pheno_path/062421_UKBB_Hearing_difficulty_f2247_expandedwhite_z974included_ctrl_na_144952ind\n",
    "covarFile=$hearing_pheno_path/062421_UKBB_Hearing_difficulty_f2247_expandedwhite_z974included_ctrl_na_144952ind\n",
    "phenoCol=f2247_ctrl_na\n",
    "covarCol=sex\n",
    "qCovarCol=age_final_diff_new\n",
    "genoFile=`echo $UKBB_PATH/genotype_files/ukb28374_exomedata/exome_data_OCT2020/ukb23155_c{1..22}_b0_v1.bed`\n",
    "#Use the original bed files for the genotype array on regenie step1\n",
    "bfile=$UKBB_PATH/genotype_files/pleiotropy_geneticfiles/UKB_originalgenotypefilesdownloaded083019/UKB_genotypedatadownloaded083019.bed\n",
    "hwe_filter=5e-08\n",
    "\n",
    "lmm_args=\"\"\"regenie\n",
    "    --cwd $lmm_dir_regenie \n",
    "    --bfile $bfile \n",
    "    --genoFile $genoFile\n",
    "    --sampleFile $sampleFile\n",
    "    --phenoFile $phenoFile \n",
    "    --formatFile $formatFile_regenie \n",
    "    --phenoCol $phenoCol\n",
    "    --covarCol $covarCol  \n",
    "    --qCovarCol $qCovarCol\n",
    "    --bsize $bsize\n",
    "    --lowmem_dir $lowmem_dir\n",
    "    --trait $trait \n",
    "    --bgenMinMAF $bgenMinMAF \n",
    "    --bgenMinINFO $bgenMinINFO\n",
    "    --maf_filter $maf_filter\n",
    "    --geno_filter $geno_filter\n",
    "    --hwe_filter $hwe_filter\n",
    "    --mind_filter $mind_filter\n",
    "    --minMAC $minMAC\n",
    "    --job_size $lmm_job_size\n",
    "    --ylim $ylim\n",
    "    --reverse_log_p $reverse_log_p\n",
    "    --numThreads $numThreads\n",
    "    --container_lmm $container_lmm\n",
    "    --container_marp $container_marp\n",
    "\"\"\"\n",
    "\n",
    "sos run ~/project/bioworkflows/admin/Get_Job_Script.ipynb farnam \\\n",
    "    --template-file $tpl_file \\\n",
    "    --workflow-file $lmm_sos \\\n",
    "    --to-script $lmm_sbatch_regenie \\\n",
    "    --args \"$lmm_args\""
   ]
  },
  {
   "cell_type": "markdown",
   "metadata": {
    "kernel": "Bash"
   },
   "source": [
    "## Regenie in exome data after VCF-QC 200K exomes"
   ]
  },
  {
   "cell_type": "markdown",
   "metadata": {
    "kernel": "Bash"
   },
   "source": [
    "### f.2247 Controls with NA for f.3393"
   ]
  },
  {
   "cell_type": "code",
   "execution_count": 10,
   "metadata": {
    "kernel": "Bash"
   },
   "outputs": [
    {
     "name": "stdout",
     "output_type": "stream",
     "text": [
      "INFO: Running \u001b[32mcsg\u001b[0m: Configuration for Columbia csg partition cluster\n",
      "INFO: \u001b[32mcsg\u001b[0m is \u001b[32mcompleted\u001b[0m.\n",
      "INFO: \u001b[32mcsg\u001b[0m output:   \u001b[32m/home/dmc2245/project/UKBB_GWAS_dev/output/f2247_hearing_difficulty_exomes200K_ctrl_na-regenie_2021-05-18.sbatch\u001b[0m\n",
      "INFO: Workflow csg (ID=wdf2119aff8d7a187) is executed successfully with 1 completed step.\n",
      "\n"
     ]
    }
   ],
   "source": [
    "# Run using all controls for f3393 \n",
    "lmm_dir_regenie=$lmm_exome_dir_regenie/f2247_hearing_difficulty_exomes200K_ctrl_na\n",
    "lmm_sbatch_regenie=$USER_PATH/UKBB_GWAS_dev/output/f2247_hearing_difficulty_exomes200K_ctrl_na-regenie_$(date +\"%Y-%m-%d\").sbatch\n",
    "phenoFile=$hearing_pheno_path/041521_UKBB_Hearing_difficulty_f2247_expandedwhite_z974included_ctrl_na_316411ind\n",
    "covarFile=$hearing_pheno_path/041521_UKBB_Hearing_difficulty_f2247_expandedwhite_z974included_ctrl_na_316411ind\n",
    "phenoCol=f2247_ctrl_na\n",
    "covarCol=sex\n",
    "qCovarCol=age_final_diff_new\n",
    "genoFile=`echo /mnt/mfs/statgen/UKBiobank/data/exome_files/project_VCF/plink_files/ukb23156_c{1..22}.merged.filtered.bed`\n",
    "#Use the original bed files for the genotype array for the expanded white on regenie step1\n",
    "bfile=$UKBB_PATH/data/genotype_files/UKB_expandedwhite_qcgenotypefiles/UKB_expandedwhiteonly_phenotypeindepqc_410905indiv_528206snps_102720.bed\n",
    "\n",
    "lmm_args=\"\"\"regenie\n",
    "    --cwd $lmm_dir_regenie \n",
    "    --bfile $bfile \n",
    "    --genoFile $genoFile\n",
    "    --sampleFile $sampleFile\n",
    "    --phenoFile $phenoFile \n",
    "    --formatFile $formatFile_regenie \n",
    "    --phenoCol $phenoCol\n",
    "    --covarCol $covarCol  \n",
    "    --qCovarCol $qCovarCol\n",
    "    --bsize $bsize\n",
    "    --lowmem_dir $lowmem_dir\n",
    "    --trait $trait \n",
    "    --bgenMinMAF $bgenMinMAF \n",
    "    --bgenMinINFO $bgenMinINFO\n",
    "    --maf_filter $maf_filter\n",
    "    --geno_filter $geno_filter\n",
    "    --hwe_filter $hwe_filter\n",
    "    --mind_filter $mind_filter\n",
    "    --minMAC $minMAC\n",
    "    --job_size $lmm_job_size\n",
    "    --ylim $ylim\n",
    "    --reverse_log_p $reverse_log_p\n",
    "    --numThreads $numThreads\n",
    "    --container_lmm $container_lmm\n",
    "    --container_marp $container_marp\n",
    "\"\"\"\n",
    "\n",
    "sos run ~/project/bioworkflows/admin/Get_Job_Script.ipynb csg \\\n",
    "    --template-file $tpl_file \\\n",
    "    --workflow-file $lmm_sos \\\n",
    "    --to-script $lmm_sbatch_regenie \\\n",
    "    --args \"$lmm_args\""
   ]
  },
  {
   "cell_type": "markdown",
   "metadata": {
    "kernel": "Bash"
   },
   "source": [
    "## LD clumping job"
   ]
  },
  {
   "cell_type": "markdown",
   "metadata": {
    "kernel": "Bash"
   },
   "source": [
    "### Imputed data"
   ]
  },
  {
   "cell_type": "code",
   "execution_count": null,
   "metadata": {
    "kernel": "Bash"
   },
   "outputs": [],
   "source": [
    "clumping_dir=$UKBB_PATH/results/LD_clumping/f2247_hearing_difficulty\n",
    "clumping_sos=~/project/bioworkflows/admin/LD_Clumping.ipynb\n",
    "clumping_sbatch=../output/$(date +\"%Y-%m-%d\")_f2247_hearing_difficulty_ldclumping.sbatch\n",
    "sumstatsFiles=$UKBB_PATH/results/FastGWA_results/results_imputed_data/f2247_hearing_difficulty/200828_UKBB_Hearing_difficulty_f2247_hearing_diff_new.fastGWA.snp_stats.gz\n",
    "\n",
    "clumping_args=\"\"\"default \n",
    "    --cwd $clumping_dir \n",
    "    --bfile $bfile\n",
    "    --bfile_ref $bfile_ref \n",
    "    --bgenFile $bgenFile\n",
    "    --sampleFile $sampleFile \n",
    "    --sumstatsFiles $sumstatsFiles \n",
    "    --unrelated_samples $unrelated_samples \n",
    "    --ld_sample_size $ld_sample_size \n",
    "    --clump_field $clump_field\n",
    "    --clump_p1 $clump_p1 \n",
    "    --clump_p2 $clump_p2 \n",
    "    --clump_r2 $clump_r2 \n",
    "    --clump_kb $clump_kb \n",
    "    --clump_annotate $clump_annotate \n",
    "    --numThreads $numThreads \n",
    "    --job_size $clump_job_size\n",
    "\"\"\"\n",
    "\n",
    "sos run ~/project/bioworkflows/admin/Get_Job_Script.ipynb farnam \\\n",
    "    --template-file $tpl_file \\\n",
    "    --workflow-file $clumping_sos \\\n",
    "    --to-script $clumping_sbatch \\\n",
    "    --args \"$clumping_args\""
   ]
  },
  {
   "cell_type": "markdown",
   "metadata": {
    "kernel": "Bash"
   },
   "source": [
    "### Exome data"
   ]
  },
  {
   "cell_type": "code",
   "execution_count": 4,
   "metadata": {
    "kernel": "Bash"
   },
   "outputs": [
    {
     "name": "stdout",
     "output_type": "stream",
     "text": [
      "INFO: Running \u001b[32mfarnam\u001b[0m: Configuration for Yale `farnam` cluster\n",
      "INFO: \u001b[32mfarnam\u001b[0m is \u001b[32mcompleted\u001b[0m.\n",
      "INFO: \u001b[32mfarnam\u001b[0m output:   \u001b[32m../output/2021-02-07_f2247_hearing_diff_exome_ldclumping.sbatch\u001b[0m\n",
      "INFO: Workflow farnam (ID=w923c2b21e51a953e) is executed successfully with 1 completed step.\n",
      "\n"
     ]
    }
   ],
   "source": [
    "tpl_file=../farnam.yml\n",
    "clumping_dir=$UKBB_PATH/results/LD_clumping/f2247_hearing_difficulty_exome\n",
    "clumping_sos=~/project/bioworkflows/admin/LD_Clumping.ipynb\n",
    "clumping_sbatch=../output/$(date +\"%Y-%m-%d\")_f2247_hearing_diff_exome_ldclumping.sbatch\n",
    "bfile=$UKBB_PATH/genotype_files/pleiotropy_geneticfiles/UKB_Caucasians_phenotypeindepqc120319_updated082020removedwithdrawnindiv.bed\n",
    "sumstatsFiles=$UKBB_PATH/results/REGENIE_results/results_exome_data/f2247_hearing_difficulty_exomes/010421_UKBB_Hearing_difficulty_f2247_171970ind_exomes_hearing_diff_new.regenie.snp_stats.gz\n",
    "genoFile=`echo $UKBB_PATH/genotype_files/ukb28374_exomedata/exome_data_OCT2020/ukb23155_c{1..22}_b0_v1.bed`\n",
    "sampleFile=$UKBB_PATH/genotype_files/ukb28374_exomedata/exome_data_OCT2020/ukb23155_s200631.fam\n",
    "unrelated_samples=$UKBB_PATH/genotype_files/pleiotropy_geneticfiles/unrelated_n307259/UKB_unrelatedcauc_phenotypes_asthmat2dbmiwaisthip_agesex_waisthipratio_040620\n",
    "bfile_ref=$UKBB_PATH/genotype_files/ukb28374_exomedata/exome_data_OCT2020/ukb23155_s200631_chr1_22_exomedata.1200.ref_geno.bed\n",
    "container_lmm=$UKBB_PATH/lmm.sif\n",
    "ld_sample_size=1200\n",
    "clump_field=P\n",
    "clump_p1=5e-08\n",
    "clump_p2=1\n",
    "clump_r2=0.2\n",
    "clump_kb=2000\n",
    "clump_annotate=BP\n",
    "numThreads=20\n",
    "clump_job_size=1\n",
    "\n",
    "# Select samples filter_samples workflow & create reference file with reference workflow\n",
    "# Then use default workflow to run the LD clumping\n",
    "clumping_args=\"\"\"default\n",
    "    --cwd $clumping_dir\n",
    "    --bfile $bfile\n",
    "    --bfile_ref $bfile_ref \n",
    "    --genoFile $genoFile\n",
    "    --sampleFile $sampleFile \n",
    "    --sumstatsFiles $sumstatsFiles \n",
    "    --unrelated_samples $unrelated_samples \n",
    "    --ld_sample_size $ld_sample_size \n",
    "    --clump_field $clump_field\n",
    "    --clump_p1 $clump_p1 \n",
    "    --clump_p2 $clump_p2 \n",
    "    --clump_r2 $clump_r2 \n",
    "    --clump_kb $clump_kb \n",
    "    --clump_annotate $clump_annotate \n",
    "    --numThreads $numThreads \n",
    "    --job_size $clump_job_size\n",
    "    --container_lmm $container_lmm\n",
    "\"\"\"\n",
    "\n",
    "sos run ~/project/bioworkflows/admin/Get_Job_Script.ipynb farnam \\\n",
    "    --template-file $tpl_file \\\n",
    "    --workflow-file $clumping_sos \\\n",
    "    --to-script $clumping_sbatch \\\n",
    "    --args \"$clumping_args\""
   ]
  },
  {
   "cell_type": "markdown",
   "metadata": {
    "kernel": "Bash"
   },
   "source": [
    "## Post-GWAS annotation"
   ]
  },
  {
   "cell_type": "code",
   "execution_count": 8,
   "metadata": {
    "kernel": "Bash"
   },
   "outputs": [
    {
     "name": "stdout",
     "output_type": "stream",
     "text": [
      "INFO: Running \u001b[32mfarnam\u001b[0m: Configuration for Yale `farnam` cluster\n",
      "INFO: \u001b[32mfarnam\u001b[0m is \u001b[32mcompleted\u001b[0m.\n",
      "INFO: \u001b[32mfarnam\u001b[0m output:   \u001b[32m../output/2021-01-28_f2247_postgwa.sbatch\u001b[0m\n",
      "INFO: Workflow farnam (ID=w50d0cee396725518) is executed successfully with 1 completed step.\n"
     ]
    }
   ],
   "source": [
    "lmm_dir=$UKBB_PATH/results/REGENIE_results/results_exome_data/f2247_hearing_difficulty_exomes\n",
    "postgwa_sbatch=../output/$(date +\"%Y-%m-%d\")_f2247_postgwa.sbatch\n",
    "sumstatsFile=$UKBB_PATH/results/REGENIE_results/results_exome_data/f2247_hearing_difficulty_exomes/010421_UKBB_Hearing_difficulty_f2247_171970ind_exomes_hearing_diff_new.regenie.snp_stats.gz\n",
    "tpl_file=../farnam.yml\n",
    "postgwa_sos=~/project/UKBB_GWAS_dev/workflow/snptogene.ipynb\n",
    "job_size=1\n",
    "hg=38\n",
    "postgwa_args=\"\"\"default\n",
    "    --cwd $lmm_dir\n",
    "    --sumstatsFile $sumstatsFile\n",
    "    --hg $hg\n",
    "    --job_size $job_size\n",
    "\"\"\"\n",
    "\n",
    "sos run ~/project/bioworkflows/admin/Get_Job_Script.ipynb farnam \\\n",
    "    --template-file $tpl_file \\\n",
    "    --workflow-file $postgwa_sos \\\n",
    "    --to-script $postgwa_sbatch \\\n",
    "    --args \"$postgwa_args\""
   ]
  },
  {
   "cell_type": "code",
   "execution_count": null,
   "metadata": {
    "kernel": "Bash"
   },
   "outputs": [],
   "source": [
    "UKBB_PATH=/gpfs/gibbs/pi/dewan/data/UKBiobank\n",
    "cwd=/home/dc2325/scratch60/output/bfile_annovar\n",
    "sumstatsFile=$UKBB_PATH/results/REGENIE_results/results_exome_data/f2247_hearing_difficulty_exomes_bfile/010421_UKBB_Hearing_difficulty_f2247_171970ind_exomes_hearing_diff_new.regenie.snp_stats.gz\n",
    "hg=38\n",
    "job_size=1\n",
    "container_annovar=$UKBB_PATH/annovar.sif\n",
    "bimfiles=`echo $UKBB_PATH/genotype_files/ukb28374_exomedata/exome_data_OCT2020/ukb23155_c{1..22}_b0_v1.bim`\n",
    "bim_name=/home/dc2325/scratch60/output/ukb23155_chr1_chr22.bim\n",
    "humandb=/gpfs/ysm/datasets/db/annovar/humandb\n",
    "\n",
    "sos run ~/project/UKBB_GWAS_dev/workflow/snptogene.ipynb annovar \\\n",
    "    --cwd $cwd \\\n",
    "    --sumstatsFile $sumstatsFile\\\n",
    "    --bim_name $bim_name \\\n",
    "    --hg $hg \\\n",
    "    --job_size $job_size \\\n",
    "    --humandb $humandb\\\n",
    "    --ukbb $UKBB_PATH \\\n",
    "    --container_annovar $container_annovar\\\n",
    "    -s build"
   ]
  },
  {
   "cell_type": "markdown",
   "metadata": {
    "kernel": "Bash"
   },
   "source": [
    "# 3. Hearing difficulty with background noise f.2257"
   ]
  },
  {
   "cell_type": "markdown",
   "metadata": {
    "kernel": "Bash"
   },
   "source": [
    "## FastGWA job white British"
   ]
  },
  {
   "cell_type": "code",
   "execution_count": null,
   "metadata": {
    "kernel": "Bash"
   },
   "outputs": [],
   "source": [
    "lmm_dir_fastgwa=$UKBB_PATH/results/FastGWA_results/results_imputed_data/f2257_hearing_background_noise\n",
    "lmm_sbatch_fastgwa=../output/$(date +\"%Y-%m-%d\")_f2257_imp-fastgwa.sbatch\n",
    "phenoFile=$UKBB_PATH/phenotype_files/hearing_impairment/200828_UKBB_Hearing_background_noise_f2257\n",
    "covarFile=$UKBB_PATH/phenotype_files/hearing_impairment/200828_UKBB_Hearing_background_noise_f2257\n",
    "phenoCol=hearing_noise_cat\n",
    "covarCol=sex\n",
    "qCovarCol=age_final_noise\n",
    "\n",
    "lmm_args=\"\"\"fastGWA\n",
    "    --cwd $lmm_dir_fastgwa \n",
    "    --bfile $bfile \n",
    "    --sampleFile $sampleFile\n",
    "    --bgenFile $bgenFile \n",
    "    --phenoFile $phenoFile \n",
    "    --formatFile $formatFile_fastgwa \n",
    "    --covarFile $covarFile  \n",
    "    --phenoCol $phenoCol \n",
    "    --covarCol $covarCol \n",
    "    --covarMaxLevels $covarMaxLevels \n",
    "    --qCovarCol $qCovarCol \n",
    "    --numThreads $numThreads \n",
    "    --bgenMinMAF $bgenMinMAF \n",
    "    --bgenMinINFO $bgenMinINFO \n",
    "    --job_size $lmm_job_size\n",
    "    --grmFile $grmFile\n",
    "    --ylim $ylim\n",
    "    --container_lmm $container_lmm\n",
    "    --container_marp $container_marp\n",
    "\"\"\"\n",
    "\n",
    "sos run ~/project/bioworkflows/admin/Get_Job_Script.ipynb farnam \\\n",
    "    --template-file $tpl_file \\\n",
    "    --workflow-file $lmm_sos \\\n",
    "    --to-script $lmm_sbatch_fastgwa \\\n",
    "    --args \"$lmm_args\""
   ]
  },
  {
   "cell_type": "markdown",
   "metadata": {
    "kernel": "Bash"
   },
   "source": [
    "## FastGWA job all white"
   ]
  },
  {
   "cell_type": "code",
   "execution_count": 6,
   "metadata": {
    "kernel": "Bash"
   },
   "outputs": [
    {
     "name": "stdout",
     "output_type": "stream",
     "text": [
      "INFO: Running \u001b[32mdewan\u001b[0m: Configuration for Yale `pi_dewan` partition cluster\n",
      "INFO: \u001b[32mdewan\u001b[0m is \u001b[32mcompleted\u001b[0m.\n",
      "INFO: \u001b[32mdewan\u001b[0m output:   \u001b[32m../output/2020-12-02_f2257_expandedwhite_imp-fastgwa.sbatch\u001b[0m\n",
      "INFO: Workflow dewan (ID=5e423268c0ec2f3b) is executed successfully with 1 completed step.\n"
     ]
    }
   ],
   "source": [
    "lmm_dir_fastgwa=$UKBB_PATH/results/FastGWA_results/results_imputed_data/f2257_hearing_background_noise_expandedwhite\n",
    "lmm_sbatch_fastgwa=../output/$(date +\"%Y-%m-%d\")_f2257_expandedwhite_imp-fastgwa.sbatch\n",
    "phenoFile=$UKBB_PATH/phenotype_files/hearing_impairment/120120_UKBB_Hearing_background_noise_f2257_expandedwhite\n",
    "covarFile=$UKBB_PATH/phenotype_files/hearing_impairment/120120_UKBB_Hearing_background_noise_f2257_expandedwhite\n",
    "phenoCol=hearing_noise_cat\n",
    "covarCol=sex\n",
    "qCovarCol=age_final_noise\n",
    "\n",
    "lmm_args=\"\"\"fastGWA\n",
    "    --cwd $lmm_dir_fastgwa \n",
    "    --bfile $bfile \n",
    "    --sampleFile $sampleFile\n",
    "    --bgenFile $bgenFile \n",
    "    --phenoFile $phenoFile \n",
    "    --formatFile $formatFile_fastgwa \n",
    "    --covarFile $covarFile  \n",
    "    --phenoCol $phenoCol \n",
    "    --covarCol $covarCol \n",
    "    --covarMaxLevels $covarMaxLevels \n",
    "    --qCovarCol $qCovarCol \n",
    "    --numThreads $numThreads \n",
    "    --bgenMinMAF $bgenMinMAF \n",
    "    --bgenMinINFO $bgenMinINFO \n",
    "    --job_size $lmm_job_size\n",
    "    --grmFile $grmFile\n",
    "    --ylim $ylim\n",
    "    --container_lmm $container_lmm\n",
    "    --container_marp $container_marp\n",
    "\"\"\"\n",
    "\n",
    "sos run ~/project/bioworkflows/admin/Get_Job_Script.ipynb dewan \\\n",
    "    --template-file $tpl_file \\\n",
    "    --workflow-file $lmm_sos \\\n",
    "    --to-script $lmm_sbatch_fastgwa \\\n",
    "    --args \"$lmm_args\""
   ]
  },
  {
   "cell_type": "markdown",
   "metadata": {
    "kernel": "Bash"
   },
   "source": [
    "## Regenie exome data"
   ]
  },
  {
   "cell_type": "code",
   "execution_count": 7,
   "metadata": {
    "kernel": "Bash"
   },
   "outputs": [
    {
     "name": "stdout",
     "output_type": "stream",
     "text": [
      "INFO: Running \u001b[32mfarnam\u001b[0m: Configuration for Yale `farnam` cluster\n",
      "INFO: \u001b[32mfarnam\u001b[0m is \u001b[32mcompleted\u001b[0m.\n",
      "INFO: \u001b[32mfarnam\u001b[0m output:   \u001b[32m../output/2021-02-12_f2257_hearing_noise_exome_bfile-regenie.sbatch\u001b[0m\n",
      "INFO: Workflow farnam (ID=wd8efa7feebdc6a0e) is executed successfully with 1 completed step.\n",
      "\n"
     ]
    }
   ],
   "source": [
    "lmm_dir_regenie=$lmm_exome_dir_regenie/f2257_hearing_noise_exomes_bfile\n",
    "lmm_sbatch_regenie=../output/$(date +\"%Y-%m-%d\")_f2257_hearing_noise_exome_bfile-regenie.sbatch\n",
    "phenoFile=$hearing_pheno_path/phenotypes_exome_data/010421_UKBB_Hearing_background_noise_f2257_175531ind_exomes\n",
    "covarFile=$hearing_pheno_path/phenotypes_exome_data/010421_UKBB_Hearing_background_noise_f2257_175531ind_exomes\n",
    "phenoCol=hearing_noise_cat\n",
    "covarCol=sex\n",
    "qCovarCol=age_final_noise\n",
    "#Use original bed files from the UKBB exome data\n",
    "#bfile=$UKBB_PATH/genotype_files/ukb28374_exomedata/exome_data_OCT2020/exome_files_snpsonly/ukb23155.filtered.merged.bed\n",
    "#Use the original bed files for the genotype array on regenie step1\n",
    "bfile=$UKBB_PATH/genotype_files/pleiotropy_geneticfiles/UKB_originalgenotypefilesdownloaded083019/UKB_genotypedatadownloaded083019.bed\n",
    "\n",
    "lmm_args=\"\"\"regenie\n",
    "    --cwd $lmm_dir_regenie \n",
    "    --bfile $bfile \n",
    "    --genoFile $genoFile\n",
    "    --sampleFile $sampleFile\n",
    "    --phenoFile $phenoFile \n",
    "    --formatFile $formatFile_regenie \n",
    "    --phenoCol $phenoCol\n",
    "    --covarCol $covarCol  \n",
    "    --qCovarCol $qCovarCol\n",
    "    --bsize $bsize\n",
    "    --lowmem_prefix $lowmem_prefix\n",
    "    --trait $trait \n",
    "    --bgenMinMAF $bgenMinMAF \n",
    "    --maf_filter $maf_filter\n",
    "    --geno_filter $geno_filter\n",
    "    --hwe_filter $hwe_filter\n",
    "    --mind_filter $mind_filter\n",
    "    --minMAC $minMAC\n",
    "    --job_size $lmm_job_size\n",
    "    --ylim $ylim\n",
    "    --reverse_log_p $reverse_log_p\n",
    "    --numThreads $numThreads\n",
    "    --container_lmm $container_lmm\n",
    "    --container_marp $container_marp\n",
    "\"\"\"\n",
    "\n",
    "sos run ~/project/bioworkflows/admin/Get_Job_Script.ipynb farnam \\\n",
    "    --template-file $tpl_file \\\n",
    "    --workflow-file $lmm_sos \\\n",
    "    --to-script $lmm_sbatch_regenie \\\n",
    "    --args \"$lmm_args\""
   ]
  },
  {
   "cell_type": "markdown",
   "metadata": {
    "kernel": "Bash"
   },
   "source": [
    "## Regenie imputed data: expanded white control NA"
   ]
  },
  {
   "cell_type": "code",
   "execution_count": 6,
   "metadata": {
    "kernel": "Bash"
   },
   "outputs": [
    {
     "name": "stdout",
     "output_type": "stream",
     "text": [
      "INFO: Running \u001b[32mfarnam\u001b[0m: Configuration for Yale `farnam` cluster\n",
      "INFO: \u001b[32mfarnam\u001b[0m is \u001b[32mcompleted\u001b[0m.\n",
      "INFO: \u001b[32mfarnam\u001b[0m output:   \u001b[32m/home/dc2325/project/UKBB_GWAS_dev/output/2021-07-13_f2257_hearing_noise_impdata-regenie.sbatch\u001b[0m\n",
      "INFO: Workflow farnam (ID=w072e7fe313d2ff85) is executed successfully with 1 completed step.\n",
      "\n"
     ]
    }
   ],
   "source": [
    "lmm_dir_regenie=$lmm_imp_dir_regenie/f2257_hearing_noise_impdata_newpheno\n",
    "lmm_sbatch_regenie=$USER_PATH/UKBB_GWAS_dev/output/$(date +\"%Y-%m-%d\")_f2257_hearing_noise_impdata-regenie.sbatch\n",
    "phenoFile=$hearing_pheno_path/041521_UKBB_Hearing_background_noise_f2257_expandedwhite_z974included_ctrl_na_363603ind\n",
    "covarFile=$hearing_pheno_path/041521_UKBB_Hearing_background_noise_f2257_expandedwhite_z974included_ctrl_na_363603ind\n",
    "phenoCol=f2257_ctrl_na\n",
    "covarCol=sex\n",
    "qCovarCol=age_final_noise\n",
    "genoFile=`echo $UKBB_PATH/genotype_files/ukb39554_imputeddataset/ukb_imp_chr{1..22}_v3.bgen`\n",
    "sampleFile=$UKBB_PATH/genotype_files/ukb39554_imputeddataset/ukb32285_imputedindiv.sample\n",
    "\n",
    "#Use the original bed files for the genotype array on regenie step1\n",
    "bfile=$UKBB_PATH/genotype_files/pleiotropy_geneticfiles/UKB_expandedwhite_qcgenotypefiles/UKB_expandedwhiteonly_phenotypeindepqc_410905indiv_528206snps_102720.bed\n",
    "\n",
    "lmm_args=\"\"\"regenie\n",
    "    --cwd $lmm_dir_regenie \n",
    "    --bfile $bfile \n",
    "    --genoFile $genoFile\n",
    "    --sampleFile $sampleFile\n",
    "    --phenoFile $phenoFile \n",
    "    --formatFile $formatFile_regenie \n",
    "    --phenoCol $phenoCol\n",
    "    --covarCol $covarCol  \n",
    "    --qCovarCol $qCovarCol\n",
    "    --bsize $bsize\n",
    "    --lowmem_dir $lowmem_dir\n",
    "    --trait $trait \n",
    "    --bgenMinMAF $bgenMinMAF \n",
    "    --bgenMinINFO $bgenMinINFO\n",
    "    --maf_filter $maf_filter\n",
    "    --geno_filter $geno_filter\n",
    "    --hwe_filter $hwe_filter\n",
    "    --mind_filter $mind_filter\n",
    "    --minMAC $minMAC\n",
    "    --job_size $lmm_job_size\n",
    "    --ylim $ylim\n",
    "    --reverse_log_p $reverse_log_p\n",
    "    --numThreads $numThreads\n",
    "    --container_lmm $container_lmm\n",
    "    --container_marp $container_marp\n",
    "\"\"\"\n",
    "\n",
    "sos run ~/project/bioworkflows/admin/Get_Job_Script.ipynb farnam \\\n",
    "    --template-file $tpl_file \\\n",
    "    --workflow-file $lmm_sos \\\n",
    "    --to-script $lmm_sbatch_regenie \\\n",
    "    --args \"$lmm_args\""
   ]
  },
  {
   "cell_type": "markdown",
   "metadata": {
    "kernel": "Bash"
   },
   "source": [
    "## Regenie: 50K exomes replication set"
   ]
  },
  {
   "cell_type": "markdown",
   "metadata": {
    "kernel": "Bash"
   },
   "source": [
    "### f.2257 & Pure controls"
   ]
  },
  {
   "cell_type": "code",
   "execution_count": 3,
   "metadata": {
    "kernel": "Bash"
   },
   "outputs": [
    {
     "name": "stdout",
     "output_type": "stream",
     "text": [
      "INFO: Running \u001b[32mfarnam\u001b[0m: Configuration for Yale `farnam` cluster\n",
      "INFO: \u001b[32mfarnam\u001b[0m is \u001b[32mcompleted\u001b[0m.\n",
      "INFO: \u001b[32mfarnam\u001b[0m output:   \u001b[32m/home/dc2325/project/UKBB_GWAS_dev/output/2021-04-21_f2257_hearing_background_noise_exomes50K_pure_ctrl-regenie.sbatch\u001b[0m\n",
      "INFO: Workflow farnam (ID=w33d438bc153fd1f4) is executed successfully with 1 completed step.\n",
      "\n"
     ]
    }
   ],
   "source": [
    "lmm_dir_regenie=$lmm_exome_dir_regenie/f2257_hearing_background_noise_exomes50K_pure_ctrl\n",
    "lmm_sbatch_regenie=$USER_PATH/UKBB_GWAS_dev/output/$(date +\"%Y-%m-%d\")_f2257_hearing_background_noise_exomes50K_pure_ctrl-regenie.sbatch\n",
    "phenoFile=$hearing_pheno_path/041521_UKBB_Hearing_background_noise_f2257_expandedwhite_z974included_pure_ctrl_232101ind\n",
    "covarFile=$hearing_pheno_path/041521_UKBB_Hearing_background_noise_f2257_expandedwhite_z974included_pure_ctrl_232101ind\n",
    "phenoCol=f2257_ctrl_pure\n",
    "covarCol=sex\n",
    "qCovarCol=age_final_noise\n",
    "genoFile=/gpfs/gibbs/pi/dewan/data/UKBiobank/genotype_files/ukb28374_exomedata/ukb32285_exomespb_chr1_22.bed\n",
    "#Use the original bed files for the genotype array for the expanded white on regenie step1\n",
    "bfile=$UKBB_PATH/genotype_files/pleiotropy_geneticfiles/UKB_expandedwhite_qcgenotypefiles/UKB_expandedwhiteonly_phenotypeindepqc_410905indiv_528206snps_102720.bed\n",
    "\n",
    "lmm_args=\"\"\"regenie\n",
    "    --cwd $lmm_dir_regenie \n",
    "    --bfile $bfile \n",
    "    --genoFile $genoFile\n",
    "    --sampleFile $sampleFile\n",
    "    --phenoFile $phenoFile \n",
    "    --formatFile $formatFile_regenie \n",
    "    --phenoCol $phenoCol\n",
    "    --covarCol $covarCol  \n",
    "    --qCovarCol $qCovarCol\n",
    "    --bsize $bsize\n",
    "    --lowmem_dir $lowmem_dir\n",
    "    --trait $trait \n",
    "    --bgenMinMAF $bgenMinMAF \n",
    "    --bgenMinINFO $bgenMinINFO\n",
    "    --maf_filter $maf_filter\n",
    "    --geno_filter $geno_filter\n",
    "    --hwe_filter $hwe_filter\n",
    "    --mind_filter $mind_filter\n",
    "    --minMAC $minMAC\n",
    "    --job_size $lmm_job_size\n",
    "    --ylim $ylim\n",
    "    --reverse_log_p $reverse_log_p\n",
    "    --numThreads $numThreads\n",
    "    --container_lmm $container_lmm\n",
    "    --container_marp $container_marp\n",
    "\"\"\"\n",
    "\n",
    "sos run ~/project/bioworkflows/admin/Get_Job_Script.ipynb farnam \\\n",
    "    --template-file $tpl_file \\\n",
    "    --workflow-file $lmm_sos \\\n",
    "    --to-script $lmm_sbatch_regenie \\\n",
    "    --args \"$lmm_args\""
   ]
  },
  {
   "cell_type": "markdown",
   "metadata": {
    "kernel": "Bash"
   },
   "source": [
    "### f.2257 & controls NA for f.3393"
   ]
  },
  {
   "cell_type": "code",
   "execution_count": 4,
   "metadata": {
    "kernel": "Bash"
   },
   "outputs": [
    {
     "name": "stdout",
     "output_type": "stream",
     "text": [
      "INFO: Running \u001b[32mfarnam\u001b[0m: Configuration for Yale `farnam` cluster\n",
      "INFO: \u001b[32mfarnam\u001b[0m is \u001b[32mcompleted\u001b[0m.\n",
      "INFO: \u001b[32mfarnam\u001b[0m output:   \u001b[32m/home/dc2325/project/UKBB_GWAS_dev/output/2021-04-21_f2257_hearing_background_noise_exomes50K_ctrl_na-regenie.sbatch\u001b[0m\n",
      "INFO: Workflow farnam (ID=w0012483d59f4307c) is executed successfully with 1 completed step.\n",
      "\n"
     ]
    }
   ],
   "source": [
    "lmm_dir_regenie=$lmm_exome_dir_regenie/f2257_hearing_background_noise_exomes50K_ctrl_na\n",
    "lmm_sbatch_regenie=$USER_PATH/UKBB_GWAS_dev/output/$(date +\"%Y-%m-%d\")_f2257_hearing_background_noise_exomes50K_ctrl_na-regenie.sbatch\n",
    "phenoFile=$hearing_pheno_path/041521_UKBB_Hearing_background_noise_f2257_expandedwhite_z974included_ctrl_na_363603ind\n",
    "covarFile=$hearing_pheno_path/041521_UKBB_Hearing_background_noise_f2257_expandedwhite_z974included_ctrl_na_363603ind\n",
    "phenoCol=f2257_ctrl_na\n",
    "covarCol=sex\n",
    "qCovarCol=age_final_noise\n",
    "genoFile=/gpfs/gibbs/pi/dewan/data/UKBiobank/genotype_files/ukb28374_exomedata/ukb32285_exomespb_chr1_22.bed\n",
    "#Use the original bed files for the genotype array for the expanded white on regenie step1\n",
    "bfile=$UKBB_PATH/genotype_files/pleiotropy_geneticfiles/UKB_expandedwhite_qcgenotypefiles/UKB_expandedwhiteonly_phenotypeindepqc_410905indiv_528206snps_102720.bed\n",
    "\n",
    "lmm_args=\"\"\"regenie\n",
    "    --cwd $lmm_dir_regenie \n",
    "    --bfile $bfile \n",
    "    --genoFile $genoFile\n",
    "    --sampleFile $sampleFile\n",
    "    --phenoFile $phenoFile \n",
    "    --formatFile $formatFile_regenie \n",
    "    --phenoCol $phenoCol\n",
    "    --covarCol $covarCol  \n",
    "    --qCovarCol $qCovarCol\n",
    "    --bsize $bsize\n",
    "    --lowmem_dir $lowmem_dir\n",
    "    --trait $trait \n",
    "    --bgenMinMAF $bgenMinMAF \n",
    "    --bgenMinINFO $bgenMinINFO\n",
    "    --maf_filter $maf_filter\n",
    "    --geno_filter $geno_filter\n",
    "    --hwe_filter $hwe_filter\n",
    "    --mind_filter $mind_filter\n",
    "    --minMAC $minMAC\n",
    "    --job_size $lmm_job_size\n",
    "    --ylim $ylim\n",
    "    --reverse_log_p $reverse_log_p\n",
    "    --numThreads $numThreads\n",
    "    --container_lmm $container_lmm\n",
    "    --container_marp $container_marp\n",
    "\"\"\"\n",
    "\n",
    "sos run ~/project/bioworkflows/admin/Get_Job_Script.ipynb farnam \\\n",
    "    --template-file $tpl_file \\\n",
    "    --workflow-file $lmm_sos \\\n",
    "    --to-script $lmm_sbatch_regenie \\\n",
    "    --args \"$lmm_args\""
   ]
  },
  {
   "cell_type": "markdown",
   "metadata": {
    "kernel": "Bash"
   },
   "source": [
    "## Regenie in exome data (original Plink files UKBB unqc'ed) using modified phenotype file with controls_na for f.3393"
   ]
  },
  {
   "cell_type": "markdown",
   "metadata": {
    "kernel": "Bash"
   },
   "source": [
    "### f.2257 Controls with NA for f.3393"
   ]
  },
  {
   "cell_type": "code",
   "execution_count": 4,
   "metadata": {
    "kernel": "Bash"
   },
   "outputs": [
    {
     "name": "stdout",
     "output_type": "stream",
     "text": [
      "INFO: Running \u001b[32mfarnam\u001b[0m: Configuration for Yale `farnam` cluster\n",
      "INFO: \u001b[32mfarnam\u001b[0m is \u001b[32mcompleted\u001b[0m.\n",
      "INFO: \u001b[32mfarnam\u001b[0m output:   \u001b[32m/home/dc2325/project/UKBB_GWAS_dev/output/2021-06-24_f2257_hearing_aid_exomes200K_noqc_ctrl_na-regenie.sbatch\u001b[0m\n",
      "INFO: Workflow farnam (ID=wdb0e3955c5caa7bd) is executed successfully with 1 completed step.\n",
      "\n"
     ]
    }
   ],
   "source": [
    "# First run using controls na for f3393 \n",
    "lmm_dir_regenie=$lmm_exome_dir_regenie/f2257_hearing_difficulty_exomes200K_noqc_ctrl_na\n",
    "lmm_sbatch_regenie=$USER_PATH/UKBB_GWAS_dev/output/$(date +\"%Y-%m-%d\")_f2257_hearing_aid_exomes200K_noqc_ctrl_na-regenie.sbatch\n",
    "phenoFile=$hearing_pheno_path/062421_UKBB_Hearing_background_noise_f2257_expandedwhite_z974included_ctrl_na_166199ind\n",
    "covarFile=$hearing_pheno_path/062421_UKBB_Hearing_background_noise_f2257_expandedwhite_z974included_ctrl_na_166199ind\n",
    "phenoCol=f2257_ctrl_na\n",
    "covarCol=sex\n",
    "qCovarCol=age_final_noise\n",
    "genoFile=`echo $UKBB_PATH/genotype_files/ukb28374_exomedata/exome_data_OCT2020/ukb23155_c{1..22}_b0_v1.bed`\n",
    "#Use the original bed files for the genotype array on regenie step1\n",
    "bfile=$UKBB_PATH/genotype_files/pleiotropy_geneticfiles/UKB_originalgenotypefilesdownloaded083019/UKB_genotypedatadownloaded083019.bed\n",
    "hwe_filter=5e-08\n",
    "\n",
    "lmm_args=\"\"\"regenie\n",
    "    --cwd $lmm_dir_regenie \n",
    "    --bfile $bfile \n",
    "    --genoFile $genoFile\n",
    "    --sampleFile $sampleFile\n",
    "    --phenoFile $phenoFile \n",
    "    --formatFile $formatFile_regenie \n",
    "    --phenoCol $phenoCol\n",
    "    --covarCol $covarCol  \n",
    "    --qCovarCol $qCovarCol\n",
    "    --bsize $bsize\n",
    "    --lowmem_dir $lowmem_dir\n",
    "    --trait $trait \n",
    "    --bgenMinMAF $bgenMinMAF \n",
    "    --bgenMinINFO $bgenMinINFO\n",
    "    --maf_filter $maf_filter\n",
    "    --geno_filter $geno_filter\n",
    "    --hwe_filter $hwe_filter\n",
    "    --mind_filter $mind_filter\n",
    "    --minMAC $minMAC\n",
    "    --job_size $lmm_job_size\n",
    "    --ylim $ylim\n",
    "    --reverse_log_p $reverse_log_p\n",
    "    --numThreads $numThreads\n",
    "    --container_lmm $container_lmm\n",
    "    --container_marp $container_marp\n",
    "\"\"\"\n",
    "\n",
    "sos run ~/project/bioworkflows/admin/Get_Job_Script.ipynb farnam \\\n",
    "    --template-file $tpl_file \\\n",
    "    --workflow-file $lmm_sos \\\n",
    "    --to-script $lmm_sbatch_regenie \\\n",
    "    --args \"$lmm_args\""
   ]
  },
  {
   "cell_type": "markdown",
   "metadata": {
    "kernel": "Bash"
   },
   "source": [
    "## Regenie in exome data after VCF-QC 200K exomes"
   ]
  },
  {
   "cell_type": "markdown",
   "metadata": {
    "kernel": "Bash"
   },
   "source": [
    "### f.2257 & controls NA for f.3393"
   ]
  },
  {
   "cell_type": "code",
   "execution_count": 11,
   "metadata": {
    "kernel": "Bash"
   },
   "outputs": [
    {
     "name": "stdout",
     "output_type": "stream",
     "text": [
      "INFO: Running \u001b[32mcsg\u001b[0m: Configuration for Columbia csg partition cluster\n",
      "INFO: \u001b[32mcsg\u001b[0m is \u001b[32mcompleted\u001b[0m.\n",
      "INFO: \u001b[32mcsg\u001b[0m output:   \u001b[32m/home/dmc2245/project/UKBB_GWAS_dev/output/f2257_hearing_background_noise_exomes200K_ctrl_na-regenie_2021-05-18.sbatch\u001b[0m\n",
      "INFO: Workflow csg (ID=w5cbf62c4eb06bba8) is executed successfully with 1 completed step.\n",
      "\n"
     ]
    }
   ],
   "source": [
    "# Run using all controls for f3393 \n",
    "lmm_dir_regenie=$lmm_exome_dir_regenie/f2257_hearing_background_noise_exomes200K_ctrl_na\n",
    "lmm_sbatch_regenie=$USER_PATH/UKBB_GWAS_dev/output/f2257_hearing_background_noise_exomes200K_ctrl_na-regenie_$(date +\"%Y-%m-%d\").sbatch\n",
    "phenoFile=$hearing_pheno_path/041521_UKBB_Hearing_background_noise_f2257_expandedwhite_z974included_ctrl_na_363603ind\n",
    "covarFile=$hearing_pheno_path/041521_UKBB_Hearing_background_noise_f2257_expandedwhite_z974included_ctrl_na_363603ind\n",
    "phenoCol=f2257_ctrl_na\n",
    "covarCol=sex\n",
    "qCovarCol=age_final_noise\n",
    "genoFile=`echo /mnt/mfs/statgen/UKBiobank/data/exome_files/project_VCF/plink_files/ukb23156_c{1..22}.merged.filtered.bed`\n",
    "#Use the original bed files for the genotype array for the expanded white on regenie step1\n",
    "bfile=$UKBB_PATH/data/genotype_files/UKB_expandedwhite_qcgenotypefiles/UKB_expandedwhiteonly_phenotypeindepqc_410905indiv_528206snps_102720.bed\n",
    "\n",
    "lmm_args=\"\"\"regenie\n",
    "    --cwd $lmm_dir_regenie \n",
    "    --bfile $bfile \n",
    "    --genoFile $genoFile\n",
    "    --sampleFile $sampleFile\n",
    "    --phenoFile $phenoFile \n",
    "    --formatFile $formatFile_regenie \n",
    "    --phenoCol $phenoCol\n",
    "    --covarCol $covarCol  \n",
    "    --qCovarCol $qCovarCol\n",
    "    --bsize $bsize\n",
    "    --lowmem_dir $lowmem_dir\n",
    "    --trait $trait \n",
    "    --bgenMinMAF $bgenMinMAF \n",
    "    --bgenMinINFO $bgenMinINFO\n",
    "    --maf_filter $maf_filter\n",
    "    --geno_filter $geno_filter\n",
    "    --hwe_filter $hwe_filter\n",
    "    --mind_filter $mind_filter\n",
    "    --minMAC $minMAC\n",
    "    --job_size $lmm_job_size\n",
    "    --ylim $ylim\n",
    "    --reverse_log_p $reverse_log_p\n",
    "    --numThreads $numThreads\n",
    "    --container_lmm $container_lmm\n",
    "    --container_marp $container_marp\n",
    "\"\"\"\n",
    "\n",
    "sos run ~/project/bioworkflows/admin/Get_Job_Script.ipynb csg \\\n",
    "    --template-file $tpl_file \\\n",
    "    --workflow-file $lmm_sos \\\n",
    "    --to-script $lmm_sbatch_regenie \\\n",
    "    --args \"$lmm_args\""
   ]
  },
  {
   "cell_type": "markdown",
   "metadata": {
    "kernel": "Bash"
   },
   "source": [
    "## LD clumping job"
   ]
  },
  {
   "cell_type": "markdown",
   "metadata": {
    "kernel": "Bash"
   },
   "source": [
    "### Imputed data"
   ]
  },
  {
   "cell_type": "code",
   "execution_count": null,
   "metadata": {
    "kernel": "Bash"
   },
   "outputs": [],
   "source": [
    "clumping_dir=$UKBB_PATH/results/LD_clumping/f2257_hearing_background_noise\n",
    "clumping_sos=~/project/bioworkflows/admin/LD_Clumping.ipynb\n",
    "clumping_sbatch=../output/$(date +\"%Y-%m-%d\")_f2257_hearing_background_noise_ldclumping.sbatch\n",
    "sumstatsFiles=$UKBB_PATH/results/FastGWA_results/results_imputed_data/f2257_hearing_background_noise/200828_UKBB_Hearing_background_noise_f2257_hearing_noise_cat.fastGWA.snp_stats.gz\n",
    "\n",
    "clumping_args=\"\"\"default \n",
    "    --cwd $clumping_dir \n",
    "    --bfile $bfile\n",
    "    --bfile_ref $bfile_ref \n",
    "    --bgenFile $bgenFile\n",
    "    --sampleFile $sampleFile \n",
    "    --sumstatsFiles $sumstatsFiles \n",
    "    --unrelated_samples $unrelated_samples \n",
    "    --ld_sample_size $ld_sample_size \n",
    "    --clump_field $clump_field\n",
    "    --clump_p1 $clump_p1 \n",
    "    --clump_p2 $clump_p2 \n",
    "    --clump_r2 $clump_r2 \n",
    "    --clump_kb $clump_kb \n",
    "    --clump_annotate $clump_annotate \n",
    "    --numThreads $numThreads \n",
    "    --job_size $clump_job_size\n",
    "\"\"\"\n",
    "\n",
    "sos run ~/project/bioworkflows/admin/Get_Job_Script.ipynb farnam \\\n",
    "    --template-file $tpl_file \\\n",
    "    --workflow-file $clumping_sos \\\n",
    "    --to-script $clumping_sbatch \\\n",
    "    --args \"$clumping_args\""
   ]
  },
  {
   "cell_type": "markdown",
   "metadata": {
    "kernel": "Bash"
   },
   "source": [
    "### Exome data"
   ]
  },
  {
   "cell_type": "code",
   "execution_count": 5,
   "metadata": {
    "kernel": "Bash"
   },
   "outputs": [
    {
     "name": "stdout",
     "output_type": "stream",
     "text": [
      "INFO: Running \u001b[32mfarnam\u001b[0m: Configuration for Yale `farnam` cluster\n",
      "INFO: \u001b[32mfarnam\u001b[0m is \u001b[32mcompleted\u001b[0m.\n",
      "INFO: \u001b[32mfarnam\u001b[0m output:   \u001b[32m../output/2021-02-07_f2257_hearing_diff_exome_ldclumping.sbatch\u001b[0m\n",
      "INFO: Workflow farnam (ID=w7c7b3789d732c7e0) is executed successfully with 1 completed step.\n",
      "\n"
     ]
    }
   ],
   "source": [
    "tpl_file=../farnam.yml\n",
    "clumping_dir=$UKBB_PATH/results/LD_clumping/f2257_hearing_background_noise_exome\n",
    "clumping_sos=~/project/bioworkflows/admin/LD_Clumping.ipynb\n",
    "clumping_sbatch=../output/$(date +\"%Y-%m-%d\")_f2257_hearing_background_noise_exome_ldclumping.sbatch\n",
    "bfile=$UKBB_PATH/genotype_files/pleiotropy_geneticfiles/UKB_Caucasians_phenotypeindepqc120319_updated082020removedwithdrawnindiv.bed\n",
    "sumstatsFiles=$UKBB_PATH/results/REGENIE_results/results_exome_data/f2257_hearing_noise_exomes/010421_UKBB_Hearing_background_noise_f2257_175531ind_exomes_hearing_noise_cat.regenie.snp_stats.gz\n",
    "genoFile=`echo $UKBB_PATH/genotype_files/ukb28374_exomedata/exome_data_OCT2020/ukb23155_c{1..22}_b0_v1.bed`\n",
    "sampleFile=$UKBB_PATH/genotype_files/ukb28374_exomedata/exome_data_OCT2020/ukb23155_s200631.fam\n",
    "unrelated_samples=$UKBB_PATH/genotype_files/pleiotropy_geneticfiles/unrelated_n307259/UKB_unrelatedcauc_phenotypes_asthmat2dbmiwaisthip_agesex_waisthipratio_040620\n",
    "bfile_ref=$UKBB_PATH/genotype_files/ukb28374_exomedata/exome_data_OCT2020/ukb23155_s200631_chr1_22_exomedata.1200.ref_geno.bed\n",
    "container_lmm=$UKBB_PATH/lmm.sif\n",
    "ld_sample_size=1200\n",
    "clump_field=P\n",
    "clump_p1=5e-08\n",
    "clump_p2=1\n",
    "clump_r2=0.2\n",
    "clump_kb=2000\n",
    "clump_annotate=BP\n",
    "numThreads=20\n",
    "clump_job_size=1\n",
    "\n",
    "# Select samples filter_samples workflow & create reference file with reference workflow\n",
    "# Then use default workflow to run the LD clumping\n",
    "clumping_args=\"\"\"default\n",
    "    --cwd $clumping_dir\n",
    "    --bfile $bfile\n",
    "    --bfile_ref $bfile_ref \n",
    "    --genoFile $genoFile\n",
    "    --sampleFile $sampleFile \n",
    "    --sumstatsFiles $sumstatsFiles \n",
    "    --unrelated_samples $unrelated_samples \n",
    "    --ld_sample_size $ld_sample_size \n",
    "    --clump_field $clump_field\n",
    "    --clump_p1 $clump_p1 \n",
    "    --clump_p2 $clump_p2 \n",
    "    --clump_r2 $clump_r2 \n",
    "    --clump_kb $clump_kb \n",
    "    --clump_annotate $clump_annotate \n",
    "    --numThreads $numThreads \n",
    "    --job_size $clump_job_size\n",
    "    --container_lmm $container_lmm\n",
    "\"\"\"\n",
    "\n",
    "sos run ~/project/bioworkflows/admin/Get_Job_Script.ipynb farnam \\\n",
    "    --template-file $tpl_file \\\n",
    "    --workflow-file $clumping_sos \\\n",
    "    --to-script $clumping_sbatch \\\n",
    "    --args \"$clumping_args\""
   ]
  },
  {
   "cell_type": "markdown",
   "metadata": {
    "kernel": "Bash"
   },
   "source": [
    "## Post-GWAS annotation"
   ]
  },
  {
   "cell_type": "code",
   "execution_count": 9,
   "metadata": {
    "kernel": "Bash"
   },
   "outputs": [
    {
     "name": "stdout",
     "output_type": "stream",
     "text": [
      "INFO: Running \u001b[32mfarnam\u001b[0m: Configuration for Yale `farnam` cluster\n",
      "INFO: \u001b[32mfarnam\u001b[0m is \u001b[32mcompleted\u001b[0m.\n",
      "INFO: \u001b[32mfarnam\u001b[0m output:   \u001b[32m../output/2021-01-28_f2257_postgwa.sbatch\u001b[0m\n",
      "INFO: Workflow farnam (ID=w9856930ebcb27a9d) is executed successfully with 1 completed step.\n"
     ]
    }
   ],
   "source": [
    "lmm_dir=$UKBB_PATH/results/REGENIE_results/results_exome_data/f2257_hearing_noise_exomes\n",
    "postgwa_sbatch=../output/$(date +\"%Y-%m-%d\")_f2257_postgwa.sbatch\n",
    "sumstatsFile=$UKBB_PATH/results/REGENIE_results/results_exome_data/f2257_hearing_noise_exomes/010421_UKBB_Hearing_background_noise_f2257_175531ind_exomes_hearing_noise_cat.regenie.snp_stats.gz\n",
    "tpl_file=../farnam.yml\n",
    "postgwa_sos=~/project/UKBB_GWAS_dev/workflow/snptogene.ipynb\n",
    "job_size=1\n",
    "hg=38\n",
    "postgwa_args=\"\"\"default\n",
    "    --cwd $lmm_dir\n",
    "    --sumstatsFile $sumstatsFile\n",
    "    --hg $hg\n",
    "    --job_size $job_size\n",
    "\"\"\"\n",
    "\n",
    "sos run ~/project/bioworkflows/admin/Get_Job_Script.ipynb farnam \\\n",
    "    --template-file $tpl_file \\\n",
    "    --workflow-file $postgwa_sos \\\n",
    "    --to-script $postgwa_sbatch \\\n",
    "    --args \"$postgwa_args\""
   ]
  },
  {
   "cell_type": "code",
   "execution_count": null,
   "metadata": {
    "kernel": "Bash"
   },
   "outputs": [],
   "source": [
    "UKBB_PATH=/gpfs/gibbs/pi/dewan/data/UKBiobank\n",
    "cwd=/home/dc2325/scratch60/output/bfile_annovar\n",
    "sumstatsFile=$UKBB_PATH/results/REGENIE_results/results_exome_data/f2257_hearing_noise_exomes_bfile/010421_UKBB_Hearing_background_noise_f2257_175531ind_exomes_hearing_noise_cat.regenie.snp_stats.gz\n",
    "hg=38\n",
    "job_size=1\n",
    "container_annovar=$UKBB_PATH/annovar.sif\n",
    "bimfiles=`echo $UKBB_PATH/genotype_files/ukb28374_exomedata/exome_data_OCT2020/ukb23155_c{1..22}_b0_v1.bim`\n",
    "bim_name=/home/dc2325/scratch60/output/ukb23155_chr1_chr22.bim\n",
    "humandb=/gpfs/ysm/datasets/db/annovar/humandb\n",
    "\n",
    "sos run ~/project/UKBB_GWAS_dev/workflow/snptogene.ipynb annovar \\\n",
    "    --cwd $cwd \\\n",
    "    --sumstatsFile $sumstatsFile\\\n",
    "    --bim_name $bim_name \\\n",
    "    --hg $hg \\\n",
    "    --job_size $job_size \\\n",
    "    --humandb $humandb\\\n",
    "    --ukbb $UKBB_PATH \\\n",
    "    --container_annovar $container_annovar\\\n",
    "    -s build"
   ]
  },
  {
   "cell_type": "markdown",
   "metadata": {
    "kernel": "Bash"
   },
   "source": [
    "# 4. Combined phenotype f.2247 & f.2257"
   ]
  },
  {
   "cell_type": "markdown",
   "metadata": {
    "kernel": "Bash"
   },
   "source": [
    "## FastGWA job white British"
   ]
  },
  {
   "cell_type": "code",
   "execution_count": null,
   "metadata": {
    "kernel": "Bash"
   },
   "outputs": [],
   "source": [
    "lmm_dir_fastgwa=$UKBB_PATH/results/FastGWA_results/results_imputed_data/f2247_f2257_combined\n",
    "lmm_sbatch_fastgwa=../output/$(date +\"%Y-%m-%d\")_f2247_f2257_imp-fastgwa.sbatch\n",
    "phenoFile=$UKBB_PATH/phenotype_files/hearing_impairment/200828_UKBB_f2247_f2257\n",
    "covarFile=$UKBB_PATH/phenotype_files/hearing_impairment/200828_UKBB_f2247_f2257\n",
    "phenoCol=f2247_f2257\n",
    "covarCol=sex\n",
    "qCovarCol=age\n",
    "\n",
    "lmm_args=\"\"\"fastGWA\n",
    "    --cwd $lmm_dir_fastgwa \n",
    "    --bfile $bfile \n",
    "    --sampleFile $sampleFile\n",
    "    --bgenFile $bgenFile \n",
    "    --phenoFile $phenoFile \n",
    "    --formatFile $formatFile_fastgwa \n",
    "    --covarFile $covarFile  \n",
    "    --phenoCol $phenoCol \n",
    "    --covarCol $covarCol \n",
    "    --covarMaxLevels $covarMaxLevels \n",
    "    --qCovarCol $qCovarCol \n",
    "    --numThreads $numThreads \n",
    "    --bgenMinMAF $bgenMinMAF \n",
    "    --bgenMinINFO $bgenMinINFO \n",
    "    --job_size $lmm_job_size\n",
    "    --grmFile $grmFile\n",
    "    --ylim $ylim\n",
    "    --container_lmm $container_lmm\n",
    "    --container_marp $container_marp\n",
    "\"\"\"\n",
    "\n",
    "sos run ~/project/bioworkflows/admin/Get_Job_Script.ipynb farnam \\\n",
    "    --template-file $tpl_file \\\n",
    "    --workflow-file $lmm_sos \\\n",
    "    --to-script $lmm_sbatch_fastgwa \\\n",
    "    --args \"$lmm_args\""
   ]
  },
  {
   "cell_type": "markdown",
   "metadata": {
    "kernel": "Bash"
   },
   "source": [
    "## FastGWA job all white"
   ]
  },
  {
   "cell_type": "code",
   "execution_count": 7,
   "metadata": {
    "kernel": "Bash"
   },
   "outputs": [
    {
     "name": "stdout",
     "output_type": "stream",
     "text": [
      "INFO: Running \u001b[32mdewan\u001b[0m: Configuration for Yale `pi_dewan` partition cluster\n",
      "INFO: \u001b[32mdewan\u001b[0m is \u001b[32mcompleted\u001b[0m.\n",
      "INFO: \u001b[32mdewan\u001b[0m output:   \u001b[32m../output/2020-12-02_f2247_f2257_expandedwhite_imp-fastgwa.sbatch\u001b[0m\n",
      "INFO: Workflow dewan (ID=cca88c31ebd37730) is executed successfully with 1 completed step.\n"
     ]
    }
   ],
   "source": [
    "lmm_dir_fastgwa=$UKBB_PATH/results/FastGWA_results/results_imputed_data/f2247_f2257_combined_expandedwhite\n",
    "lmm_sbatch_fastgwa=../output/$(date +\"%Y-%m-%d\")_f2247_f2257_expandedwhite_imp-fastgwa.sbatch\n",
    "phenoFile=$UKBB_PATH/phenotype_files/hearing_impairment/120120_UKBB_f2247_f2257_expandedwhite\n",
    "covarFile=$UKBB_PATH/phenotype_files/hearing_impairment/120120_UKBB_f2247_f2257_expandedwhite\n",
    "phenoCol=f2247_f2257\n",
    "covarCol=sex\n",
    "qCovarCol=age\n",
    "\n",
    "lmm_args=\"\"\"fastGWA\n",
    "    --cwd $lmm_dir_fastgwa \n",
    "    --bfile $bfile \n",
    "    --sampleFile $sampleFile\n",
    "    --bgenFile $bgenFile \n",
    "    --phenoFile $phenoFile \n",
    "    --formatFile $formatFile_fastgwa \n",
    "    --covarFile $covarFile  \n",
    "    --phenoCol $phenoCol \n",
    "    --covarCol $covarCol \n",
    "    --covarMaxLevels $covarMaxLevels \n",
    "    --qCovarCol $qCovarCol \n",
    "    --numThreads $numThreads \n",
    "    --bgenMinMAF $bgenMinMAF \n",
    "    --bgenMinINFO $bgenMinINFO \n",
    "    --job_size $lmm_job_size\n",
    "    --grmFile $grmFile\n",
    "    --ylim $ylim\n",
    "    --container_lmm $container_lmm\n",
    "    --container_marp $container_marp\n",
    "\"\"\"\n",
    "\n",
    "sos run ~/project/bioworkflows/admin/Get_Job_Script.ipynb dewan \\\n",
    "    --template-file $tpl_file \\\n",
    "    --workflow-file $lmm_sos \\\n",
    "    --to-script $lmm_sbatch_fastgwa \\\n",
    "    --args \"$lmm_args\""
   ]
  },
  {
   "cell_type": "markdown",
   "metadata": {
    "kernel": "Bash"
   },
   "source": [
    "## Bolt-LMM job"
   ]
  },
  {
   "cell_type": "code",
   "execution_count": 3,
   "metadata": {
    "kernel": "Bash"
   },
   "outputs": [
    {
     "name": "stdout",
     "output_type": "stream",
     "text": [
      "INFO: Running \u001b[32mfarnam\u001b[0m: Configuration for Yale `farnam` cluster\n",
      "INFO: \u001b[32mfarnam\u001b[0m is \u001b[32mcompleted\u001b[0m.\n",
      "INFO: \u001b[32mfarnam\u001b[0m output:   \u001b[32m../output/2020-10-28_f2247_f2257_imp-bolt.sbatch\u001b[0m\n",
      "INFO: Workflow farnam (ID=6f1d2712738ba187) is executed successfully with 1 completed step.\n",
      "\n"
     ]
    }
   ],
   "source": [
    "lmm_dir_bolt=$UKBB_PATH/results/BOLTLMM_results/results_imputed_data/f2247_f2257_combined\n",
    "lmm_sbatch_bolt=../output/$(date +\"%Y-%m-%d\")_f2247_f2257_imp-bolt.sbatch\n",
    "phenoFile=$UKBB_PATH/phenotype_files/hearing_impairment/200828_UKBB_f2247_f2257\n",
    "covarFile=$UKBB_PATH/phenotype_files/hearing_impairment/200828_UKBB_f2247_f2257\n",
    "phenoCol=f2247_f2257\n",
    "covarCol=sex\n",
    "qCovarCol=age\n",
    "lmm_option='lmmForceNonInf'\n",
    "\n",
    "lmm_args=\"\"\"boltlmm\n",
    "    --cwd $lmm_dir_bolt \n",
    "    --bfile $bfile \n",
    "    --sampleFile $sampleFile\n",
    "    --bgenFile $bgenFile \n",
    "    --phenoFile $phenoFile \n",
    "    --formatFile $formatFile_bolt \n",
    "    --covarFile $covarFile \n",
    "    --LDscoresFile $LDscoresFile \n",
    "    --geneticMapFile $geneticMapFile \n",
    "    --phenoCol $phenoCol \n",
    "    --covarCol $covarCol \n",
    "    --covarMaxLevels $covarMaxLevels \n",
    "    --qCovarCol $qCovarCol \n",
    "    --lmm_option $lmm_option\n",
    "    --numThreads $numThreads \n",
    "    --bgenMinMAF $bgenMinMAF \n",
    "    --bgenMinINFO $bgenMinINFO \n",
    "    --job_size $lmm_job_size\n",
    "    --ylim $ylim\n",
    "    --container_lmm $container_lmm\n",
    "    --container_marp $container_marp    \n",
    "\"\"\"\n",
    "\n",
    "sos run ~/project/bioworkflows/admin/Get_Job_Script.ipynb farnam \\\n",
    "    --template-file $tpl_file \\\n",
    "    --workflow-file $lmm_sos \\\n",
    "    --to-script $lmm_sbatch_bolt \\\n",
    "    --args \"$lmm_args\""
   ]
  },
  {
   "cell_type": "markdown",
   "metadata": {
    "kernel": "Bash"
   },
   "source": [
    "## Regenie exome data"
   ]
  },
  {
   "cell_type": "code",
   "execution_count": 8,
   "metadata": {
    "kernel": "Bash"
   },
   "outputs": [
    {
     "name": "stdout",
     "output_type": "stream",
     "text": [
      "INFO: Running \u001b[32mfarnam\u001b[0m: Configuration for Yale `farnam` cluster\n",
      "INFO: \u001b[32mfarnam\u001b[0m is \u001b[32mcompleted\u001b[0m.\n",
      "INFO: \u001b[32mfarnam\u001b[0m output:   \u001b[32m../output/2021-02-12_f2247_f2257_combined_exome_bfile-regenie.sbatch\u001b[0m\n",
      "INFO: Workflow farnam (ID=wbd137a88958a3c38) is executed successfully with 1 completed step.\n",
      "\n"
     ]
    }
   ],
   "source": [
    "lmm_dir_regenie=$lmm_exome_dir_regenie/f2247_f2257_combined_exomes_bfile\n",
    "lmm_sbatch_regenie=../output/$(date +\"%Y-%m-%d\")_f2247_f2257_combined_exome_bfile-regenie.sbatch\n",
    "phenoFile=$hearing_pheno_path/phenotypes_exome_data/010421_UKBB_f2247_f2257_136862ind_exomes\n",
    "covarFile=$hearing_pheno_path/phenotypes_exome_data/010421_UKBB_f2247_f2257_136862ind_exomes\n",
    "phenoCol=f2247_f2257\n",
    "covarCol=sex\n",
    "qCovarCol=age_combined\n",
    "#Use original bed files from the UKBB exome data\n",
    "#bfile=$UKBB_PATH/genotype_files/ukb28374_exomedata/exome_data_OCT2020/exome_files_snpsonly/ukb23155.filtered.merged.bed\n",
    "#Use the original bed files for the genotype array on regenie step1\n",
    "bfile=$UKBB_PATH/genotype_files/pleiotropy_geneticfiles/UKB_originalgenotypefilesdownloaded083019/UKB_genotypedatadownloaded083019.bed\n",
    "\n",
    "lmm_args=\"\"\"regenie\n",
    "    --cwd $lmm_dir_regenie \n",
    "    --bfile $bfile \n",
    "    --genoFile $genoFile\n",
    "    --sampleFile $sampleFile\n",
    "    --phenoFile $phenoFile \n",
    "    --formatFile $formatFile_regenie \n",
    "    --phenoCol $phenoCol\n",
    "    --covarCol $covarCol  \n",
    "    --qCovarCol $qCovarCol\n",
    "    --bsize $bsize\n",
    "    --lowmem_prefix $lowmem_prefix\n",
    "    --trait $trait \n",
    "    --bgenMinMAF $bgenMinMAF \n",
    "    --maf_filter $maf_filter\n",
    "    --geno_filter $geno_filter\n",
    "    --hwe_filter $hwe_filter\n",
    "    --mind_filter $mind_filter\n",
    "    --minMAC $minMAC\n",
    "    --job_size $lmm_job_size\n",
    "    --ylim $ylim\n",
    "    --reverse_log_p $reverse_log_p\n",
    "    --numThreads $numThreads\n",
    "    --container_lmm $container_lmm\n",
    "    --container_marp $container_marp\n",
    "\"\"\"\n",
    "\n",
    "sos run ~/project/bioworkflows/admin/Get_Job_Script.ipynb farnam \\\n",
    "    --template-file $tpl_file \\\n",
    "    --workflow-file $lmm_sos \\\n",
    "    --to-script $lmm_sbatch_regenie \\\n",
    "    --args \"$lmm_args\""
   ]
  },
  {
   "cell_type": "markdown",
   "metadata": {
    "kernel": "Bash"
   },
   "source": [
    "## Regenie imputed data: expanded white controls NA"
   ]
  },
  {
   "cell_type": "code",
   "execution_count": 7,
   "metadata": {
    "kernel": "Bash"
   },
   "outputs": [
    {
     "name": "stdout",
     "output_type": "stream",
     "text": [
      "INFO: Running \u001b[32mfarnam\u001b[0m: Configuration for Yale `farnam` cluster\n",
      "INFO: \u001b[32mfarnam\u001b[0m is \u001b[32mcompleted\u001b[0m.\n",
      "INFO: \u001b[32mfarnam\u001b[0m output:   \u001b[32m/home/dc2325/project/UKBB_GWAS_dev/output/2021-07-13_f2247_f2257_combined_impdata-regenie.sbatch\u001b[0m\n",
      "INFO: Workflow farnam (ID=w5bc39c94a28aa7c9) is executed successfully with 1 completed step.\n",
      "\n"
     ]
    }
   ],
   "source": [
    "lmm_dir_regenie=$lmm_imp_dir_regenie/f2247_f2257_combined_impdata_newpheno\n",
    "lmm_sbatch_regenie=$USER_PATH/UKBB_GWAS_dev/output/$(date +\"%Y-%m-%d\")_f2247_f2257_combined_impdata-regenie.sbatch\n",
    "phenoFile=$hearing_pheno_path/041521_UKBB_f2247_f2257_expandedwhite_z974included_ctrl_na_299916ind\n",
    "covarFile=$hearing_pheno_path/041521_UKBB_f2247_f2257_expandedwhite_z974included_ctrl_na_299916ind\n",
    "phenoCol=f2247_f2257_ctrl_na\n",
    "covarCol=sex\n",
    "qCovarCol=age_combined\n",
    "genoFile=`echo $UKBB_PATH/genotype_files/ukb39554_imputeddataset/ukb_imp_chr{1..22}_v3.bgen`\n",
    "sampleFile=$UKBB_PATH/genotype_files/ukb39554_imputeddataset/ukb32285_imputedindiv.sample\n",
    "\n",
    "#Use the original bed files for the genotype array on regenie step1\n",
    "bfile=$UKBB_PATH/genotype_files/pleiotropy_geneticfiles/UKB_expandedwhite_qcgenotypefiles/UKB_expandedwhiteonly_phenotypeindepqc_410905indiv_528206snps_102720.bed\n",
    "\n",
    "lmm_args=\"\"\"regenie\n",
    "    --cwd $lmm_dir_regenie \n",
    "    --bfile $bfile \n",
    "    --genoFile $genoFile\n",
    "    --sampleFile $sampleFile\n",
    "    --phenoFile $phenoFile \n",
    "    --formatFile $formatFile_regenie \n",
    "    --phenoCol $phenoCol\n",
    "    --covarCol $covarCol  \n",
    "    --qCovarCol $qCovarCol\n",
    "    --bsize $bsize\n",
    "    --lowmem_dir $lowmem_dir\n",
    "    --trait $trait \n",
    "    --bgenMinMAF $bgenMinMAF \n",
    "    --bgenMinINFO $bgenMinINFO\n",
    "    --maf_filter $maf_filter\n",
    "    --geno_filter $geno_filter\n",
    "    --hwe_filter $hwe_filter\n",
    "    --mind_filter $mind_filter\n",
    "    --minMAC $minMAC\n",
    "    --job_size $lmm_job_size\n",
    "    --ylim $ylim\n",
    "    --reverse_log_p $reverse_log_p\n",
    "    --numThreads $numThreads\n",
    "    --container_lmm $container_lmm\n",
    "    --container_marp $container_marp\n",
    "\"\"\"\n",
    "\n",
    "sos run ~/project/bioworkflows/admin/Get_Job_Script.ipynb farnam \\\n",
    "    --template-file $tpl_file \\\n",
    "    --workflow-file $lmm_sos \\\n",
    "    --to-script $lmm_sbatch_regenie \\\n",
    "    --args \"$lmm_args\""
   ]
  },
  {
   "cell_type": "markdown",
   "metadata": {
    "kernel": "Bash"
   },
   "source": [
    "## Regenie: 50K replication set"
   ]
  },
  {
   "cell_type": "markdown",
   "metadata": {
    "kernel": "Bash"
   },
   "source": [
    "### combined phenotype & pure controls"
   ]
  },
  {
   "cell_type": "code",
   "execution_count": 5,
   "metadata": {
    "kernel": "Bash"
   },
   "outputs": [
    {
     "name": "stdout",
     "output_type": "stream",
     "text": [
      "INFO: Running \u001b[32mfarnam\u001b[0m: Configuration for Yale `farnam` cluster\n",
      "INFO: \u001b[32mfarnam\u001b[0m is \u001b[32mcompleted\u001b[0m.\n",
      "INFO: \u001b[32mfarnam\u001b[0m output:   \u001b[32m/home/dc2325/project/UKBB_GWAS_dev/output/2021-04-21_f2247_f2257_exomes50K_pure_ctrl-regenie.sbatch\u001b[0m\n",
      "INFO: Workflow farnam (ID=w5e147b05ebd7fc54) is executed successfully with 1 completed step.\n",
      "\n"
     ]
    }
   ],
   "source": [
    "lmm_dir_regenie=$lmm_exome_dir_regenie/f2247_f2257_exomes50K_pure_ctrl\n",
    "lmm_sbatch_regenie=$USER_PATH/UKBB_GWAS_dev/output/$(date +\"%Y-%m-%d\")_f2247_f2257_exomes50K_pure_ctrl-regenie.sbatch\n",
    "phenoFile=$hearing_pheno_path/041521_UKBB_f2247_f2257_expandedwhite_z974included_pure_ctrl_168414ind\n",
    "covarFile=$hearing_pheno_path/041521_UKBB_f2247_f2257_expandedwhite_z974included_pure_ctrl_168414ind\n",
    "phenoCol=f2247_f2257_ctrl_pure\n",
    "covarCol=sex\n",
    "qCovarCol=age_combined\n",
    "genoFile=/gpfs/gibbs/pi/dewan/data/UKBiobank/genotype_files/ukb28374_exomedata/ukb32285_exomespb_chr1_22.bed\n",
    "#Use the original bed files for the genotype array for the expanded white on regenie step1\n",
    "bfile=$UKBB_PATH/genotype_files/pleiotropy_geneticfiles/UKB_expandedwhite_qcgenotypefiles/UKB_expandedwhiteonly_phenotypeindepqc_410905indiv_528206snps_102720.bed\n",
    "\n",
    "lmm_args=\"\"\"regenie\n",
    "    --cwd $lmm_dir_regenie \n",
    "    --bfile $bfile \n",
    "    --genoFile $genoFile\n",
    "    --sampleFile $sampleFile\n",
    "    --phenoFile $phenoFile \n",
    "    --formatFile $formatFile_regenie \n",
    "    --phenoCol $phenoCol\n",
    "    --covarCol $covarCol  \n",
    "    --qCovarCol $qCovarCol\n",
    "    --bsize $bsize\n",
    "    --lowmem_dir $lowmem_dir\n",
    "    --trait $trait \n",
    "    --bgenMinMAF $bgenMinMAF \n",
    "    --bgenMinINFO $bgenMinINFO\n",
    "    --maf_filter $maf_filter\n",
    "    --geno_filter $geno_filter\n",
    "    --hwe_filter $hwe_filter\n",
    "    --mind_filter $mind_filter\n",
    "    --minMAC $minMAC\n",
    "    --job_size $lmm_job_size\n",
    "    --ylim $ylim\n",
    "    --reverse_log_p $reverse_log_p\n",
    "    --numThreads $numThreads\n",
    "    --container_lmm $container_lmm\n",
    "    --container_marp $container_marp\n",
    "\"\"\"\n",
    "\n",
    "sos run ~/project/bioworkflows/admin/Get_Job_Script.ipynb farnam \\\n",
    "    --template-file $tpl_file \\\n",
    "    --workflow-file $lmm_sos \\\n",
    "    --to-script $lmm_sbatch_regenie \\\n",
    "    --args \"$lmm_args\""
   ]
  },
  {
   "cell_type": "markdown",
   "metadata": {
    "kernel": "Bash"
   },
   "source": [
    "### combined phenotype & controls Na for f.3393"
   ]
  },
  {
   "cell_type": "code",
   "execution_count": 6,
   "metadata": {
    "kernel": "Bash"
   },
   "outputs": [
    {
     "name": "stdout",
     "output_type": "stream",
     "text": [
      "INFO: Running \u001b[32mfarnam\u001b[0m: Configuration for Yale `farnam` cluster\n",
      "INFO: \u001b[32mfarnam\u001b[0m is \u001b[32mcompleted\u001b[0m.\n",
      "INFO: \u001b[32mfarnam\u001b[0m output:   \u001b[32m/home/dc2325/project/UKBB_GWAS_dev/output/2021-04-21_f2247_f2257_exomes50K_ctrl_na-regenie.sbatch\u001b[0m\n",
      "INFO: Workflow farnam (ID=w1a01bde43afe534a) is executed successfully with 1 completed step.\n",
      "\n"
     ]
    }
   ],
   "source": [
    "lmm_dir_regenie=$lmm_exome_dir_regenie/f2247_f2257_exomes50K_ctrl_na\n",
    "lmm_sbatch_regenie=$USER_PATH/UKBB_GWAS_dev/output/$(date +\"%Y-%m-%d\")_f2247_f2257_exomes50K_ctrl_na-regenie.sbatch\n",
    "phenoFile=$hearing_pheno_path/041521_UKBB_f2247_f2257_expandedwhite_z974included_ctrl_na_299916ind\n",
    "covarFile=$hearing_pheno_path/041521_UKBB_f2247_f2257_expandedwhite_z974included_ctrl_na_299916ind\n",
    "phenoCol=f2247_f2257_ctrl_na\n",
    "covarCol=sex\n",
    "qCovarCol=age_combined\n",
    "genoFile=/gpfs/gibbs/pi/dewan/data/UKBiobank/genotype_files/ukb28374_exomedata/ukb32285_exomespb_chr1_22.bed\n",
    "#Use the original bed files for the genotype array for the expanded white on regenie step1\n",
    "bfile=$UKBB_PATH/genotype_files/pleiotropy_geneticfiles/UKB_expandedwhite_qcgenotypefiles/UKB_expandedwhiteonly_phenotypeindepqc_410905indiv_528206snps_102720.bed\n",
    "\n",
    "lmm_args=\"\"\"regenie\n",
    "    --cwd $lmm_dir_regenie \n",
    "    --bfile $bfile \n",
    "    --genoFile $genoFile\n",
    "    --sampleFile $sampleFile\n",
    "    --phenoFile $phenoFile \n",
    "    --formatFile $formatFile_regenie \n",
    "    --phenoCol $phenoCol\n",
    "    --covarCol $covarCol  \n",
    "    --qCovarCol $qCovarCol\n",
    "    --bsize $bsize\n",
    "    --lowmem_dir $lowmem_dir\n",
    "    --trait $trait \n",
    "    --bgenMinMAF $bgenMinMAF \n",
    "    --bgenMinINFO $bgenMinINFO\n",
    "    --maf_filter $maf_filter\n",
    "    --geno_filter $geno_filter\n",
    "    --hwe_filter $hwe_filter\n",
    "    --mind_filter $mind_filter\n",
    "    --minMAC $minMAC\n",
    "    --job_size $lmm_job_size\n",
    "    --ylim $ylim\n",
    "    --reverse_log_p $reverse_log_p\n",
    "    --numThreads $numThreads\n",
    "    --container_lmm $container_lmm\n",
    "    --container_marp $container_marp\n",
    "\"\"\"\n",
    "\n",
    "sos run ~/project/bioworkflows/admin/Get_Job_Script.ipynb farnam \\\n",
    "    --template-file $tpl_file \\\n",
    "    --workflow-file $lmm_sos \\\n",
    "    --to-script $lmm_sbatch_regenie \\\n",
    "    --args \"$lmm_args\""
   ]
  },
  {
   "cell_type": "markdown",
   "metadata": {
    "kernel": "Bash"
   },
   "source": [
    "## Regenie in exome data (original Plink files UKBB unqc'ed) using modified phenotype file with controls_na for f.3393"
   ]
  },
  {
   "cell_type": "markdown",
   "metadata": {
    "kernel": "Bash"
   },
   "source": [
    "### Combined phenotype Controls with NA for f.3393"
   ]
  },
  {
   "cell_type": "code",
   "execution_count": 5,
   "metadata": {
    "kernel": "Bash"
   },
   "outputs": [
    {
     "name": "stdout",
     "output_type": "stream",
     "text": [
      "INFO: Running \u001b[32mfarnam\u001b[0m: Configuration for Yale `farnam` cluster\n",
      "INFO: \u001b[32mfarnam\u001b[0m is \u001b[32mcompleted\u001b[0m.\n",
      "INFO: \u001b[32mfarnam\u001b[0m output:   \u001b[32m/home/dc2325/project/UKBB_GWAS_dev/output/2021-06-24_f2247_f2257_hearing_aid_exomes200K_noqc_ctrl_na-regenie.sbatch\u001b[0m\n",
      "INFO: Workflow farnam (ID=w8700ff76175d3c64) is executed successfully with 1 completed step.\n",
      "\n"
     ]
    }
   ],
   "source": [
    "# First run using controls na for f3393 \n",
    "lmm_dir_regenie=$lmm_exome_dir_regenie/f2247_f2257_exomes200K_noqc_ctrl_na\n",
    "lmm_sbatch_regenie=$USER_PATH/UKBB_GWAS_dev/output/$(date +\"%Y-%m-%d\")_f2247_f2257_hearing_aid_exomes200K_noqc_ctrl_na-regenie.sbatch\n",
    "phenoFile=$hearing_pheno_path/062421_UKBB_f2247_f2257_expandedwhite_z974included_ctrl_na_137245ind\n",
    "covarFile=$hearing_pheno_path/062421_UKBB_f2247_f2257_expandedwhite_z974included_ctrl_na_137245ind\n",
    "phenoCol=f2247_f2257_ctrl_na\n",
    "covarCol=sex\n",
    "qCovarCol=age_combined\n",
    "genoFile=`echo $UKBB_PATH/genotype_files/ukb28374_exomedata/exome_data_OCT2020/ukb23155_c{1..22}_b0_v1.bed`\n",
    "#Use the original bed files for the genotype array on regenie step1\n",
    "bfile=$UKBB_PATH/genotype_files/pleiotropy_geneticfiles/UKB_originalgenotypefilesdownloaded083019/UKB_genotypedatadownloaded083019.bed\n",
    "hwe_filter=5e-08\n",
    "\n",
    "lmm_args=\"\"\"regenie\n",
    "    --cwd $lmm_dir_regenie \n",
    "    --bfile $bfile \n",
    "    --genoFile $genoFile\n",
    "    --sampleFile $sampleFile\n",
    "    --phenoFile $phenoFile \n",
    "    --formatFile $formatFile_regenie \n",
    "    --phenoCol $phenoCol\n",
    "    --covarCol $covarCol  \n",
    "    --qCovarCol $qCovarCol\n",
    "    --bsize $bsize\n",
    "    --lowmem_dir $lowmem_dir\n",
    "    --trait $trait \n",
    "    --bgenMinMAF $bgenMinMAF \n",
    "    --bgenMinINFO $bgenMinINFO\n",
    "    --maf_filter $maf_filter\n",
    "    --geno_filter $geno_filter\n",
    "    --hwe_filter $hwe_filter\n",
    "    --mind_filter $mind_filter\n",
    "    --minMAC $minMAC\n",
    "    --job_size $lmm_job_size\n",
    "    --ylim $ylim\n",
    "    --reverse_log_p $reverse_log_p\n",
    "    --numThreads $numThreads\n",
    "    --container_lmm $container_lmm\n",
    "    --container_marp $container_marp\n",
    "\"\"\"\n",
    "\n",
    "sos run ~/project/bioworkflows/admin/Get_Job_Script.ipynb farnam \\\n",
    "    --template-file $tpl_file \\\n",
    "    --workflow-file $lmm_sos \\\n",
    "    --to-script $lmm_sbatch_regenie \\\n",
    "    --args \"$lmm_args\""
   ]
  },
  {
   "cell_type": "markdown",
   "metadata": {
    "kernel": "Bash"
   },
   "source": [
    "## Regenie in exome data after VCF-QC 200K exomes"
   ]
  },
  {
   "cell_type": "markdown",
   "metadata": {
    "kernel": "Bash"
   },
   "source": [
    "### combined phenotype & controls Na for f.3393"
   ]
  },
  {
   "cell_type": "code",
   "execution_count": 12,
   "metadata": {
    "kernel": "Bash"
   },
   "outputs": [
    {
     "name": "stdout",
     "output_type": "stream",
     "text": [
      "INFO: Running \u001b[32mcsg\u001b[0m: Configuration for Columbia csg partition cluster\n",
      "INFO: \u001b[32mcsg\u001b[0m is \u001b[32mcompleted\u001b[0m.\n",
      "INFO: \u001b[32mcsg\u001b[0m output:   \u001b[32m/home/dmc2245/project/UKBB_GWAS_dev/output/f2247_f2257_exomes200K_ctrl_na-regenie_2021-05-18.sbatch\u001b[0m\n",
      "INFO: Workflow csg (ID=w6bd7047f416af43a) is executed successfully with 1 completed step.\n",
      "\n"
     ]
    }
   ],
   "source": [
    "# Run using all controls for f3393 \n",
    "lmm_dir_regenie=$lmm_exome_dir_regenie/f2247_f2257_exomes200K_ctrl_na\n",
    "lmm_sbatch_regenie=$USER_PATH/UKBB_GWAS_dev/output/f2247_f2257_exomes200K_ctrl_na-regenie_$(date +\"%Y-%m-%d\").sbatch\n",
    "phenoFile=$hearing_pheno_path/041521_UKBB_f2247_f2257_expandedwhite_z974included_ctrl_na_299916ind\n",
    "covarFile=$hearing_pheno_path/041521_UKBB_f2247_f2257_expandedwhite_z974included_ctrl_na_299916ind\n",
    "phenoCol=f2247_f2257_ctrl_na\n",
    "covarCol=sex\n",
    "qCovarCol=age_combined\n",
    "genoFile=`echo /mnt/mfs/statgen/UKBiobank/data/exome_files/project_VCF/plink_files/ukb23156_c{1..22}.merged.filtered.bed`\n",
    "#Use the original bed files for the genotype array for the expanded white on regenie step1\n",
    "bfile=$UKBB_PATH/data/genotype_files/UKB_expandedwhite_qcgenotypefiles/UKB_expandedwhiteonly_phenotypeindepqc_410905indiv_528206snps_102720.bed\n",
    "\n",
    "lmm_args=\"\"\"regenie\n",
    "    --cwd $lmm_dir_regenie \n",
    "    --bfile $bfile \n",
    "    --genoFile $genoFile\n",
    "    --sampleFile $sampleFile\n",
    "    --phenoFile $phenoFile \n",
    "    --formatFile $formatFile_regenie \n",
    "    --phenoCol $phenoCol\n",
    "    --covarCol $covarCol  \n",
    "    --qCovarCol $qCovarCol\n",
    "    --bsize $bsize\n",
    "    --lowmem_dir $lowmem_dir\n",
    "    --trait $trait \n",
    "    --bgenMinMAF $bgenMinMAF \n",
    "    --bgenMinINFO $bgenMinINFO\n",
    "    --maf_filter $maf_filter\n",
    "    --geno_filter $geno_filter\n",
    "    --hwe_filter $hwe_filter\n",
    "    --mind_filter $mind_filter\n",
    "    --minMAC $minMAC\n",
    "    --job_size $lmm_job_size\n",
    "    --ylim $ylim\n",
    "    --reverse_log_p $reverse_log_p\n",
    "    --numThreads $numThreads\n",
    "    --container_lmm $container_lmm\n",
    "    --container_marp $container_marp\n",
    "\"\"\"\n",
    "\n",
    "sos run ~/project/bioworkflows/admin/Get_Job_Script.ipynb csg \\\n",
    "    --template-file $tpl_file \\\n",
    "    --workflow-file $lmm_sos \\\n",
    "    --to-script $lmm_sbatch_regenie \\\n",
    "    --args \"$lmm_args\""
   ]
  },
  {
   "cell_type": "markdown",
   "metadata": {
    "kernel": "Bash"
   },
   "source": [
    "## LD clumping job"
   ]
  },
  {
   "cell_type": "markdown",
   "metadata": {
    "kernel": "Bash"
   },
   "source": [
    "### Imputed data"
   ]
  },
  {
   "cell_type": "code",
   "execution_count": null,
   "metadata": {
    "kernel": "Bash"
   },
   "outputs": [],
   "source": [
    "clumping_dir=$UKBB_PATH/results/LD_clumping/f2247_f2257_combined\n",
    "clumping_sos=~/project/bioworkflows/admin/LD_Clumping.ipynb\n",
    "clumping_sbatch=../output/$(date +\"%Y-%m-%d\")_f2247_f2257_combined_ldclumping.sbatch\n",
    "sumstatsFiles=$UKBB_PATH/results/FastGWA_results/results_imputed_data/f2247_f2257_combined/200828_UKBB_f2247_f2257_f2247_f2257.fastGWA.snp_stats.gz\n",
    "\n",
    "clumping_args=\"\"\"default \n",
    "    --cwd $clumping_dir \n",
    "    --bfile $bfile\n",
    "    --bfile_ref $bfile_ref \n",
    "    --bgenFile $bgenFile\n",
    "    --sampleFile $sampleFile \n",
    "    --sumstatsFiles $sumstatsFiles \n",
    "    --unrelated_samples $unrelated_samples \n",
    "    --ld_sample_size $ld_sample_size \n",
    "    --clump_field $clump_field\n",
    "    --clump_p1 $clump_p1 \n",
    "    --clump_p2 $clump_p2 \n",
    "    --clump_r2 $clump_r2 \n",
    "    --clump_kb $clump_kb \n",
    "    --clump_annotate $clump_annotate \n",
    "    --numThreads $numThreads \n",
    "    --job_size $clump_job_size\n",
    "\"\"\"\n",
    "\n",
    "sos run ~/project/bioworkflows/admin/Get_Job_Script.ipynb farnam \\\n",
    "    --template-file $tpl_file \\\n",
    "    --workflow-file $clumping_sos \\\n",
    "    --to-script $clumping_sbatch \\\n",
    "    --args \"$clumping_args\""
   ]
  },
  {
   "cell_type": "markdown",
   "metadata": {
    "kernel": "Bash"
   },
   "source": [
    "### Exome data"
   ]
  },
  {
   "cell_type": "code",
   "execution_count": 6,
   "metadata": {
    "kernel": "Bash"
   },
   "outputs": [
    {
     "name": "stdout",
     "output_type": "stream",
     "text": [
      "INFO: Running \u001b[32mfarnam\u001b[0m: Configuration for Yale `farnam` cluster\n",
      "INFO: \u001b[32mfarnam\u001b[0m is \u001b[32mcompleted\u001b[0m.\n",
      "INFO: \u001b[32mfarnam\u001b[0m output:   \u001b[32m../output/2021-02-07_f2247_f2257_combined_exome_ldclumping.sbatch\u001b[0m\n",
      "INFO: Workflow farnam (ID=wf81e3f1aaede6aab) is executed successfully with 1 completed step.\n",
      "\n"
     ]
    }
   ],
   "source": [
    "tpl_file=../farnam.yml\n",
    "clumping_dir=$UKBB_PATH/results/LD_clumping/f2247_f2257_combined_exome\n",
    "clumping_sos=~/project/bioworkflows/admin/LD_Clumping.ipynb\n",
    "clumping_sbatch=../output/$(date +\"%Y-%m-%d\")_f2247_f2257_combined_exome_ldclumping.sbatch\n",
    "bfile=$UKBB_PATH/genotype_files/pleiotropy_geneticfiles/UKB_Caucasians_phenotypeindepqc120319_updated082020removedwithdrawnindiv.bed\n",
    "sumstatsFiles=$UKBB_PATH/results/REGENIE_results/results_exome_data/f2247_f2257_combined_exomes/010421_UKBB_f2247_f2257_136862ind_exomes_f2247_f2257.regenie.snp_stats.gz\n",
    "genoFile=`echo $UKBB_PATH/genotype_files/ukb28374_exomedata/exome_data_OCT2020/ukb23155_c{1..22}_b0_v1.bed`\n",
    "sampleFile=$UKBB_PATH/genotype_files/ukb28374_exomedata/exome_data_OCT2020/ukb23155_s200631.fam\n",
    "unrelated_samples=$UKBB_PATH/genotype_files/pleiotropy_geneticfiles/unrelated_n307259/UKB_unrelatedcauc_phenotypes_asthmat2dbmiwaisthip_agesex_waisthipratio_040620\n",
    "bfile_ref=$UKBB_PATH/genotype_files/ukb28374_exomedata/exome_data_OCT2020/ukb23155_s200631_chr1_22_exomedata.1200.ref_geno.bed\n",
    "container_lmm=$UKBB_PATH/lmm.sif\n",
    "ld_sample_size=1200\n",
    "clump_field=P\n",
    "clump_p1=5e-08\n",
    "clump_p2=1\n",
    "clump_r2=0.2\n",
    "clump_kb=2000\n",
    "clump_annotate=BP\n",
    "numThreads=20\n",
    "clump_job_size=1\n",
    "\n",
    "# Select samples filter_samples workflow & create reference file with reference workflow\n",
    "# Then use default workflow to run the LD clumping\n",
    "clumping_args=\"\"\"default\n",
    "    --cwd $clumping_dir\n",
    "    --bfile $bfile\n",
    "    --bfile_ref $bfile_ref \n",
    "    --genoFile $genoFile\n",
    "    --sampleFile $sampleFile \n",
    "    --sumstatsFiles $sumstatsFiles \n",
    "    --unrelated_samples $unrelated_samples \n",
    "    --ld_sample_size $ld_sample_size \n",
    "    --clump_field $clump_field\n",
    "    --clump_p1 $clump_p1 \n",
    "    --clump_p2 $clump_p2 \n",
    "    --clump_r2 $clump_r2 \n",
    "    --clump_kb $clump_kb \n",
    "    --clump_annotate $clump_annotate \n",
    "    --numThreads $numThreads \n",
    "    --job_size $clump_job_size\n",
    "    --container_lmm $container_lmm\n",
    "\"\"\"\n",
    "\n",
    "sos run ~/project/bioworkflows/admin/Get_Job_Script.ipynb farnam \\\n",
    "    --template-file $tpl_file \\\n",
    "    --workflow-file $clumping_sos \\\n",
    "    --to-script $clumping_sbatch \\\n",
    "    --args \"$clumping_args\""
   ]
  },
  {
   "cell_type": "markdown",
   "metadata": {
    "kernel": "Bash"
   },
   "source": [
    "### Post-GWAS annotation Snp-to-gene"
   ]
  },
  {
   "cell_type": "code",
   "execution_count": 10,
   "metadata": {
    "kernel": "Bash"
   },
   "outputs": [
    {
     "name": "stdout",
     "output_type": "stream",
     "text": [
      "INFO: Running \u001b[32mfarnam\u001b[0m: Configuration for Yale `farnam` cluster\n",
      "INFO: \u001b[32mfarnam\u001b[0m is \u001b[32mcompleted\u001b[0m.\n",
      "INFO: \u001b[32mfarnam\u001b[0m output:   \u001b[32m../output/2021-01-28_f2247_f2257_postgwa.sbatch\u001b[0m\n",
      "INFO: Workflow farnam (ID=w311a9815d7e57ba3) is executed successfully with 1 completed step.\n"
     ]
    }
   ],
   "source": [
    "lmm_dir=$UKBB_PATH/results/REGENIE_results/results_exome_data/f2247_f2257_combined_exomes\n",
    "postgwa_sbatch=../output/$(date +\"%Y-%m-%d\")_f2247_f2257_postgwa.sbatch\n",
    "sumstatsFile=$UKBB_PATH/results/REGENIE_results/results_exome_data/f2247_f2257_combined_exomes/010421_UKBB_f2247_f2257_136862ind_exomes_f2247_f2257.regenie.snp_stats.gz\n",
    "tpl_file=../farnam.yml\n",
    "postgwa_sos=~/project/UKBB_GWAS_dev/workflow/snptogene.ipynb\n",
    "job_size=1\n",
    "hg=38\n",
    "\n",
    "postgwa_args=\"\"\"default\n",
    "    --cwd $lmm_dir\n",
    "    --sumstatsFile $sumstatsFile\n",
    "    --hg $hg\n",
    "    --job_size $job_size\n",
    "\"\"\"\n",
    "\n",
    "sos run ~/project/bioworkflows/admin/Get_Job_Script.ipynb farnam \\\n",
    "    --template-file $tpl_file \\\n",
    "    --workflow-file $postgwa_sos \\\n",
    "    --to-script $postgwa_sbatch \\\n",
    "    --args \"$postgwa_args\""
   ]
  },
  {
   "cell_type": "markdown",
   "metadata": {
    "kernel": "Bash"
   },
   "source": [
    "### Post-GWAS annotation ANNOVAR"
   ]
  },
  {
   "cell_type": "code",
   "execution_count": null,
   "metadata": {
    "kernel": "Bash"
   },
   "outputs": [],
   "source": [
    "lmm_dir=$UKBB_PATH/results/REGENIE_results/results_exome_data/f2247_f2257_combined_exomes\n",
    "postgwa_sbatch=../output/$(date +\"%Y-%m-%d\")_f2247_f2257_postgwa.sbatch\n",
    "postgwa_sos=~/project/UKBB_GWAS_dev/workflow/snptogene.ipynb\n",
    "tpl_file=../farnam.yml\n",
    "sumstatsFile=$UKBB_PATH/results/REGENIE_results/results_exome_data/f2247_f2257_combined_exomes/010421_UKBB_f2247_f2257_136862ind_exomes_f2247_f2257.regenie.snp_stats.gz\n",
    "hg=38\n",
    "job_size=1\n",
    "container_annovar=/home/dc2325/scratch60/annovar.sif\n",
    "bimfiles=`echo $UKBB_PATH/genotype_files/ukb28374_exomedata/exome_data_OCT2020/ukb23155_c{1..22}_b0_v1.bim`\n",
    "bim_name=/home/dc2325/scratch60/output/ukb23155_chr1_chr22.bim\n",
    "humandb=/gpfs/ysm/datasets/db/annovar/humandb\n",
    "\n",
    "annovar_args=\"\"\"annovar\n",
    "    --cwd $lmm_dir\n",
    "    --hg $hg\n",
    "    --bimfiles $bimfiles\n",
    "    --bim_name $bim_name\n",
    "    --sumstatsFile $sumstatsFile\n",
    "    --hg $hg\n",
    "    --humandb $humandb\n",
    "    --job_size $job_size\n",
    "    --container_annovar $container_annovar\n",
    "\"\"\"\n",
    "\n",
    "sos run ~/project/bioworkflows/admin/Get_Job_Script.ipynb farnam \\\n",
    "    --template-file $tpl_file \\\n",
    "    --workflow-file $postgwa_sos \\\n",
    "    --to-script $postgwa_sbatch \\\n",
    "    --args \"$postgwa_args\""
   ]
  },
  {
   "cell_type": "code",
   "execution_count": null,
   "metadata": {
    "kernel": "Bash"
   },
   "outputs": [],
   "source": [
    "UKBB_PATH=/gpfs/gibbs/pi/dewan/data/UKBiobank\n",
    "cwd=/home/dc2325/scratch60/output/bfile_annovar\n",
    "sumstatsFile=$UKBB_PATH/results/REGENIE_results/results_exome_data/f2247_f2257_combined_exomes_bfile/010421_UKBB_f2247_f2257_136862ind_exomes_f2247_f2257.regenie.snp_stats.gz\n",
    "hg=38\n",
    "job_size=1\n",
    "container_annovar=$UKBB_PATH/annovar.sif\n",
    "bimfiles=`echo $UKBB_PATH/genotype_files/ukb28374_exomedata/exome_data_OCT2020/ukb23155_c{1..22}_b0_v1.bim`\n",
    "bim_name=/home/dc2325/scratch60/output/ukb23155_chr1_chr22.bim\n",
    "humandb=/gpfs/ysm/datasets/db/annovar/humandb\n",
    "\n",
    "sos run ~/project/UKBB_GWAS_dev/workflow/snptogene.ipynb annovar \\\n",
    "    --cwd $cwd \\\n",
    "    --sumstatsFile $sumstatsFile\\\n",
    "    --bim_name $bim_name \\\n",
    "    --hg $hg \\\n",
    "    --job_size $job_size \\\n",
    "    --humandb $humandb\\\n",
    "    --ukbb $UKBB_PATH \\\n",
    "    --container_annovar $container_annovar\\\n",
    "    -s build"
   ]
  },
  {
   "cell_type": "markdown",
   "metadata": {
    "kernel": "Bash"
   },
   "source": [
    "# 5. Hudson plot"
   ]
  },
  {
   "cell_type": "markdown",
   "metadata": {
    "kernel": "Bash"
   },
   "source": [
    "## f2247_f2257 combined vs Hdiff wells paper"
   ]
  },
  {
   "cell_type": "code",
   "execution_count": 2,
   "metadata": {
    "kernel": "Bash"
   },
   "outputs": [
    {
     "name": "stdout",
     "output_type": "stream",
     "text": [
      "INFO: Running \u001b[32mfarnam\u001b[0m: Configuration for Yale `farnam` cluster\n",
      "INFO: \u001b[32mfarnam\u001b[0m is \u001b[32mcompleted\u001b[0m.\n",
      "INFO: \u001b[32mfarnam\u001b[0m output:   \u001b[32m../output/2020-10-26_f2247_f2257_vs_hdiff_hudson.sbatch\u001b[0m\n",
      "INFO: Workflow farnam (ID=f34e7c33d379875d) is executed successfully with 1 completed step.\n",
      "\n"
     ]
    }
   ],
   "source": [
    "tpl_file=../farnam.yml\n",
    "hudson_sos=~/project/bioworkflows/admin/Hudson_plot.ipynb\n",
    "hudson_dir=$UKBB_PATH/results/hudson_plots/hearing_impairment/\n",
    "hudson_sbatch=../output/$(date +\"%Y-%m-%d\")_f2247_f2257_vs_hdiff_hudson.sbatch\n",
    "sumstats_1=$UKBB_PATH/results/FastGWA_results/results_imputed_data/f2247_f2257_combined/200828_UKBB_f2247_f2257_f2247_f2257.fastGWA.snp_stats.gz\n",
    "sumstats_2=/home/dc2325/project/HI_UKBB/2019_Wells_sumstats/HD_EA_gwas_sumstats.txt.gz\n",
    "toptitle=\"f2247_f2257_combined\"\n",
    "bottomtitle=\"Hdiff_Wells_GWAS\"\n",
    "highlight_p_top=0.0\n",
    "highlight_p_bottom=0.0\n",
    "pval_filter=5e-08\n",
    "highlight_snp=/home/dc2325/project/HI_UKBB/2019_Wells_sumstats/hdiff_snps_wells\n",
    "job_size=1\n",
    "container_lmm=$UKBB_PATH/lmm.sif\n",
    "\n",
    "hudson_args=\"\"\"hudson\n",
    "    --cwd $hudson_dir\n",
    "    --sumstats_1 $sumstats_1\n",
    "    --sumstats_2 $sumstats_2\n",
    "    --toptitle $toptitle\n",
    "    --bottomtitle $bottomtitle\n",
    "    --job_size $job_size\n",
    "    --highlight_p_top $highlight_p_top\n",
    "    --highlight_p_bottom $highlight_p_bottom\n",
    "    --pval_filter $pval_filter\n",
    "    --highlight_snp $highlight_snp\n",
    "    --container_lmm $container_lmm\n",
    "\"\"\"\n",
    "sos run ~/project/bioworkflows/admin/Get_Job_Script.ipynb farnam \\\n",
    "    --template-file $tpl_file \\\n",
    "    --workflow-file $hudson_sos \\\n",
    "    --to-script $hudson_sbatch \\\n",
    "    --args \"$hudson_args\""
   ]
  },
  {
   "cell_type": "markdown",
   "metadata": {
    "kernel": "Bash"
   },
   "source": [
    "## f3393 vs haid wells paper"
   ]
  },
  {
   "cell_type": "code",
   "execution_count": 2,
   "metadata": {
    "kernel": "Bash"
   },
   "outputs": [
    {
     "name": "stdout",
     "output_type": "stream",
     "text": [
      "INFO: Running \u001b[32mfarnam\u001b[0m: Configuration for Yale `farnam` cluster\n",
      "INFO: \u001b[32mfarnam\u001b[0m is \u001b[32mcompleted\u001b[0m.\n",
      "INFO: \u001b[32mfarnam\u001b[0m output:   \u001b[32m../output/2020-10-22_f3393_vs_Haid_hudson.sbatch\u001b[0m\n",
      "INFO: Workflow farnam (ID=f48b56e3e091ef16) is executed successfully with 1 completed step.\n",
      "\n"
     ]
    }
   ],
   "source": [
    "tpl_file=../farnam.yml\n",
    "hudson_sos=~/project/bioworkflows/admin/Hudson_plot.ipynb\n",
    "hudson_dir=$UKBB_PATH/results/hudson_plots/hearing_impairment/\n",
    "hudson_sbatch=../output/$(date +\"%Y-%m-%d\")_f3393_vs_Haid_hudson.sbatch\n",
    "sumstats_1=$UKBB_PATH/results/FastGWA_results/results_imputed_data/f3393_hearing_aid/200828_UKBB_Hearing_aid_f3393_hearing_aid_cat.fastGWA.snp_stats.gz\n",
    "sumstats_2=/home/dc2325/project/HI_UKBB/2019_Wells_sumstats/HAID_EA_gwas_sumstats.txt.gz\n",
    "toptitle=\"f_3393_hearing_aid\"\n",
    "bottomtitle=\"Haid_Wells_GWAS\"\n",
    "highlight_p_top=0.0\n",
    "highlight_p_bottom=0.0\n",
    "pval_filter=5e-08\n",
    "highlight_snp=/home/dc2325/project/HI_UKBB/2019_Wells_sumstats/haid_snps_wells\n",
    "job_size=1\n",
    "container_lmm=$UKBB_PATH/lmm.sif\n",
    "\n",
    "hudson_args=\"\"\"hudson\n",
    "    --cwd $hudson_dir\n",
    "    --sumstats_1 $sumstats_1\n",
    "    --sumstats_2 $sumstats_2\n",
    "    --toptitle $toptitle\n",
    "    --bottomtitle $bottomtitle\n",
    "    --job_size $job_size\n",
    "    --highlight_p_top $highlight_p_top\n",
    "    --highlight_p_bottom $highlight_p_bottom\n",
    "    --pval_filter $pval_filter\n",
    "    --highlight_snp $highlight_snp\n",
    "    --container_lmm $container_lmm\n",
    "\"\"\"\n",
    "sos run ~/project/bioworkflows/admin/Get_Job_Script.ipynb farnam \\\n",
    "    --template-file $tpl_file \\\n",
    "    --workflow-file $hudson_sos \\\n",
    "    --to-script $hudson_sbatch \\\n",
    "    --args \"$hudson_args\""
   ]
  },
  {
   "cell_type": "markdown",
   "metadata": {
    "kernel": "Bash"
   },
   "source": [
    "## f.2247 exome and inputed data"
   ]
  },
  {
   "cell_type": "code",
   "execution_count": 7,
   "metadata": {
    "kernel": "Bash"
   },
   "outputs": [
    {
     "name": "stdout",
     "output_type": "stream",
     "text": [
      "INFO: Running \u001b[32mfarnam\u001b[0m: Configuration for Yale `farnam` cluster\n",
      "INFO: \u001b[32mfarnam\u001b[0m is \u001b[32mcompleted\u001b[0m.\n",
      "INFO: \u001b[32mfarnam\u001b[0m output:   \u001b[32m../output/2021-02-02_f2247_imp_exome_hudson.sbatch\u001b[0m\n",
      "INFO: Workflow farnam (ID=w2d252da39eb028af) is executed successfully with 1 completed step.\n",
      "\n"
     ]
    }
   ],
   "source": [
    "tpl_file=../farnam.yml\n",
    "hudson_sos=~/project/bioworkflows/admin/Hudson_plot.ipynb\n",
    "hudson_dir=$UKBB_PATH/results/hudson_plots\n",
    "hudson_sbatch=../output/$(date +\"%Y-%m-%d\")_f2247_imp_exome_hudson.sbatch\n",
    "sumstats_1=$UKBB_PATH/results/FastGWA_results/results_imputed_data/f2247_hearing_difficulty/200828_UKBB_Hearing_difficulty_f2247_hearing_diff_new.fastGWA.snp_stats.gz\n",
    "sumstats_2=$UKBB_PATH/results/REGENIE_results/results_exome_data/f2247_hearing_difficulty_exomes/010421_UKBB_Hearing_difficulty_f2247_171970ind_exomes_hearing_diff_new.regenie.snp_stats.gz\n",
    "toptitle=\"f2247_imputed\"\n",
    "bottomtitle=\"f2247_exome\"\n",
    "phenocol1=\"f2247_imputed\"\n",
    "phenocol2=\"f2247_exome\"\n",
    "highlight_p_top=5e-08\n",
    "highlight_p_bottom=5e-08\n",
    "pval_filter=5e-08\n",
    "job_size=1\n",
    "container_lmm=$UKBB_PATH/lmm.sif\n",
    "\n",
    "hudson_args=\"\"\"hudson\n",
    "    --cwd $hudson_dir\n",
    "    --sumstats_1 $sumstats_1\n",
    "    --sumstats_2 $sumstats_2\n",
    "    --toptitle $toptitle\n",
    "    --bottomtitle $bottomtitle\n",
    "    --phenocol1 $phenoCol1\n",
    "    --phenocol2 $phenoCol2\n",
    "    --job_size $job_size\n",
    "    --highlight_p_top $highlight_p_top\n",
    "    --highlight_p_bottom $highlight_p_bottom\n",
    "    --pval_filter $pval_filter\n",
    "    --container_lmm $container_lmm\n",
    "\"\"\"\n",
    "sos run ~/project/bioworkflows/admin/Get_Job_Script.ipynb farnam \\\n",
    "    --template-file $tpl_file \\\n",
    "    --workflow-file $hudson_sos \\\n",
    "    --to-script $hudson_sbatch \\\n",
    "    --args \"$hudson_args\""
   ]
  },
  {
   "cell_type": "markdown",
   "metadata": {
    "kernel": "Bash"
   },
   "source": [
    "## f.2257 exome and imputed data"
   ]
  },
  {
   "cell_type": "code",
   "execution_count": 8,
   "metadata": {
    "kernel": "Bash"
   },
   "outputs": [
    {
     "name": "stdout",
     "output_type": "stream",
     "text": [
      "INFO: Running \u001b[32mfarnam\u001b[0m: Configuration for Yale `farnam` cluster\n",
      "INFO: \u001b[32mfarnam\u001b[0m is \u001b[32mcompleted\u001b[0m.\n",
      "INFO: \u001b[32mfarnam\u001b[0m output:   \u001b[32m../output/2021-02-02_f2257_imp_exome_hudson.sbatch\u001b[0m\n",
      "INFO: Workflow farnam (ID=w0c5959e07610ebcd) is executed successfully with 1 completed step.\n",
      "\n"
     ]
    }
   ],
   "source": [
    "tpl_file=../farnam.yml\n",
    "hudson_sos=~/project/bioworkflows/admin/Hudson_plot.ipynb\n",
    "hudson_dir=$UKBB_PATH/results/hudson_plots\n",
    "hudson_sbatch=../output/$(date +\"%Y-%m-%d\")_f2257_imp_exome_hudson.sbatch\n",
    "sumstats_1=$UKBB_PATH/results/FastGWA_results/results_imputed_data/f2257_hearing_background_noise/200828_UKBB_Hearing_background_noise_f2257_hearing_noise_cat.fastGWA.snp_stats.gz\n",
    "sumstats_2=$UKBB_PATH/results/REGENIE_results/results_exome_data/f2257_hearing_noise_exomes/010421_UKBB_Hearing_background_noise_f2257_175531ind_exomes_hearing_noise_cat.regenie.snp_stats.gz\n",
    "toptitle=\"f2257_imputed\"\n",
    "bottomtitle=\"f2257_exome\"\n",
    "phenocol1=\"f2257_imputed\"\n",
    "phenocol2=\"f2257_exome\"\n",
    "highlight_p_top=5e-08\n",
    "highlight_p_bottom=5e-08\n",
    "pval_filter=5e-08\n",
    "job_size=1\n",
    "container_lmm=$UKBB_PATH/lmm.sif\n",
    "\n",
    "hudson_args=\"\"\"hudson\n",
    "    --cwd $hudson_dir\n",
    "    --sumstats_1 $sumstats_1\n",
    "    --sumstats_2 $sumstats_2\n",
    "    --toptitle $toptitle\n",
    "    --bottomtitle $bottomtitle\n",
    "    --phenocol1 $phenocol1\n",
    "    --phenocol2 $phenocol2\n",
    "    --job_size $job_size\n",
    "    --highlight_p_top $highlight_p_top\n",
    "    --highlight_p_bottom $highlight_p_bottom\n",
    "    --pval_filter $pval_filter\n",
    "    --container_lmm $container_lmm\n",
    "\"\"\"\n",
    "sos run ~/project/bioworkflows/admin/Get_Job_Script.ipynb farnam \\\n",
    "    --template-file $tpl_file \\\n",
    "    --workflow-file $hudson_sos \\\n",
    "    --to-script $hudson_sbatch \\\n",
    "    --args \"$hudson_args\""
   ]
  },
  {
   "cell_type": "markdown",
   "metadata": {
    "kernel": "Bash"
   },
   "source": [
    "## Combined phenotype"
   ]
  },
  {
   "cell_type": "code",
   "execution_count": 8,
   "metadata": {
    "kernel": "Bash"
   },
   "outputs": [
    {
     "name": "stdout",
     "output_type": "stream",
     "text": [
      "INFO: Running \u001b[32mfarnam\u001b[0m: Configuration for Yale `farnam` cluster\n",
      "INFO: \u001b[32mfarnam\u001b[0m is \u001b[32mcompleted\u001b[0m.\n",
      "INFO: \u001b[32mfarnam\u001b[0m output:   \u001b[32m../output/2021-02-03_f2247_f2257_imp_exome_hudson.sbatch\u001b[0m\n",
      "INFO: Workflow farnam (ID=w093ec0ac945b39c0) is executed successfully with 1 completed step.\n",
      "\n"
     ]
    }
   ],
   "source": [
    "tpl_file=../farnam.yml\n",
    "hudson_sos=~/project/bioworkflows/admin/Hudson_plot.ipynb\n",
    "hudson_dir=$UKBB_PATH/results/hudson_plots\n",
    "hudson_sbatch=../output/$(date +\"%Y-%m-%d\")_f2247_f2257_imp_exome_hudson.sbatch\n",
    "sumstats_1=$UKBB_PATH/results/FastGWA_results/results_imputed_data/f2247_f2257_combined/200828_UKBB_f2247_f2257_f2247_f2257.fastGWA.snp_stats.gz\n",
    "sumstats_2=$UKBB_PATH/results/REGENIE_results/results_exome_data/f2247_f2257_combined_exomes/010421_UKBB_f2247_f2257_136862ind_exomes_f2247_f2257.regenie.snp_stats.gz\n",
    "toptitle=\"Combined_f2247_f2257_imputed\"\n",
    "bottomtitle=\"Combined_f2247_f2257_exome\"\n",
    "phenocol1=\"f2247_f2257_imputed\"\n",
    "phenocol2=\"f2247_f2257_exome\"\n",
    "highlight_p_top=5e-08\n",
    "highlight_p_bottom=5e-08\n",
    "pval_filter=5e-08\n",
    "job_size=1\n",
    "container_lmm=$UKBB_PATH/lmm.sif\n",
    "\n",
    "hudson_args=\"\"\"hudson\n",
    "    --cwd $hudson_dir\n",
    "    --sumstats_1 $sumstats_1\n",
    "    --sumstats_2 $sumstats_2\n",
    "    --toptitle $toptitle\n",
    "    --bottomtitle $bottomtitle\n",
    "    --phenocol1 $phenocol1\n",
    "    --phenocol2 $phenocol2\n",
    "    --job_size $job_size\n",
    "    --highlight_p_top $highlight_p_top\n",
    "    --highlight_p_bottom $highlight_p_bottom\n",
    "    --pval_filter $pval_filter\n",
    "    --container_lmm $container_lmm\n",
    "\"\"\"\n",
    "sos run ~/project/bioworkflows/admin/Get_Job_Script.ipynb farnam \\\n",
    "    --template-file $tpl_file \\\n",
    "    --workflow-file $hudson_sos \\\n",
    "    --to-script $hudson_sbatch \\\n",
    "    --args \"$hudson_args\""
   ]
  },
  {
   "cell_type": "markdown",
   "metadata": {
    "kernel": "Bash"
   },
   "source": [
    "## f3393 exome and imputed data"
   ]
  },
  {
   "cell_type": "code",
   "execution_count": 3,
   "metadata": {
    "kernel": "Bash"
   },
   "outputs": [
    {
     "name": "stdout",
     "output_type": "stream",
     "text": [
      "INFO: Running \u001b[32mfarnam\u001b[0m: Configuration for Yale `farnam` cluster\n",
      "INFO: \u001b[32mfarnam\u001b[0m is \u001b[32mcompleted\u001b[0m.\n",
      "INFO: \u001b[32mfarnam\u001b[0m output:   \u001b[32m../output/2021-02-03_f3393_imp_exome_hudson.sbatch\u001b[0m\n",
      "INFO: Workflow farnam (ID=w7da36fe5bdb68b67) is executed successfully with 1 completed step.\n",
      "\n"
     ]
    }
   ],
   "source": [
    "tpl_file=../farnam.yml\n",
    "hudson_sos=~/project/bioworkflows/admin/Hudson_plot.ipynb\n",
    "hudson_dir=$UKBB_PATH/results/hudson_plots\n",
    "hudson_sbatch=../output/$(date +\"%Y-%m-%d\")_f3393_imp_exome_hudson.sbatch\n",
    "sumstats_1=$UKBB_PATH/results/FastGWA_results/results_imputed_data/f3393_hearing_aid/200828_UKBB_Hearing_aid_f3393_hearing_aid_cat.fastGWA.snp_stats.gz\n",
    "sumstats_2=$UKBB_PATH/results/REGENIE_results/results_exome_data/f3393_hearing_aid_exomes/010421_UKBB_Hearing_aid_f3393_128254ind_exomes_hearing_aid_cat.regenie.snp_stats.gz\n",
    "toptitle=\"f3393_imputed\"\n",
    "bottomtitle=\"f3393_exome\"\n",
    "phenocol1=\"f3393_imputed\"\n",
    "phenocol2=\"f3393_exome\"\n",
    "highlight_p_top=5e-08\n",
    "highlight_p_bottom=5e-08\n",
    "pval_filter=5e-08\n",
    "job_size=1\n",
    "container_lmm=$UKBB_PATH/lmm.sif\n",
    "\n",
    "hudson_args=\"\"\"hudson\n",
    "    --cwd $hudson_dir\n",
    "    --sumstats_1 $sumstats_1\n",
    "    --sumstats_2 $sumstats_2\n",
    "    --toptitle $toptitle\n",
    "    --bottomtitle $bottomtitle\n",
    "    --phenocol1 $phenocol1\n",
    "    --phenocol2 $phenocol2\n",
    "    --job_size $job_size\n",
    "    --highlight_p_top $highlight_p_top\n",
    "    --highlight_p_bottom $highlight_p_bottom\n",
    "    --pval_filter $pval_filter\n",
    "    --container_lmm $container_lmm\n",
    "\"\"\"\n",
    "sos run ~/project/bioworkflows/admin/Get_Job_Script.ipynb farnam \\\n",
    "    --template-file $tpl_file \\\n",
    "    --workflow-file $hudson_sos \\\n",
    "    --to-script $hudson_sbatch \\\n",
    "    --args \"$hudson_args\""
   ]
  },
  {
   "cell_type": "markdown",
   "metadata": {
    "kernel": "Bash"
   },
   "source": [
    "# 6. Fine mapping"
   ]
  },
  {
   "cell_type": "markdown",
   "metadata": {
    "kernel": "Bash"
   },
   "source": [
    "## f.3391 hearing aid"
   ]
  },
  {
   "cell_type": "code",
   "execution_count": 1,
   "metadata": {
    "kernel": "Bash"
   },
   "outputs": [
    {
     "name": "stdout",
     "output_type": "stream",
     "text": [
      "INFO: Running \u001b[32mfarnam\u001b[0m: Configuration for Yale `farnam` cluster\n",
      "INFO: \u001b[32mfarnam\u001b[0m is \u001b[32mcompleted\u001b[0m.\n",
      "INFO: \u001b[32mfarnam\u001b[0m output:   \u001b[32m../output/2020-10-15_f3393_hearing_aid_susie.sbatch\u001b[0m\n",
      "INFO: Workflow farnam (ID=fdf18b3eb0fe563d) is executed successfully with 1 completed step.\n",
      "\n"
     ]
    }
   ],
   "source": [
    "tpl_file=../farnam.yml\n",
    "finemap_sos=~/project/UKBB_GWAS_dev/SuSiE_RSS.ipynb\n",
    "finemap_dir=$UKBB_PATH/results/fine_mapping/f3393_hearing_aid\n",
    "finemap_sbatch=../output/$(date +\"%Y-%m-%d\")_f3393_hearing_aid_susie.sbatch\n",
    "sumstatFile=$UKBB_PATH/results/region_extraction/f3393_hearing_aid/10_126783170_126813028/200828_UKBB_Hearing_aid_f3393_hearing_aid_cat.fastGWA.snp_stats_10_126783170_126813028.sumstats.gz\n",
    "ldFile=$UKBB_PATH/results/region_extraction/f3393_hearing_aid/10_126783170_126813028/200828_UKBB_Hearing_aid_f3393_hearing_aid_cat.fastGWA.snp_stats_10_126783170_126813028.sample_ld.gz\n",
    "N=230411\n",
    "job_size=1\n",
    "container_lmm=$UKBB_PATH/lmm.sif\n",
    "\n",
    "finemap_args=\"\"\"default\n",
    "    --cwd $finemap_dir\n",
    "    --sumstatFile $sumstatFile\n",
    "    --ldFile $ldFile\n",
    "    --N $N\n",
    "    --job_size $job_size\n",
    "    --container_lmm $container_lmm\n",
    "\"\"\"\n",
    "sos run ~/project/bioworkflows/admin/Get_Job_Script.ipynb farnam \\\n",
    "    --template-file $tpl_file \\\n",
    "    --workflow-file $finemap_sos \\\n",
    "    --to-script $finemap_sbatch \\\n",
    "    --args \"$finemap_args\""
   ]
  },
  {
   "cell_type": "markdown",
   "metadata": {
    "kernel": "Bash"
   },
   "source": [
    "# 7. Mendelian-like phenotype with UKBB 200K exome data (plink_geno_mind)"
   ]
  },
  {
   "cell_type": "code",
   "execution_count": 3,
   "metadata": {
    "kernel": "Bash"
   },
   "outputs": [
    {
     "name": "stdout",
     "output_type": "stream",
     "text": [
      "INFO: Running \u001b[32mcsg\u001b[0m: Configuration for Columbia csg partition cluster\n",
      "INFO: \u001b[32mcsg\u001b[0m is \u001b[32mcompleted\u001b[0m.\n",
      "INFO: \u001b[32mcsg\u001b[0m output:   \u001b[32m/home/dmc2245/project/UKBB_GWAS_dev/output/mendelian_like_exomes200K_ctrl_na-regenie_2021-07-30.sbatch\u001b[0m\n",
      "INFO: Workflow csg (ID=w31f7be3d104e7443) is executed successfully with 1 completed step.\n",
      "\n"
     ]
    }
   ],
   "source": [
    "# Run using all controls for f3393 \n",
    "lmm_dir_regenie=$lmm_exome_dir_regenie/mendelian_like_exomes200K_ctrl_na\n",
    "lmm_sbatch_regenie=$USER_PATH/UKBB_GWAS_dev/output/mendelian_like_exomes200K_ctrl_na-regenie_$(date +\"%Y-%m-%d\").sbatch\n",
    "phenoFile=$hearing_pheno_path/full_mendilian-like_pheno_file.tsv\n",
    "covarFile=$hearing_pheno_path/full_mendilian-like_pheno_file.tsv\n",
    "phenoCol=mendilian-like\n",
    "covarCol=sex\n",
    "#qCovarCol=age_final_aid\n",
    "genoFile=`echo /mnt/mfs/statgen/UKBiobank/data/exome_files/project_VCF/plink_files/plink_geno_mind/ukb23156_c{1..22}.merged.filtered.bed`\n",
    "#Use the original bed files for the genotype array for the expanded white on regenie step1\n",
    "bfile=$UKBB_PATH/data/genotype_files/UKB_expandedwhite_qcgenotypefiles/UKB_expandedwhiteonly_phenotypeindepqc_410905indiv_528206snps_102720.bed\n",
    "\n",
    "lmm_args=\"\"\"regenie\n",
    "    --cwd $lmm_dir_regenie \n",
    "    --bfile $bfile \n",
    "    --genoFile $genoFile\n",
    "    --sampleFile $sampleFile\n",
    "    --phenoFile $phenoFile \n",
    "    --formatFile $formatFile_regenie \n",
    "    --phenoCol $phenoCol\n",
    "    --covarCol $covarCol  \n",
    "    --qCovarCol $qCovarCol\n",
    "    --bsize $bsize\n",
    "    --lowmem_dir $lowmem_dir\n",
    "    --trait $trait \n",
    "    --bgenMinMAF $bgenMinMAF \n",
    "    --bgenMinINFO $bgenMinINFO\n",
    "    --maf_filter $maf_filter\n",
    "    --geno_filter $geno_filter\n",
    "    --hwe_filter $hwe_filter\n",
    "    --mind_filter $mind_filter\n",
    "    --minMAC $minMAC\n",
    "    --job_size $lmm_job_size\n",
    "    --ylim $ylim\n",
    "    --reverse_log_p $reverse_log_p\n",
    "    --numThreads $numThreads\n",
    "    --container_lmm $container_lmm\n",
    "    --container_marp $container_marp\n",
    "\"\"\"\n",
    "\n",
    "sos run ~/project/bioworkflows/admin/Get_Job_Script.ipynb csg \\\n",
    "    --template-file $tpl_file \\\n",
    "    --workflow-file $lmm_sos \\\n",
    "    --to-script $lmm_sbatch_regenie \\\n",
    "    --args \"$lmm_args\""
   ]
  },
  {
   "cell_type": "markdown",
   "metadata": {
    "kernel": "Bash"
   },
   "source": [
    "## Regenie imputed data: Expanded white control NA (08/10/21 analysis)\n",
    "\n",
    "#### Analysis for f2247 & f2257 (080421)\n"
   ]
  },
  {
   "cell_type": "code",
   "execution_count": null,
   "metadata": {
    "kernel": "Bash"
   },
   "outputs": [],
   "source": [
    "lmm_dir_regenie=$lmm_imp_dir_regenie/081021_Combined_f2247_f2257\n",
    "lmm_sbatch_regenie=$USER_PATH/UKBB_GWAS_dev/output/$(date +\"%Y-%m-%d\")_Combined_f2247_f2257-regenie.sbatch\n",
    "phenoFile=$hearing_pheno_path/080421_UKBB_Combined_f2247_f2257_expandedwhite_39049cases_98082ctrl\n",
    "covarFile=$hearing_pheno_path/080421_UKBB_Combined_f2247_f2257_expandedwhite_39049cases_98082ctrl\n",
    "phenoCol=f2247_f2257\n",
    "covarCol=sex\n",
    "qCovarCol=age\n",
    "genoFile=`echo $UKBB_PATH/genotype_files/ukb39554_imputeddataset/ukb_imp_chr{1..22}_v3.bgen`\n",
    "sampleFile=$UKBB_PATH/genotype_files/ukb39554_imputeddataset/ukb32285_imputedindiv.sample\n",
    "\n",
    "#Use the original bed files for the genotype array on regenie step1\n",
    "bfile=$UKBB_PATH/genotype_files/pleiotropy_geneticfiles/UKB_expandedwhite_qcgenotypefiles/UKB_expandedwhiteonly_phenotypeindepqc_410905indiv_528206snps_102720.bed\n",
    "\n",
    "lmm_args=\"\"\"regenie\n",
    "    --cwd $lmm_dir_regenie \n",
    "    --bfile $bfile \n",
    "    --genoFile $genoFile\n",
    "    --sampleFile $sampleFile\n",
    "    --phenoFile $phenoFile \n",
    "    --formatFile $formatFile_regenie \n",
    "    --phenoCol $phenoCol\n",
    "    --covarCol $covarCol  \n",
    "    --qCovarCol $qCovarCol\n",
    "    --bsize $bsize\n",
    "    --lowmem_dir $lowmem_dir\n",
    "    --trait $trait \n",
    "    --bgenMinMAF $bgenMinMAF \n",
    "    --bgenMinINFO $bgenMinINFO\n",
    "    --maf_filter $maf_filter\n",
    "    --geno_filter $geno_filter\n",
    "    --hwe_filter $hwe_filter\n",
    "    --mind_filter $mind_filter\n",
    "    --minMAC $minMAC\n",
    "    --job_size $lmm_job_size\n",
    "    --ylim $ylim\n",
    "    --reverse_log_p $reverse_log_p\n",
    "    --numThreads $numThreads\n",
    "    --container_lmm $container_lmm\n",
    "    --container_marp $container_marp\n",
    "\"\"\"\n",
    "\n",
    "sos run ~/project/bioworkflows/admin/Get_Job_Script.ipynb csg \\\n",
    "    --template-file $tpl_file \\\n",
    "    --workflow-file $lmm_sos \\\n",
    "    --to-script $lmm_sbatch_regenie \\\n",
    "    --args \"$lmm_args\""
   ]
  },
  {
   "cell_type": "markdown",
   "metadata": {
    "kernel": "Bash"
   },
   "source": [
    "#### Analysis for Hearing_aid_f3393 (080421)"
   ]
  },
  {
   "cell_type": "code",
   "execution_count": null,
   "metadata": {
    "kernel": "Bash"
   },
   "outputs": [],
   "source": [
    "lmm_dir_regenie=$lmm_imp_dir_regenie/081021_Hearing_aid_f3393\n",
    "lmm_sbatch_regenie=$USER_PATH/UKBB_GWAS_dev/output/$(date +\"%Y-%m-%d\")_Hearing_aid_f3393-regenie.sbatch\n",
    "phenoFile=$hearing_pheno_path/080421_UKBB_Hearing_aid_f3393_expandedwhite_6305cases_98082ctrl\n",
    "covarFile=$hearing_pheno_path/080421_UKBB_Hearing_aid_f3393_expandedwhite_6305cases_98082ctrl\n",
    "phenoCol=f3393\n",
    "covarCol=sex\n",
    "qCovarCol=age\n",
    "genoFile=`echo $UKBB_PATH/genotype_files/ukb39554_imputeddataset/ukb_imp_chr{1..22}_v3.bgen`\n",
    "sampleFile=$UKBB_PATH/genotype_files/ukb39554_imputeddataset/ukb32285_imputedindiv.sample\n",
    "\n",
    "#Use the original bed files for the genotype array on regenie step1\n",
    "bfile=$UKBB_PATH/genotype_files/pleiotropy_geneticfiles/UKB_expandedwhite_qcgenotypefiles/UKB_expandedwhiteonly_phenotypeindepqc_410905indiv_528206snps_102720.bed\n",
    "\n",
    "lmm_args=\"\"\"regenie\n",
    "    --cwd $lmm_dir_regenie \n",
    "    --bfile $bfile \n",
    "    --genoFile $genoFile\n",
    "    --sampleFile $sampleFile\n",
    "    --phenoFile $phenoFile \n",
    "    --formatFile $formatFile_regenie \n",
    "    --phenoCol $phenoCol\n",
    "    --covarCol $covarCol  \n",
    "    --qCovarCol $qCovarCol\n",
    "    --bsize $bsize\n",
    "    --lowmem_dir $lowmem_dir\n",
    "    --trait $trait \n",
    "    --bgenMinMAF $bgenMinMAF \n",
    "    --bgenMinINFO $bgenMinINFO\n",
    "    --maf_filter $maf_filter\n",
    "    --geno_filter $geno_filter\n",
    "    --hwe_filter $hwe_filter\n",
    "    --mind_filter $mind_filter\n",
    "    --minMAC $minMAC\n",
    "    --job_size $lmm_job_size\n",
    "    --ylim $ylim\n",
    "    --reverse_log_p $reverse_log_p\n",
    "    --numThreads $numThreads\n",
    "    --container_lmm $container_lmm\n",
    "    --container_marp $container_marp\n",
    "\"\"\"\n",
    "\n",
    "sos run ~/project/bioworkflows/admin/Get_Job_Script.ipynb csg \\\n",
    "    --template-file $tpl_file \\\n",
    "    --workflow-file $lmm_sos \\\n",
    "    --to-script $lmm_sbatch_regenie \\\n",
    "    --args \"$lmm_args\""
   ]
  },
  {
   "cell_type": "markdown",
   "metadata": {
    "kernel": "Bash"
   },
   "source": [
    "#### Hearing_difficulty_f2247"
   ]
  },
  {
   "cell_type": "code",
   "execution_count": null,
   "metadata": {
    "kernel": "Bash"
   },
   "outputs": [],
   "source": [
    "lmm_dir_regenie=$lmm_imp_dir_regenie/081021_Hearing_difficulty_f2247\n",
    "lmm_sbatch_regenie=$USER_PATH/UKBB_GWAS_dev/output/$(date +\"%Y-%m-%d\")_Hearing_difficulty_f2247-regenie.sbatch\n",
    "phenoFile=$hearing_pheno_path/080421_UKBB_Hearing_difficulty_f2247_expandedwhite_46237cases_98082ctrl\n",
    "covarFile=$hearing_pheno_path/080421_UKBB_Hearing_difficulty_f2247_expandedwhite_46237cases_98082ctrl\n",
    "phenoCol=f2247\n",
    "covarCol=sex\n",
    "qCovarCol=age\n",
    "genoFile=`echo $UKBB_PATH/genotype_files/ukb39554_imputeddataset/ukb_imp_chr{1..22}_v3.bgen`\n",
    "sampleFile=$UKBB_PATH/genotype_files/ukb39554_imputeddataset/ukb32285_imputedindiv.sample\n",
    "\n",
    "#Use the original bed files for the genotype array on regenie step1\n",
    "bfile=$UKBB_PATH/genotype_files/pleiotropy_geneticfiles/UKB_expandedwhite_qcgenotypefiles/UKB_expandedwhiteonly_phenotypeindepqc_410905indiv_528206snps_102720.bed\n",
    "\n",
    "lmm_args=\"\"\"regenie\n",
    "    --cwd $lmm_dir_regenie \n",
    "    --bfile $bfile \n",
    "    --genoFile $genoFile\n",
    "    --sampleFile $sampleFile\n",
    "    --phenoFile $phenoFile \n",
    "    --formatFile $formatFile_regenie \n",
    "    --phenoCol $phenoCol\n",
    "    --covarCol $covarCol  \n",
    "    --qCovarCol $qCovarCol\n",
    "    --bsize $bsize\n",
    "    --lowmem_dir $lowmem_dir\n",
    "    --trait $trait \n",
    "    --bgenMinMAF $bgenMinMAF \n",
    "    --bgenMinINFO $bgenMinINFO\n",
    "    --maf_filter $maf_filter\n",
    "    --geno_filter $geno_filter\n",
    "    --hwe_filter $hwe_filter\n",
    "    --mind_filter $mind_filter\n",
    "    --minMAC $minMAC\n",
    "    --job_size $lmm_job_size\n",
    "    --ylim $ylim\n",
    "    --reverse_log_p $reverse_log_p\n",
    "    --numThreads $numThreads\n",
    "    --container_lmm $container_lmm\n",
    "    --container_marp $container_marp\n",
    "\"\"\"\n",
    "\n",
    "sos run ~/project/bioworkflows/admin/Get_Job_Script.ipynb csg \\\n",
    "    --template-file $tpl_file \\\n",
    "    --workflow-file $lmm_sos \\\n",
    "    --to-script $lmm_sbatch_regenie \\\n",
    "    --args \"$lmm_args\""
   ]
  },
  {
   "cell_type": "markdown",
   "metadata": {
    "kernel": "Bash"
   },
   "source": [
    "#### Hearing_noise_f2257"
   ]
  },
  {
   "cell_type": "code",
   "execution_count": null,
   "metadata": {
    "kernel": "Bash"
   },
   "outputs": [],
   "source": [
    "lmm_dir_regenie=$lmm_imp_dir_regenie/081021_Hearing_noise_f2257\n",
    "lmm_sbatch_regenie=$USER_PATH/UKBB_GWAS_dev/output/$(date +\"%Y-%m-%d\")_Hearing_noise_f2257-regenie.sbatch\n",
    "phenoFile=$hearing_pheno_path/080421_UKBB_Hearing_noise_f2257_expandedwhite_66656cases_98082ctrl\n",
    "covarFile=$hearing_pheno_path/080421_UKBB_Hearing_noise_f2257_expandedwhite_66656cases_98082ctrl\n",
    "phenoCol=f2257\n",
    "covarCol=sex\n",
    "qCovarCol=age\n",
    "genoFile=`echo $UKBB_PATH/genotype_files/ukb39554_imputeddataset/ukb_imp_chr{1..22}_v3.bgen`\n",
    "sampleFile=$UKBB_PATH/genotype_files/ukb39554_imputeddataset/ukb32285_imputedindiv.sample\n",
    "\n",
    "#Use the original bed files for the genotype array on regenie step1\n",
    "bfile=$UKBB_PATH/genotype_files/pleiotropy_geneticfiles/UKB_expandedwhite_qcgenotypefiles/UKB_expandedwhiteonly_phenotypeindepqc_410905indiv_528206snps_102720.bed\n",
    "\n",
    "lmm_args=\"\"\"regenie\n",
    "    --cwd $lmm_dir_regenie \n",
    "    --bfile $bfile \n",
    "    --genoFile $genoFile\n",
    "    --sampleFile $sampleFile\n",
    "    --phenoFile $phenoFile \n",
    "    --formatFile $formatFile_regenie \n",
    "    --phenoCol $phenoCol\n",
    "    --covarCol $covarCol  \n",
    "    --qCovarCol $qCovarCol\n",
    "    --bsize $bsize\n",
    "    --lowmem_dir $lowmem_dir\n",
    "    --trait $trait \n",
    "    --bgenMinMAF $bgenMinMAF \n",
    "    --bgenMinINFO $bgenMinINFO\n",
    "    --maf_filter $maf_filter\n",
    "    --geno_filter $geno_filter\n",
    "    --hwe_filter $hwe_filter\n",
    "    --mind_filter $mind_filter\n",
    "    --minMAC $minMAC\n",
    "    --job_size $lmm_job_size\n",
    "    --ylim $ylim\n",
    "    --reverse_log_p $reverse_log_p\n",
    "    --numThreads $numThreads\n",
    "    --container_lmm $container_lmm\n",
    "    --container_marp $container_marp\n",
    "\"\"\"\n",
    "\n",
    "sos run ~/project/bioworkflows/admin/Get_Job_Script.ipynb csg \\\n",
    "    --template-file $tpl_file \\\n",
    "    --workflow-file $lmm_sos \\\n",
    "    --to-script $lmm_sbatch_regenie \\\n",
    "    --args \"$lmm_args\""
   ]
  },
  {
   "cell_type": "markdown",
   "metadata": {
    "kernel": "Bash"
   },
   "source": [
    "#### Mendelian"
   ]
  },
  {
   "cell_type": "code",
   "execution_count": null,
   "metadata": {
    "kernel": "Bash"
   },
   "outputs": [],
   "source": [
    "lmm_dir_regenie=$lmm_imp_dir_regenie/081021_Mendelian\n",
    "lmm_sbatch_regenie=$USER_PATH/UKBB_GWAS_dev/output/$(date +\"%Y-%m-%d\")_Mendelian-regenie.sbatch\n",
    "phenoFile=$hearing_pheno_path/080421_UKBB_Mendelian_expandedwhite_1520cases_98082ctrl\n",
    "covarFile=$hearing_pheno_path/080421_UKBB_Mendelian_expandedwhite_1520cases_98082ctrl\n",
    "phenoCol=mendelian\n",
    "covarCol=sex\n",
    "qCovarCol=age\n",
    "genoFile=`echo $UKBB_PATH/genotype_files/ukb39554_imputeddataset/ukb_imp_chr{1..22}_v3.bgen`\n",
    "sampleFile=$UKBB_PATH/genotype_files/ukb39554_imputeddataset/ukb32285_imputedindiv.sample\n",
    "\n",
    "#Use the original bed files for the genotype array on regenie step1\n",
    "bfile=$UKBB_PATH/genotype_files/pleiotropy_geneticfiles/UKB_expandedwhite_qcgenotypefiles/UKB_expandedwhiteonly_phenotypeindepqc_410905indiv_528206snps_102720.bed\n",
    "\n",
    "lmm_args=\"\"\"regenie\n",
    "    --cwd $lmm_dir_regenie \n",
    "    --bfile $bfile \n",
    "    --genoFile $genoFile\n",
    "    --sampleFile $sampleFile\n",
    "    --phenoFile $phenoFile \n",
    "    --formatFile $formatFile_regenie \n",
    "    --phenoCol $phenoCol\n",
    "    --covarCol $covarCol  \n",
    "    --qCovarCol $qCovarCol\n",
    "    --bsize $bsize\n",
    "    --lowmem_dir $lowmem_dir\n",
    "    --trait $trait \n",
    "    --bgenMinMAF $bgenMinMAF \n",
    "    --bgenMinINFO $bgenMinINFO\n",
    "    --maf_filter $maf_filter\n",
    "    --geno_filter $geno_filter\n",
    "    --hwe_filter $hwe_filter\n",
    "    --mind_filter $mind_filter\n",
    "    --minMAC $minMAC\n",
    "    --job_size $lmm_job_size\n",
    "    --ylim $ylim\n",
    "    --reverse_log_p $reverse_log_p\n",
    "    --numThreads $numThreads\n",
    "    --container_lmm $container_lmm\n",
    "    --container_marp $container_marp\n",
    "\"\"\"\n",
    "\n",
    "sos run ~/project/bioworkflows/admin/Get_Job_Script.ipynb csg \\\n",
    "    --template-file $tpl_file \\\n",
    "    --workflow-file $lmm_sos \\\n",
    "    --to-script $lmm_sbatch_regenie \\\n",
    "    --args \"$lmm_args\""
   ]
  }
 ],
 "metadata": {
  "kernelspec": {
   "display_name": "SoS",
   "language": "sos",
   "name": "sos"
  },
  "language_info": {
   "codemirror_mode": "sos",
   "file_extension": ".sos",
   "mimetype": "text/x-sos",
   "name": "sos",
   "nbconvert_exporter": "sos_notebook.converter.SoS_Exporter",
   "pygments_lexer": "sos"
  },
  "sos": {
   "kernels": [
    [
     "Bash",
     "calysto_bash",
     "Bash",
     "#E6EEFF",
     ""
    ]
   ],
   "version": "0.22.3"
  }
 },
 "nbformat": 4,
 "nbformat_minor": 4
}
